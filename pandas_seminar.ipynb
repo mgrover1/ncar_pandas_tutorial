{
 "cells": [
  {
   "cell_type": "markdown",
   "id": "69075540-138c-4a6c-907a-5d04b345ad7e",
   "metadata": {},
   "source": [
    "\n",
    "\n",
    "# Introduction to Pandas\n",
    "\n",
    "![pandas Logo](https://github.com/pandas-dev/pandas/raw/master/web/pandas/static/img/pandas.svg \"pandas Logo\")\n",
    "\n",
    "## Questions\n",
    "1. What are the important pandas data structures?\n",
    "1. How do I interact with these?\n",
    "1. What else can pandas do for me?"
   ]
  },
  {
   "cell_type": "code",
   "execution_count": null,
   "id": "b2e06b71-f8b7-4f55-a1cd-cb90ed5f14c7",
   "metadata": {},
   "outputs": [],
   "source": [
    "import pandas as pd"
   ]
  },
  {
   "cell_type": "markdown",
   "id": "a403b940-9269-4d2d-ba2b-4bf122a546b0",
   "metadata": {},
   "source": [
    "## The pandas [`DataFrame`](https://pandas.pydata.org/docs/user_guide/dsintro.html#dataframe)...\n",
    "... is a **labeled**, two dimensional columnal structure similar to a table, spreadsheet, or the R `data.frame`.\n",
    "\n",
    "![dataframe schematic](https://github.com/pandas-dev/pandas/raw/master/doc/source/_static/schemas/01_table_dataframe.svg \"Schematic of a pandas DataFrame\")\n",
    "\n",
    "The `columns` that make up our `DataFrame` can be lists, dictionaries, NumPy arrays, pandas `Series`, or more. Within these `columns` our data can be any texts, numbers, dates and times, or many other data types you may have encountered in Python and NumPy. Shown here on the left in dark gray, our very first `column`  is uniquely referrred to as an `Index`, and this contains information characterizing each row of our `DataFrame`. Similar to any other `column`, the `index` can label our rows by text, numbers, `datetime`s (a popular one!), or more.\n",
    "\n",
    "Let's take a look by reading in some `.csv` data [[ref](https://www.ncdc.noaa.gov/teleconnections/enso/indicators/sst/)]."
   ]
  },
  {
   "cell_type": "code",
   "execution_count": null,
   "id": "8a744cbf-9bb6-4da4-90d3-31c737c771d3",
   "metadata": {},
   "outputs": [],
   "source": [
    "df = pd.read_csv('enso_data.csv')\n",
    "\n",
    "df"
   ]
  },
  {
   "cell_type": "code",
   "execution_count": null,
   "id": "ab4e8cc9-d302-4294-aeb8-5479863a0643",
   "metadata": {},
   "outputs": [],
   "source": [
    "df.index"
   ]
  },
  {
   "cell_type": "markdown",
   "id": "88fe487a-d018-49a7-adb4-e6861629e93a",
   "metadata": {},
   "source": [
    "Our indexing column isn't particularly helpful currently. pandas is clever! A few optional keyword arguments later, and..."
   ]
  },
  {
   "cell_type": "code",
   "execution_count": null,
   "id": "4569d92d-9aa4-4497-87dc-31f2745d0bfa",
   "metadata": {},
   "outputs": [],
   "source": [
    "df = pd.read_csv('enso_data.csv', index_col=0, parse_dates=True)"
   ]
  },
  {
   "cell_type": "code",
   "execution_count": null,
   "id": "2d681954-9562-444f-a9b9-d47d33ec8389",
   "metadata": {},
   "outputs": [],
   "source": [
    "df.index"
   ]
  },
  {
   "cell_type": "markdown",
   "id": "4d12d09c-9828-411e-b64a-c495c8d9584e",
   "metadata": {},
   "source": [
    "... now we have our data helpfully organized by a proper `datetime`-like object. Each of our multiple columns of data can now be referenced by their date! This sneak preview at the pandas `DatetimeIndex` also unlocks for us much of pandas most useful time series functionality. Don't worry, we'll get there. What are the actual columns of data we've read in here?"
   ]
  },
  {
   "cell_type": "code",
   "execution_count": null,
   "id": "3383044f-2ae7-4b6e-881a-28f6bebd8ab7",
   "metadata": {},
   "outputs": [],
   "source": [
    "df.columns"
   ]
  },
  {
   "cell_type": "markdown",
   "id": "4f9c76b7-3980-4f4c-ad95-bab783f3dca4",
   "metadata": {},
   "source": [
    "## The pandas [`Series`](https://pandas.pydata.org/docs/user_guide/dsintro.html#series)...\n",
    "\n",
    "... is essentially any one of the columns of our `DataFrame`, with its accompanying `Index` to provide a label for each value in our column.\n",
    "\n",
    "![pandas Series](https://github.com/pandas-dev/pandas/raw/master/doc/source/_static/schemas/01_table_series.svg \"Schematic of a pandas Series\")\n",
    "\n",
    "The pandas `Series` is a fast and capable 1-dimensional array of nearly any data type we could want, and it can behave very similarly to a NumPy `ndarray` or a Python `dict`. You can take a look at any of the `Series` that make up your `DataFrame` with its label and the Python `dict` notation, or with dot-shorthand:"
   ]
  },
  {
   "cell_type": "code",
   "execution_count": null,
   "id": "4ffc1cdb-8895-4109-8175-951837c58cda",
   "metadata": {},
   "outputs": [],
   "source": [
    "df[\"Nino34\"]"
   ]
  },
  {
   "cell_type": "code",
   "execution_count": null,
   "id": "ce6275cd-28cd-42d3-923c-3ed991639782",
   "metadata": {},
   "outputs": [],
   "source": [
    "df.Nino34"
   ]
  },
  {
   "cell_type": "markdown",
   "id": "78f80147-e364-4dd3-8cd4-2d271473a41b",
   "metadata": {},
   "source": [
    "## Investigating the `DataFrame` and `Series`"
   ]
  },
  {
   "cell_type": "markdown",
   "id": "3a290429-bef8-40c8-be51-49fc4aaad8cb",
   "metadata": {},
   "source": [
    "We will expand on what you just saw, soon! Importantly,\n",
    "\n",
    "> **Everything in pandas can be accessed with its label**,\n",
    "\n",
    "no matter how your data is organized.\n",
    "\n",
    "Let's back up a bit here. Once more, let's pull out one `Series` from our `DataFrame` using its column label, and we'll start there."
   ]
  },
  {
   "cell_type": "code",
   "execution_count": null,
   "id": "2b5f9389-e2a9-41eb-b71f-3b8ca3ca57d0",
   "metadata": {},
   "outputs": [],
   "source": [
    "nino34_series = df[\"Nino34\"]\n",
    "\n",
    "nino34_series"
   ]
  },
  {
   "cell_type": "markdown",
   "id": "a47437b9-b992-4eff-a8ea-83debb241334",
   "metadata": {},
   "source": [
    "`Series` can be indexed, selected, and subset as both `ndarray`-like,"
   ]
  },
  {
   "cell_type": "code",
   "execution_count": null,
   "id": "93bcd5a6-2f03-4f01-9c2b-75e5b4d844ca",
   "metadata": {},
   "outputs": [],
   "source": [
    "nino34_series[3]"
   ]
  },
  {
   "cell_type": "markdown",
   "id": "6b5d4e34-cfaf-4a4f-9656-8f184b72e16d",
   "metadata": {},
   "source": [
    "and `dict`-like, using labels"
   ]
  },
  {
   "cell_type": "code",
   "execution_count": null,
   "id": "9fe683ed-ef1b-487f-afa8-bb0db4154d87",
   "metadata": {},
   "outputs": [],
   "source": [
    "nino34_series[\"1982-04-01\"]"
   ]
  },
  {
   "cell_type": "markdown",
   "id": "34a0b292-8252-4204-981b-c90fece899e6",
   "metadata": {},
   "source": [
    "and these can be extended in both ways you might expect and ways you might not:"
   ]
  },
  {
   "cell_type": "code",
   "execution_count": null,
   "id": "6e60fe4a-536e-40ed-ae3e-ba8e9847f31d",
   "metadata": {},
   "outputs": [],
   "source": [
    "# numpy-like interval slices\n",
    "nino34_series[0:12]"
   ]
  },
  {
   "cell_type": "code",
   "execution_count": null,
   "id": "8e707730-f948-4c12-b5d4-79ce2a4a90ed",
   "metadata": {},
   "outputs": [],
   "source": [
    "# label-based slicing\n",
    "nino34_series[\"1982-01-01\":\"1982-12-01\"]"
   ]
  },
  {
   "cell_type": "code",
   "execution_count": null,
   "id": "4cfbaf1e-7490-443d-a3e5-0c923834a646",
   "metadata": {},
   "outputs": [],
   "source": [
    "# another way of slicing - you might recognize this from xarray\n",
    "nino34_series[slice(\"1982-01-01\",\"1982-12-01\")]"
   ]
  },
  {
   "cell_type": "markdown",
   "id": "5ffd85b4",
   "metadata": {},
   "source": [
    "Importantly, label-based slices are **inclusive** of the final value, unlike usual Python indexing rules.\n",
    "\n",
    "Let's introduce pandas-preferred ways to access your data by label, `.loc`, or by index, `.iloc`. They behave similarly to the notation introduced above, but provide more speed, security, and rigor in your value selection, as well as help you avoid [chained assignment warnings](https://pandas.pydata.org/docs/user_guide/indexing.html#returning-a-view-versus-a-copy) within pandas."
   ]
  },
  {
   "cell_type": "code",
   "execution_count": null,
   "id": "88bc7f7f",
   "metadata": {},
   "outputs": [],
   "source": [
    "nino34_series.iloc[3]"
   ]
  },
  {
   "cell_type": "code",
   "execution_count": null,
   "id": "0f820cb4",
   "metadata": {},
   "outputs": [],
   "source": [
    "nino34_series.iloc[0:12]"
   ]
  },
  {
   "cell_type": "code",
   "execution_count": null,
   "id": "e9b66a84",
   "metadata": {},
   "outputs": [],
   "source": [
    "nino34_series.loc[\"1982-04-01\"]"
   ]
  },
  {
   "cell_type": "code",
   "execution_count": null,
   "id": "4caaf1af",
   "metadata": {},
   "outputs": [],
   "source": [
    "nino34_series.loc[\"1982-01-01\":\"1982-12-01\"]"
   ]
  },
  {
   "cell_type": "markdown",
   "id": "47c4eaa5",
   "metadata": {},
   "source": [
    "These capabilities extend back to our original `DataFrame`, as well! There are apparent limitations of the `dict` label notation, e.g."
   ]
  },
  {
   "cell_type": "code",
   "execution_count": null,
   "id": "9381f4d1-e200-4387-9986-15c12b3f026d",
   "metadata": {},
   "outputs": [],
   "source": [
    "df"
   ]
  },
  {
   "cell_type": "code",
   "execution_count": null,
   "id": "b6e5a88b",
   "metadata": {
    "tags": [
     "raises-exception"
    ]
   },
   "outputs": [],
   "source": [
    "df[\"1982-01-01\"]"
   ]
  },
  {
   "cell_type": "markdown",
   "id": "3c2f6c7f",
   "metadata": {},
   "source": [
    "and"
   ]
  },
  {
   "cell_type": "code",
   "execution_count": null,
   "id": "6a72fdde",
   "metadata": {
    "tags": [
     "raises-exception"
    ]
   },
   "outputs": [],
   "source": [
    "df[0]"
   ]
  },
  {
   "cell_type": "markdown",
   "id": "7267eabd",
   "metadata": {},
   "source": [
    "won't work. By default, this notation allows us to pull out any of our columns as their own series, as we demonstrated before."
   ]
  },
  {
   "cell_type": "code",
   "execution_count": null,
   "id": "2ef78098",
   "metadata": {
    "tags": []
   },
   "outputs": [],
   "source": [
    "df[\"Nino34\"]"
   ]
  },
  {
   "cell_type": "markdown",
   "id": "baec94ae",
   "metadata": {},
   "source": [
    "With this plus our knowledge of the `Series` `df[\"Nino34\"]` gives us, we can chain our brackets to pull out any value from any of our columns in `df`."
   ]
  },
  {
   "cell_type": "code",
   "execution_count": null,
   "id": "a4478e43",
   "metadata": {},
   "outputs": [],
   "source": [
    "df[\"Nino34\"][\"1982-04-01\"]  # selecting the Series, then selecting a label within"
   ]
  },
  {
   "cell_type": "code",
   "execution_count": null,
   "id": "f650cda9",
   "metadata": {},
   "outputs": [],
   "source": [
    "df[\"Nino34\"][3]"
   ]
  },
  {
   "cell_type": "markdown",
   "id": "00426bc7",
   "metadata": {},
   "source": [
    "However, this is not a pandas-preferred way to index and subset our data, and has limited capabilities for us. As we touched on before, `.loc` and `.iloc` give us more to work with, and their functionality grows further for `df`."
   ]
  },
  {
   "cell_type": "code",
   "execution_count": null,
   "id": "7a1a0040",
   "metadata": {},
   "outputs": [],
   "source": [
    "df.loc[\"1982-04-01\", \"Nino34\"]  # note [<row>, <column>] ordering\n",
    "df[\"Nino34\"][\"1982-04-01\"]"
   ]
  },
  {
   "cell_type": "markdown",
   "id": "1c35068c",
   "metadata": {},
   "source": [
    "These allow us to pull out entire rows of `df`,"
   ]
  },
  {
   "cell_type": "code",
   "execution_count": null,
   "id": "96f4c8c6",
   "metadata": {},
   "outputs": [],
   "source": [
    "df.loc[\"1982-04-01\"]"
   ]
  },
  {
   "cell_type": "code",
   "execution_count": null,
   "id": "89c0e3df",
   "metadata": {},
   "outputs": [],
   "source": [
    "df.loc[\"1982-01-01\":\"1982-12-01\"]"
   ]
  },
  {
   "cell_type": "code",
   "execution_count": null,
   "id": "b0f72693",
   "metadata": {},
   "outputs": [],
   "source": [
    "df.iloc[3]"
   ]
  },
  {
   "cell_type": "code",
   "execution_count": null,
   "id": "2a995fa6",
   "metadata": {},
   "outputs": [],
   "source": [
    "df.iloc[0:12]"
   ]
  },
  {
   "cell_type": "markdown",
   "id": "2387b321",
   "metadata": {},
   "source": [
    "Even further,"
   ]
  },
  {
   "cell_type": "code",
   "execution_count": null,
   "id": "2ce2ae17",
   "metadata": {},
   "outputs": [],
   "source": [
    "df.loc[\n",
    "    \"1982-01-01\":\"1982-12-01\",              # slice of rows\n",
    "    [\"Nino12\", \"Nino3\", \"Nino4\", \"Nino34\"]  # list of columns\n",
    "]"
   ]
  },
  {
   "cell_type": "markdown",
   "id": "09aa0dbf",
   "metadata": {},
   "source": [
    "We strongly suggest taking a look at some of pandas [rules for indexing](https://pandas.pydata.org/docs/user_guide/indexing.html#), where they demonstrate these further, discuss the limitations, and compare interacting with a `DataFrame` versus a `Series`. Pandas also gives you a few shortcuts to quickly investigate entire `DataFrame`s."
   ]
  },
  {
   "cell_type": "code",
   "execution_count": null,
   "id": "e88bf75f-acf1-4629-9557-d1b23f763044",
   "metadata": {},
   "outputs": [],
   "source": [
    "df.head()"
   ]
  },
  {
   "cell_type": "code",
   "execution_count": null,
   "id": "05ec853b-1173-459e-9228-193671c9486c",
   "metadata": {},
   "outputs": [],
   "source": [
    "df.tail()"
   ]
  },
  {
   "cell_type": "markdown",
   "id": "7c5d4ea1-aa6c-4849-a281-7e24e8103411",
   "metadata": {},
   "source": [
    "## The Powers of pandas\n",
    "\n",
    "### Quick Plots of Your Data\n",
    "A good way to explore your data is by making a simple plot. Pandas allows you to plot without even calling `matplotlib`! Here, we are interested in the `Nino34` series. Check this out..."
   ]
  },
  {
   "cell_type": "code",
   "execution_count": null,
   "id": "f814ba91-1fc6-427c-9f9e-c0634eda7012",
   "metadata": {},
   "outputs": [],
   "source": [
    "df.Nino34.plot();"
   ]
  },
  {
   "cell_type": "markdown",
   "id": "d861ce26-56c3-42e9-847c-e1459b3e5d1f",
   "metadata": {},
   "source": [
    "This can be a great way to take a quick look at your data, but what if you wanted a more ***quantatative*** perspective? Pandas has some handy funtionality for that too!\n",
    "\n",
    "### Statistics\n",
    "\n",
    "By using the `.describe` method, we see some general statistics! Notice how calling this on the dataframe returns a table with all the series"
   ]
  },
  {
   "cell_type": "code",
   "execution_count": null,
   "id": "98de2c4b-70ba-4a6a-8b8c-84d107bdea75",
   "metadata": {},
   "outputs": [],
   "source": [
    "df.describe()"
   ]
  },
  {
   "cell_type": "markdown",
   "id": "95819965-243f-4eb1-ae48-487d69c29aa9",
   "metadata": {},
   "source": [
    "You can look at specific statistics too, such as mean! Notice how the output is a series (column) now"
   ]
  },
  {
   "cell_type": "code",
   "execution_count": null,
   "id": "25c39275-1700-40e6-aa93-e0c830228be4",
   "metadata": {},
   "outputs": [],
   "source": [
    "df.mean()"
   ]
  },
  {
   "cell_type": "markdown",
   "id": "7e416f92-5b5e-4413-aff3-71f227802afe",
   "metadata": {},
   "source": [
    "If you are interested in a single column mean, subset for that and use `.mean`"
   ]
  },
  {
   "cell_type": "code",
   "execution_count": null,
   "id": "42a4b0a4-c4cc-4e77-b695-fc0ebad79f57",
   "metadata": {},
   "outputs": [],
   "source": [
    "df.Nino34.mean()"
   ]
  },
  {
   "cell_type": "markdown",
   "id": "12410a0e-56e5-4ab1-ab1e-c117879dc587",
   "metadata": {},
   "source": [
    "### Other Neat Plotting Functionality\n",
    "Before, we called `.plot()` which generated a single line plot. This is helpful, but there are other plots which can also help with understanding your data! Let's try using a histogram to understand distributions...\n",
    "\n",
    "The only part that changes here is we are subsetting for just two `Nino` indices, and after `.plot`, we include `.hist()` which stands for histogram"
   ]
  },
  {
   "cell_type": "code",
   "execution_count": null,
   "id": "f8482274-d4fe-4475-98c1-c5afa12f087e",
   "metadata": {},
   "outputs": [],
   "source": [
    "df[['Nino12', 'Nino34']].plot.hist();"
   ]
  },
  {
   "cell_type": "markdown",
   "id": "0248ae21-9f2a-4e20-a039-7873222c54ea",
   "metadata": {},
   "source": [
    "We can see some clear differences in the distributions, which is helpful! Another plot one might like to use would be a `boxplot`. Here, we replace `hist` with `box`"
   ]
  },
  {
   "cell_type": "code",
   "execution_count": null,
   "id": "a92c36f3-1e56-4866-bb21-bcd8570d538f",
   "metadata": {},
   "outputs": [],
   "source": [
    "df[['Nino12', 'Nino34']].plot.box();"
   ]
  },
  {
   "cell_type": "markdown",
   "id": "38424d74-61b4-45c0-8681-e40c4f00191e",
   "metadata": {},
   "source": [
    "Here, we again see a clear difference in the distributions. These are not the only plots you can use within pandas! For more examples of plotting choices, check out [the pandas plot documentation](https://pandas.pydata.org/docs/reference/api/pandas.DataFrame.plot.html)"
   ]
  },
  {
   "cell_type": "markdown",
   "id": "4c82d5d6-f32e-4fd1-8d92-be1aadab0763",
   "metadata": {},
   "source": [
    "### Advanced subsetting\n",
    "\n",
    "You may be interested in subsetting beyond slices - here, we provide examples of using a couple other options.\n",
    "\n",
    "Say you only want the month of January - you can use `df.index.month` to query for which month you are interested in (in this case, 1 for the month of January)"
   ]
  },
  {
   "cell_type": "code",
   "execution_count": null,
   "id": "33cd0888-75ad-4dd2-bd8e-94683a80c435",
   "metadata": {},
   "outputs": [],
   "source": [
    "# Uses the datetime column\n",
    "df[df.index.month == 1]"
   ]
  },
  {
   "cell_type": "markdown",
   "id": "2b16dc05-7c04-4099-9e06-73454e543455",
   "metadata": {},
   "source": [
    "You could even assign this month to a new column!"
   ]
  },
  {
   "cell_type": "code",
   "execution_count": null,
   "id": "82aca6a2-0f49-4d35-b3c5-7d1c771bf4bd",
   "metadata": {},
   "outputs": [],
   "source": [
    "df['month'] = df.index.month"
   ]
  },
  {
   "cell_type": "markdown",
   "id": "ac9e0606-18ad-4ec2-a204-50337e422505",
   "metadata": {},
   "source": [
    "Now that it is its own column (series), we can use groupby to group by the month, then taking the average, to determine average monthly values over the dataset"
   ]
  },
  {
   "cell_type": "code",
   "execution_count": null,
   "id": "de77165d-84f2-46d3-9c82-ef3fe1b05a99",
   "metadata": {},
   "outputs": [],
   "source": [
    "df.groupby('month').mean().plot();"
   ]
  },
  {
   "cell_type": "markdown",
   "id": "68473eb4-b2e9-4df2-a9e1-adf507e6ec32",
   "metadata": {},
   "source": [
    "You can also use conditional indexing, such that you can search where rows meet a certain criteria. In this case, we are interested where the Nino34 anomaly is greater than 2"
   ]
  },
  {
   "cell_type": "code",
   "execution_count": null,
   "id": "a7c164c2-b0db-418d-a389-202214c48652",
   "metadata": {},
   "outputs": [],
   "source": [
    "df[df.Nino34anom > 2]"
   ]
  },
  {
   "cell_type": "markdown",
   "id": "11b451be-a9b1-4334-8a41-82e91ddd9f8a",
   "metadata": {},
   "source": [
    "### Resampling"
   ]
  },
  {
   "cell_type": "code",
   "execution_count": null,
   "id": "9d76ba2c-87dd-42bf-acf6-6c5002dc31fe",
   "metadata": {},
   "outputs": [],
   "source": [
    "df.Nino34.plot();"
   ]
  },
  {
   "cell_type": "code",
   "execution_count": null,
   "id": "5e49332c-0942-46c5-a51d-d41b864cdb91",
   "metadata": {},
   "outputs": [],
   "source": [
    "df.Nino34.resample('1Y').mean().plot();"
   ]
  },
  {
   "cell_type": "markdown",
   "id": "a8e797a9-e76c-4f6f-9ff6-7e388e9664d9",
   "metadata": {},
   "source": [
    "### Applying operations to a dataframe\n",
    "\n",
    "Often times, people are interested in applying calculations to data within pandas dataframes. Here, we setup a function to convert from degrees Celsius to Kelvin"
   ]
  },
  {
   "cell_type": "code",
   "execution_count": null,
   "id": "95daccec-17d3-48c3-8472-ed21b93f9d4d",
   "metadata": {},
   "outputs": [],
   "source": [
    "def convert_degc_to_kelvin(temperature_degc):\n",
    "    \"\"\"\n",
    "    Converts from degrees celsius to Kelvin\n",
    "    \"\"\"\n",
    "    \n",
    "    return temperature_degc + 273.15"
   ]
  },
  {
   "cell_type": "markdown",
   "id": "dc8dc438-cad9-4f8b-a9c1-c000ede7ba93",
   "metadata": {},
   "source": [
    "Now, this function works a single value"
   ]
  },
  {
   "cell_type": "code",
   "execution_count": null,
   "id": "7a1827c1-5df9-4a77-8be5-011cbe324d78",
   "metadata": {},
   "outputs": [],
   "source": [
    "# Convert a single value\n",
    "convert_degc_to_kelvin(0)"
   ]
  },
  {
   "cell_type": "markdown",
   "id": "5f2881dd-52ec-449f-b621-e61c01ea275d",
   "metadata": {},
   "source": [
    "But what if we want to apply this to our dataframe? We can subset for Nino34, which is in degrees Celsius"
   ]
  },
  {
   "cell_type": "code",
   "execution_count": null,
   "id": "af3bbd73-0d3a-4ff1-a3bf-7d7eccf3a292",
   "metadata": {},
   "outputs": [],
   "source": [
    "nino34_series"
   ]
  },
  {
   "cell_type": "markdown",
   "id": "b0a6f963-2140-4c42-a9ee-4cd25dd911da",
   "metadata": {},
   "source": [
    "Notice how the object type is a pandas series"
   ]
  },
  {
   "cell_type": "code",
   "execution_count": null,
   "id": "4b73e288-7f0d-4f0b-a5a0-a8118121a235",
   "metadata": {},
   "outputs": [],
   "source": [
    "type(df.Nino12[0:10])"
   ]
  },
  {
   "cell_type": "markdown",
   "id": "c4ce5186-3b76-4c97-9308-dc4fa6ac92a9",
   "metadata": {},
   "source": [
    "If you call `.values`, the object type is now a numpy array. Pandas series values include numpy arrays, and calling `.values` returns the series as a numpy array!"
   ]
  },
  {
   "cell_type": "code",
   "execution_count": null,
   "id": "47b55cc5-829d-40be-8181-ad98f5e5da6b",
   "metadata": {},
   "outputs": [],
   "source": [
    "type(df.Nino12.values[0:10])"
   ]
  },
  {
   "cell_type": "markdown",
   "id": "312a7ff7-428e-4666-ba28-ac748807d91e",
   "metadata": {},
   "source": [
    "Let's apply this calculation to our pandas series, which returns a pandas series"
   ]
  },
  {
   "cell_type": "code",
   "execution_count": null,
   "id": "80674e2f-3611-4f3c-9174-fd516273065c",
   "metadata": {},
   "outputs": [],
   "source": [
    "convert_degc_to_kelvin(nino34_series)"
   ]
  },
  {
   "cell_type": "markdown",
   "id": "838099bf-ce32-4318-b65b-30fc5ee4d8c8",
   "metadata": {},
   "source": [
    "If we include `.values`, it returns a `numpy array`"
   ]
  },
  {
   "cell_type": "code",
   "execution_count": null,
   "id": "46c58581-f620-44b5-b173-5213ce03b06a",
   "metadata": {},
   "outputs": [],
   "source": [
    "convert_degc_to_kelvin(nino34_series.values)"
   ]
  },
  {
   "cell_type": "markdown",
   "id": "57f8bfa9-f772-480c-a85a-692b48d4253f",
   "metadata": {},
   "source": [
    "We can now assign our `pandas series` with the converted temperatures to a new column in our dataframe!"
   ]
  },
  {
   "cell_type": "code",
   "execution_count": null,
   "id": "7ac669fe-af31-4fec-93f8-847054902869",
   "metadata": {},
   "outputs": [],
   "source": [
    "df['Nino34_degK'] = convert_degc_to_kelvin(nino34_series)"
   ]
  },
  {
   "cell_type": "code",
   "execution_count": null,
   "id": "27f20a23-ec1b-412c-949f-538612b1b59d",
   "metadata": {},
   "outputs": [],
   "source": [
    "df.Nino34_degK"
   ]
  },
  {
   "cell_type": "markdown",
   "id": "838671a7-4854-4c4d-9194-05a340eb07b9",
   "metadata": {},
   "source": [
    "Notice how the name of our variable now matches the calculation\n",
    "\n",
    "Now that our analysis is done, we can save our data to a `csv` for later - or share with others!"
   ]
  },
  {
   "cell_type": "code",
   "execution_count": null,
   "id": "8355c568-fb05-4890-88ba-8561693c781f",
   "metadata": {},
   "outputs": [],
   "source": [
    "df.to_csv('nino_analyzed_output.csv')"
   ]
  },
  {
   "cell_type": "code",
   "execution_count": null,
   "id": "92986ecc-5862-4c0a-a008-f625463aae31",
   "metadata": {},
   "outputs": [],
   "source": [
    "pd.read_csv('nino_analyzed_output.csv', index_col=0, parse_dates=True)"
   ]
  }
 ],
 "metadata": {
  "kernelspec": {
   "display_name": "Python 3",
   "language": "python",
   "name": "python3"
  },
  "language_info": {
   "codemirror_mode": {
    "name": "ipython",
    "version": 3
   },
   "file_extension": ".py",
   "mimetype": "text/x-python",
   "name": "python",
   "nbconvert_exporter": "python",
   "pygments_lexer": "ipython3",
   "version": "3.9.4"
  }
 },
 "nbformat": 4,
 "nbformat_minor": 5
}
