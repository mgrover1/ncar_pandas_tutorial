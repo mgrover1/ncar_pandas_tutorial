{
 "cells": [
  {
   "cell_type": "markdown",
   "id": "69075540-138c-4a6c-907a-5d04b345ad7e",
   "metadata": {},
   "source": [
    "\n",
    "\n",
    "# Introduction to Pandas\n",
    "\n",
    "![pandas Logo](https://github.com/pandas-dev/pandas/raw/master/web/pandas/static/img/pandas.svg \"pandas Logo\")\n",
    "\n",
    "## Questions\n",
    "1. What are the important pandas data structures?\n",
    "1. How do I interact with these?\n",
    "1. What else can pandas do for me?"
   ]
  },
  {
   "cell_type": "code",
   "execution_count": null,
   "id": "b2e06b71-f8b7-4f55-a1cd-cb90ed5f14c7",
   "metadata": {},
   "outputs": [],
   "source": [
    "import pandas as pd"
   ]
  },
  {
   "cell_type": "markdown",
   "id": "a403b940-9269-4d2d-ba2b-4bf122a546b0",
   "metadata": {},
   "source": [
    "## The pandas [`DataFrame`](https://pandas.pydata.org/docs/user_guide/dsintro.html#dataframe)...\n",
    "... is a **labeled**, two dimensional columnal structure similar to a table, spreadsheet, or the R `data.frame`.\n",
    "\n",
    "![dataframe schematic](https://github.com/pandas-dev/pandas/raw/master/doc/source/_static/schemas/01_table_dataframe.svg \"Schematic of a pandas DataFrame\")\n",
    "\n",
    "The `columns` that make up our `DataFrame` can be lists, dictionaries, NumPy arrays, pandas `Series`, or more. Within these `columns` our data can be any texts, numbers, dates and times, or many other data types you may have encountered in Python and NumPy. Shown here on the left in dark gray, our very first `column`  is uniquely referrred to as an `Index`, and this contains information characterizing each row of our `DataFrame`. Similar to any other `column`, the `index` can label our rows by text, numbers, `datetime`s (a popular one!), or more.\n",
    "\n",
    "Let's take a look by reading in some `.csv` data [[ref](https://www.ncdc.noaa.gov/teleconnections/enso/indicators/sst/)]."
   ]
  },
  {
   "cell_type": "code",
   "execution_count": null,
   "id": "8a744cbf-9bb6-4da4-90d3-31c737c771d3",
   "metadata": {},
   "outputs": [],
   "source": [
    "df = pd.read_csv('data/enso_data.csv')\n",
    "\n",
    "df"
   ]
  },
  {
   "cell_type": "code",
   "execution_count": null,
   "id": "ab4e8cc9-d302-4294-aeb8-5479863a0643",
   "metadata": {},
   "outputs": [],
   "source": [
    "df.index"
   ]
  },
  {
   "cell_type": "markdown",
   "id": "88fe487a-d018-49a7-adb4-e6861629e93a",
   "metadata": {},
   "source": [
    "Our indexing column isn't particularly helpful currently. pandas is clever! A few optional keyword arguments later, and..."
   ]
  },
  {
   "cell_type": "code",
   "execution_count": null,
   "id": "4569d92d-9aa4-4497-87dc-31f2745d0bfa",
   "metadata": {},
   "outputs": [],
   "source": [
    "df = pd.read_csv('data/enso_data.csv', index_col=0, parse_dates=True)\n",
    "\n",
    "df"
   ]
  },
  {
   "cell_type": "code",
   "execution_count": null,
   "id": "2d681954-9562-444f-a9b9-d47d33ec8389",
   "metadata": {},
   "outputs": [],
   "source": [
    "df.index"
   ]
  },
  {
   "cell_type": "markdown",
   "id": "4d12d09c-9828-411e-b64a-c495c8d9584e",
   "metadata": {},
   "source": [
    "... now we have our data helpfully organized by a proper `datetime`-like object. Each of our multiple columns of data can now be referenced by their date! This sneak preview at the pandas `DatetimeIndex` also unlocks for us much of pandas most useful time series functionality. Don't worry, we'll get there. What are the actual columns of data we've read in here?"
   ]
  },
  {
   "cell_type": "code",
   "execution_count": null,
   "id": "2a5d62c8-f3ad-4caa-b970-c29c7729d2a3",
   "metadata": {},
   "outputs": [],
   "source": [
    "df.columns"
   ]
  },
  {
   "cell_type": "markdown",
   "id": "dafe6c86-4498-416e-a1c8-5ed58dbc4078",
   "metadata": {},
   "source": [
    "## The pandas [`Series`](https://pandas.pydata.org/docs/user_guide/dsintro.html#series)...\n",
    "\n",
    "... is essentially any one of the columns of our `DataFrame`, with its accompanying `Index` to provide a label for each value in our column.\n",
    "\n",
    "![pandas Series](https://github.com/pandas-dev/pandas/raw/master/doc/source/_static/schemas/01_table_series.svg \"Schematic of a pandas Series\")\n",
    "\n",
    "The pandas `Series` is a fast and capable 1-dimensional array of nearly any data type we could want, and it can behave very similarly to a NumPy `ndarray` or a Python `dict`. You can take a look at any of the `Series` that make up your `DataFrame` with its label and Python `dict`-like notation, as well as dot-shorthand:"
   ]
  },
  {
   "cell_type": "code",
   "execution_count": null,
   "id": "4ffc1cdb-8895-4109-8175-951837c58cda",
   "metadata": {},
   "outputs": [],
   "source": [
    "df[\"Nino34\"]"
   ]
  },
  {
   "cell_type": "code",
   "execution_count": null,
   "id": "ce6275cd-28cd-42d3-923c-3ed991639782",
   "metadata": {},
   "outputs": [],
   "source": [
    "df.Nino34"
   ]
  },
  {
   "cell_type": "markdown",
   "id": "78f80147-e364-4dd3-8cd4-2d271473a41b",
   "metadata": {},
   "source": [
    "## Investigating the `DataFrame` and `Series`"
   ]
  },
  {
   "cell_type": "markdown",
   "id": "3a290429-bef8-40c8-be51-49fc4aaad8cb",
   "metadata": {},
   "source": [
    "Pandas has some helpful shorthand for quickly investigating our `DataFrame`."
   ]
  },
  {
   "cell_type": "code",
   "execution_count": null,
   "id": "65bd1fd6-50e6-4f30-9c34-fea6437d565e",
   "metadata": {},
   "outputs": [],
   "source": [
    "df.head()"
   ]
  },
  {
   "cell_type": "code",
   "execution_count": null,
   "id": "6b06eef3-4286-4376-a3d9-1b76827aa466",
   "metadata": {},
   "outputs": [],
   "source": [
    "df.tail()"
   ]
  },
  {
   "cell_type": "code",
   "execution_count": null,
   "id": "bd3a042c-8070-4b5f-8ac9-c4d2c6b5bda5",
   "metadata": {},
   "outputs": [],
   "source": [
    "#TODO add df label indexing here, mention coordinate comparison, abstract the discussion a bit"
   ]
  },
  {
   "cell_type": "markdown",
   "id": "60c619ed-43a4-4a2d-80b2-62b999cfcbbd",
   "metadata": {},
   "source": [
    "Let's take a look at a `Series` on its own. Recall selecting just one of our columns."
   ]
  },
  {
   "cell_type": "code",
   "execution_count": null,
   "id": "2b5f9389-e2a9-41eb-b71f-3b8ca3ca57d0",
   "metadata": {},
   "outputs": [],
   "source": [
    "nino34_series = df[\"Nino34\"]\n",
    "\n",
    "nino34_series"
   ]
  },
  {
   "cell_type": "markdown",
   "id": "a47437b9-b992-4eff-a8ea-83debb241334",
   "metadata": {},
   "source": [
    "`Series` can be indexed, selected, and subset as both `ndarray`-like,"
   ]
  },
  {
   "cell_type": "code",
   "execution_count": null,
   "id": "93bcd5a6-2f03-4f01-9c2b-75e5b4d844ca",
   "metadata": {},
   "outputs": [],
   "source": [
    "nino34_series[3]"
   ]
  },
  {
   "cell_type": "markdown",
   "id": "6b5d4e34-cfaf-4a4f-9656-8f184b72e16d",
   "metadata": {},
   "source": [
    "and `dict`-like,"
   ]
  },
  {
   "cell_type": "code",
   "execution_count": null,
   "id": "9fe683ed-ef1b-487f-afa8-bb0db4154d87",
   "metadata": {},
   "outputs": [],
   "source": [
    "nino34_series[\"1982-04-01\"]"
   ]
  },
  {
   "cell_type": "markdown",
   "id": "34a0b292-8252-4204-981b-c90fece899e6",
   "metadata": {},
   "source": [
    "and these can be extended in both ways you might expect and ways you might not:"
   ]
  },
  {
   "cell_type": "code",
   "execution_count": null,
   "id": "6e60fe4a-536e-40ed-ae3e-ba8e9847f31d",
   "metadata": {},
   "outputs": [],
   "source": [
    "# numpy-like interval slices\n",
    "nino34_series[::12]"
   ]
  },
  {
   "cell_type": "code",
   "execution_count": null,
   "id": "8e707730-f948-4c12-b5d4-79ce2a4a90ed",
   "metadata": {},
   "outputs": [],
   "source": [
    "# label-based slicing\n",
    "nino34_series[\"2000-12-01\":\"2002-04-01\"]"
   ]
  },
  {
   "cell_type": "code",
   "execution_count": null,
   "id": "acc5dde6-bde2-4282-b12b-c91e36731669",
   "metadata": {},
   "outputs": [],
   "source": [
    "#TODO add `slice`, expand on label-based indexing of entire df, lists of columns, etc."
   ]
  },
  {
   "cell_type": "markdown",
   "id": "7c5d4ea1-aa6c-4849-a281-7e24e8103411",
   "metadata": {},
   "source": [
    "## The Powers of Pandas\n",
    "\n",
    "### Quick Plots of Your Data"
   ]
  },
  {
   "cell_type": "code",
   "execution_count": null,
   "id": "f814ba91-1fc6-427c-9f9e-c0634eda7012",
   "metadata": {},
   "outputs": [],
   "source": [
    "df.Nino34.plot()"
   ]
  },
  {
   "cell_type": "markdown",
   "id": "d861ce26-56c3-42e9-847c-e1459b3e5d1f",
   "metadata": {},
   "source": [
    "### Calculations"
   ]
  },
  {
   "cell_type": "code",
   "execution_count": null,
   "id": "98de2c4b-70ba-4a6a-8b8c-84d107bdea75",
   "metadata": {},
   "outputs": [],
   "source": [
    "df.describe()"
   ]
  },
  {
   "cell_type": "code",
   "execution_count": null,
   "id": "25c39275-1700-40e6-aa93-e0c830228be4",
   "metadata": {},
   "outputs": [],
   "source": [
    "df.mean()"
   ]
  },
  {
   "cell_type": "code",
   "execution_count": null,
   "id": "42a4b0a4-c4cc-4e77-b695-fc0ebad79f57",
   "metadata": {},
   "outputs": [],
   "source": [
    "df.Nino34.mean()"
   ]
  },
  {
   "cell_type": "markdown",
   "id": "12410a0e-56e5-4ab1-ab1e-c117879dc587",
   "metadata": {},
   "source": [
    "Other Plots"
   ]
  },
  {
   "cell_type": "code",
   "execution_count": null,
   "id": "f8482274-d4fe-4475-98c1-c5afa12f087e",
   "metadata": {},
   "outputs": [],
   "source": [
    "df[['Nino12', 'Nino34']].plot.hist()"
   ]
  },
  {
   "cell_type": "code",
   "execution_count": null,
   "id": "a92c36f3-1e56-4866-bb21-bcd8570d538f",
   "metadata": {},
   "outputs": [],
   "source": [
    "df[['Nino12', 'Nino34']].plot.box()"
   ]
  },
  {
   "cell_type": "markdown",
   "id": "bc9b678f-db15-480a-8a92-0e9817939fad",
   "metadata": {},
   "source": [
    "For more examples of plotting choices, check out [the pandas plot documentation](https://pandas.pydata.org/docs/reference/api/pandas.DataFrame.plot.html)"
   ]
  },
  {
   "cell_type": "markdown",
   "id": "4c82d5d6-f32e-4fd1-8d92-be1aadab0763",
   "metadata": {},
   "source": [
    "### Advanced subsetting"
   ]
  },
  {
   "cell_type": "code",
   "execution_count": null,
   "id": "33cd0888-75ad-4dd2-bd8e-94683a80c435",
   "metadata": {},
   "outputs": [],
   "source": [
    "# Uses the datetime column\n",
    "df[df.index.month == 1]"
   ]
  },
  {
   "cell_type": "code",
   "execution_count": null,
   "id": "df312530-3922-4cea-bdd4-49181040b693",
   "metadata": {},
   "outputs": [],
   "source": [
    "df.loc[df.index.year == 1995]"
   ]
  },
  {
   "cell_type": "code",
   "execution_count": null,
   "id": "a7c164c2-b0db-418d-a389-202214c48652",
   "metadata": {},
   "outputs": [],
   "source": [
    "df[df.Nino34anom > 2]"
   ]
  },
  {
   "cell_type": "code",
   "execution_count": null,
   "id": "10106a46-388d-410a-838a-11971a5606f4",
   "metadata": {},
   "outputs": [],
   "source": [
    "nino_temp_cols = ['Nino12', 'Nino3', 'Nino4', 'Nino34']\n",
    "nino_anom_cols = ['Nino12anom', 'Nino3anom', 'Nino4anom', 'Nino34anom']"
   ]
  },
  {
   "cell_type": "code",
   "execution_count": null,
   "id": "2206cacd-f806-4e4d-869c-218ef93ceb28",
   "metadata": {},
   "outputs": [],
   "source": [
    "df[nino_temp_cols].plot()"
   ]
  },
  {
   "cell_type": "code",
   "execution_count": null,
   "id": "16bf00e9-a057-4394-84f5-a0372910bc28",
   "metadata": {},
   "outputs": [],
   "source": [
    "df[nino_anom_cols].plot()"
   ]
  },
  {
   "cell_type": "markdown",
   "id": "11b451be-a9b1-4334-8a41-82e91ddd9f8a",
   "metadata": {},
   "source": [
    "### Resampling"
   ]
  },
  {
   "cell_type": "code",
   "execution_count": null,
   "id": "9d76ba2c-87dd-42bf-acf6-6c5002dc31fe",
   "metadata": {},
   "outputs": [],
   "source": [
    "df.Nino34.plot()"
   ]
  },
  {
   "cell_type": "code",
   "execution_count": null,
   "id": "5e49332c-0942-46c5-a51d-d41b864cdb91",
   "metadata": {},
   "outputs": [],
   "source": [
    "df.Nino34.resample('1Y').mean().plot()"
   ]
  },
  {
   "cell_type": "code",
   "execution_count": null,
   "id": "dcb3c40b-5e85-4dcf-8364-8b97145bd6f0",
   "metadata": {},
   "outputs": [],
   "source": [
    "df.Nino34.resample('1Y').mean().plot()"
   ]
  },
  {
   "cell_type": "code",
   "execution_count": null,
   "id": "95daccec-17d3-48c3-8472-ed21b93f9d4d",
   "metadata": {},
   "outputs": [],
   "source": [
    "def convert_degc_to_kelvin(temperature_degc):\n",
    "    \"\"\"\n",
    "    Converts from degrees celsius to Kelvin\n",
    "    \"\"\"\n",
    "    \n",
    "    return temperature_degc + 273.15"
   ]
  },
  {
   "cell_type": "code",
   "execution_count": null,
   "id": "7a1827c1-5df9-4a77-8be5-011cbe324d78",
   "metadata": {},
   "outputs": [],
   "source": [
    "# Convert a single value\n",
    "convert_degc_to_kelvin(0)"
   ]
  },
  {
   "cell_type": "code",
   "execution_count": null,
   "id": "04b423c7-3264-48a3-b1c7-1dd1e097e377",
   "metadata": {},
   "outputs": [],
   "source": [
    "nino_34 = df.Nino34"
   ]
  },
  {
   "cell_type": "code",
   "execution_count": null,
   "id": "af3bbd73-0d3a-4ff1-a3bf-7d7eccf3a292",
   "metadata": {},
   "outputs": [],
   "source": [
    "nino_34"
   ]
  },
  {
   "cell_type": "code",
   "execution_count": null,
   "id": "47b55cc5-829d-40be-8181-ad98f5e5da6b",
   "metadata": {},
   "outputs": [],
   "source": [
    "type(df.Nino12.values[0:10])"
   ]
  },
  {
   "cell_type": "code",
   "execution_count": null,
   "id": "eec75c1f-a06b-403a-9654-6767b898ec7f",
   "metadata": {},
   "outputs": [],
   "source": [
    "type(df.Nino12[0:10])"
   ]
  },
  {
   "cell_type": "code",
   "execution_count": null,
   "id": "80674e2f-3611-4f3c-9174-fd516273065c",
   "metadata": {},
   "outputs": [],
   "source": [
    "convert_degc_to_kelvin(nino_34)"
   ]
  },
  {
   "cell_type": "code",
   "execution_count": null,
   "id": "7ac669fe-af31-4fec-93f8-847054902869",
   "metadata": {},
   "outputs": [],
   "source": [
    "df['Nino34_degK'] = convert_degc_to_kelvin(nino_34)"
   ]
  },
  {
   "cell_type": "code",
   "execution_count": null,
   "id": "27f20a23-ec1b-412c-949f-538612b1b59d",
   "metadata": {},
   "outputs": [],
   "source": [
    "df.Nino34_degK"
   ]
  },
  {
   "cell_type": "code",
   "execution_count": null,
   "id": "f6861121-252f-4dbf-a00d-d6e2b74e7878",
   "metadata": {},
   "outputs": [],
   "source": [
    "df.Nino34_degF.plot()"
   ]
  },
  {
   "cell_type": "code",
   "execution_count": null,
   "id": "8355c568-fb05-4890-88ba-8561693c781f",
   "metadata": {},
   "outputs": [],
   "source": [
    "df.to_csv('nino_analyzed_output.csv')"
   ]
  },
  {
   "cell_type": "code",
   "execution_count": null,
   "id": "92986ecc-5862-4c0a-a008-f625463aae31",
   "metadata": {},
   "outputs": [],
   "source": [
    "pd.read_csv('nino_analyzed_output.csv', index_col=0, parse_dates=True)"
   ]
  }
 ],
 "metadata": {
  "kernelspec": {
   "display_name": "Python 3",
   "language": "python",
   "name": "python3"
  },
  "language_info": {
   "codemirror_mode": {
    "name": "ipython",
    "version": 3
   },
   "file_extension": ".py",
   "mimetype": "text/x-python",
   "name": "python",
   "nbconvert_exporter": "python",
   "pygments_lexer": "ipython3",
   "version": "3.7.10"
  }
 },
 "nbformat": 4,
 "nbformat_minor": 5
}
