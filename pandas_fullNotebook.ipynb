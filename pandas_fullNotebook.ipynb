{
 "cells": [
  {
   "cell_type": "markdown",
   "id": "69075540-138c-4a6c-907a-5d04b345ad7e",
   "metadata": {},
   "source": [
    "\n",
    "\n",
    "# Introduction to Pandas\n",
    "\n",
    "![pandas Logo](https://github.com/pandas-dev/pandas/raw/master/web/pandas/static/img/pandas.svg \"pandas Logo\")\n",
    "\n",
    "## Questions\n",
    "1. What are the important pandas data structures?\n",
    "1. How do I interact with these?\n",
    "1. What else can pandas do for me?"
   ]
  },
  {
   "cell_type": "code",
   "execution_count": null,
   "metadata": {},
   "outputs": [],
   "source": [
    "import pandas as pd"
   ]
  },
  {
   "cell_type": "markdown",
   "id": "a403b940-9269-4d2d-ba2b-4bf122a546b0",
   "metadata": {},
   "source": [
    "## The pandas [`DataFrame`](https://pandas.pydata.org/docs/user_guide/dsintro.html#dataframe)...\n",
    "... is a labeled, two dimensional columnal structure not unlike a table, spreadsheet, or the R `data.frame`.\n",
    "\n",
    "![dataframe schematic](https://github.com/pandas-dev/pandas/raw/master/doc/source/_static/schemas/01_table_dataframe.svg \"Schematic of a pandas DataFrame\")\n",
    "\n",
    "The `columns` that make up our `DataFrame` can be lists, dictionaries, NumPy arrays, pandas `Series`, or more. Within these `columns` our data can be any texts, numbers, dates and times, or many other data types you may have encountered in Python and NumPy. Shown here on the left in dark gray, our very first `column`  is uniquely referrred to as an `Index`, and this contains information characterizing each row of our `DataFrame`. Similar to any other `column`, the `index` can label our rows by text, numbers, `datetime`s (a popular one!), or more.\n",
    "\n",
    "Let's take a look by reading in some `.csv` data [[ref](https://www.ncdc.noaa.gov/teleconnections/enso/indicators/sst/)]."
   ]
  },
  {
   "cell_type": "code",
   "execution_count": null,
   "id": "8a744cbf-9bb6-4da4-90d3-31c737c771d3",
   "metadata": {},
   "outputs": [],
   "source": [
    "df = pd.read_csv('data/enso_data.csv')\n",
    "\n",
    "df"
   ]
  },
  {
   "cell_type": "code",
   "execution_count": null,
   "id": "ab4e8cc9-d302-4294-aeb8-5479863a0643",
   "metadata": {},
   "outputs": [],
   "source": [
    "df.index"
   ]
  },
  {
   "cell_type": "markdown",
   "id": "88fe487a-d018-49a7-adb4-e6861629e93a",
   "metadata": {},
   "source": [
    "Our indexing column isn't particularly helpful currently. pandas is clever! A few optional keyword arguments later, and..."
   ]
  },
  {
   "cell_type": "code",
   "execution_count": null,
   "id": "4569d92d-9aa4-4497-87dc-31f2745d0bfa",
   "metadata": {},
   "outputs": [],
   "source": [
    "df = pd.read_csv('data/enso_data.csv', index_col=0, parse_dates=True)\n",
    "\n",
    "df"
   ]
  },
  {
   "source": [
    "df.index"
   ],
   "cell_type": "code",
   "metadata": {},
   "execution_count": null,
   "outputs": []
  },
  {
   "source": [
    "... now we have our data helpfully organized by a proper `datetime`-like object. Each of our multiple columns of data can now be referenced by their date! This sneak preview at the pandas `DatetimeIndex` also unlocks for us much of pandas most useful time series functionality. Don't worry, we'll get there. What are the actual columns of data we've read in here?"
   ],
   "cell_type": "markdown",
   "metadata": {}
  },
  {
   "source": [
    "df.columns"
   ],
   "cell_type": "code",
   "metadata": {},
   "execution_count": null,
   "outputs": []
  },
  {
   "cell_type": "markdown",
   "id": "dafe6c86-4498-416e-a1c8-5ed58dbc4078",
   "metadata": {},
   "source": [
    "## The pandas [`Series`](https://pandas.pydata.org/docs/user_guide/dsintro.html#series)...\n",
    "\n",
    "... is essentially any one of the columns of our `DataFrame`, with its accompanying `Index`.\n",
    "\n",
    "![pandas Series](https://github.com/pandas-dev/pandas/raw/master/doc/source/_static/schemas/01_table_series.svg \"Schematic of a pandas Series\")\n",
    "\n",
    "The pandas `Series` is a fast and capable 1-dimensional list of nearly any data type we could want an array of, and it can behave very similarly to a NumPy `ndarray` or a Python `dict`. You can take a look at any of the `Series` that make up your `DataFrame` with its label and Python `dict`-like notation, as well as dot-shorthand:"
   ]
  },
  {
   "cell_type": "code",
   "execution_count": null,
   "metadata": {},
   "outputs": [],
   "source": [
    "df[\"Nino34\"]"
   ]
  },
  {
   "cell_type": "code",
   "execution_count": null,
   "metadata": {},
   "outputs": [],
   "source": [
    "df.Nino34"
   ]
  },
  {
   "source": [
    "## Investigating the `DataFrame` and `Series`"
   ],
   "cell_type": "markdown",
   "metadata": {}
  },
  {
   "source": [
    "Pandas has some helpful shorthand for quickly investigating our `DataFrame`."
   ],
   "cell_type": "markdown",
   "metadata": {}
  },
  {
   "cell_type": "code",
   "execution_count": null,
   "id": "65bd1fd6-50e6-4f30-9c34-fea6437d565e",
   "metadata": {},
   "outputs": [],
   "source": [
    "df.head()"
   ]
  },
  {
   "cell_type": "code",
   "execution_count": null,
   "id": "6b06eef3-4286-4376-a3d9-1b76827aa466",
   "metadata": {},
   "outputs": [],
   "source": [
    "df.tail()"
   ]
  },
  {
   "source": [
    "Let's take a look at a `Series` on its own. Recall selecting just one of our columns."
   ],
   "cell_type": "markdown",
   "metadata": {}
  },
  {
   "cell_type": "code",
   "execution_count": null,
   "metadata": {},
   "outputs": [],
   "source": [
    "nino34_series = df[\"Nino34\"]\n",
    "\n",
    "nino34_series"
   ]
  },
  {
   "source": [
    "`Series` can be indexed, selected, and subset as both `ndarray`-like,"
   ],
   "cell_type": "markdown",
   "metadata": {}
  },
  {
   "cell_type": "code",
   "execution_count": null,
   "metadata": {},
   "outputs": [],
   "source": [
    "nino34_series[14]"
   ]
  },
  {
   "source": [
    "and `dict`-like,"
   ],
   "cell_type": "markdown",
   "metadata": {}
  },
  {
   "cell_type": "code",
   "execution_count": null,
   "metadata": {},
   "outputs": [],
   "source": [
    "nino34_series[\"1993-04-01\"]"
   ]
  },
  {
   "source": [
    "and these can be extended in both ways you might expect and ways you might not:"
   ],
   "cell_type": "markdown",
   "metadata": {}
  },
  {
   "cell_type": "code",
   "execution_count": null,
   "metadata": {},
   "outputs": [],
   "source": [
    "# numpy-like interval slices\n",
    "nino34_series[5:25:4]"
   ]
  },
  {
   "cell_type": "code",
   "execution_count": null,
   "metadata": {},
   "outputs": [],
   "source": [
    "# label-based slicing\n",
    "nino34_series[\"2000-12-01\":\"2002-04-01\"]"
   ]
  },
  {
   "cell_type": "code",
   "execution_count": null,
   "id": "94b8fdce-fbf0-4eac-9e35-eeaab91f9280",
   "metadata": {},
   "outputs": [],
   "source": [
    "df.describe()"
   ]
  },
  {
   "cell_type": "markdown",
   "id": "7c5d4ea1-aa6c-4849-a281-7e24e8103411",
   "metadata": {},
   "source": [
    "## The Powers of Pandas\n",
    "\n",
    "### Quick Plots of Your Data"
   ]
  },
  {
   "cell_type": "code",
   "execution_count": null,
   "id": "f814ba91-1fc6-427c-9f9e-c0634eda7012",
   "metadata": {},
   "outputs": [],
   "source": [
    "df.Nino12.plot()"
   ]
  },
  {
   "cell_type": "markdown",
   "id": "d861ce26-56c3-42e9-847c-e1459b3e5d1f",
   "metadata": {},
   "source": [
    "### Calculations"
   ]
  },
  {
   "cell_type": "code",
   "execution_count": null,
   "id": "98de2c4b-70ba-4a6a-8b8c-84d107bdea75",
   "metadata": {},
   "outputs": [],
   "source": [
    "df.describe()"
   ]
  },
  {
   "cell_type": "markdown",
   "id": "4c82d5d6-f32e-4fd1-8d92-be1aadab0763",
   "metadata": {},
   "source": [
    "### Slicing and Dicing"
   ]
  },
  {
   "cell_type": "code",
   "execution_count": null,
   "id": "33cd0888-75ad-4dd2-bd8e-94683a80c435",
   "metadata": {},
   "outputs": [],
   "source": [
    "df[df.index.month == 1]"
   ]
  },
  {
   "cell_type": "code",
   "execution_count": null,
   "id": "df312530-3922-4cea-bdd4-49181040b693",
   "metadata": {},
   "outputs": [],
   "source": [
    "df.loc[df.index.year == 1995]"
   ]
  },
  {
   "cell_type": "code",
   "execution_count": null,
   "id": "a7c164c2-b0db-418d-a389-202214c48652",
   "metadata": {},
   "outputs": [],
   "source": [
    "df[df.Nino34anom > 2]"
   ]
  },
  {
   "cell_type": "markdown",
   "id": "11b451be-a9b1-4334-8a41-82e91ddd9f8a",
   "metadata": {},
   "source": [
    "### Resampling"
   ]
  },
  {
   "cell_type": "code",
   "execution_count": null,
   "id": "5e49332c-0942-46c5-a51d-d41b864cdb91",
   "metadata": {},
   "outputs": [],
   "source": [
    "df.Nino34.resample('1Y').mean()"
   ]
  },
  {
   "cell_type": "code",
   "execution_count": null,
   "id": "f6861121-252f-4dbf-a00d-d6e2b74e7878",
   "metadata": {},
   "outputs": [],
   "source": [
    "df.resample('1Y').mean()"
   ]
  },
  {
   "cell_type": "code",
   "execution_count": null,
   "id": "a990e6c6-e884-4b70-b7b7-76175f01c5c9",
   "metadata": {},
   "outputs": [],
   "source": [
    "df.groupby?"
   ]
  },
  {
   "cell_type": "code",
   "execution_count": null,
   "id": "bac19a57-8679-4837-9044-d08d38d5dd41",
   "metadata": {},
   "outputs": [],
   "source": [
    "temp_cols = []\n",
    "anom_cols = []\n",
    "\n",
    "for column in df.columns:\n",
    "    if 'anom' in column:\n",
    "        anom_cols.append(column)\n",
    "        \n",
    "    else:\n",
    "        temp_cols.append(column)"
   ]
  },
  {
   "cell_type": "code",
   "execution_count": null,
   "id": "0aac7d61-cded-424c-8163-36be45535166",
   "metadata": {},
   "outputs": [],
   "source": []
  },
  {
   "cell_type": "code",
   "execution_count": null,
   "id": "d05c0451-9540-43c2-b248-ee086a84f57f",
   "metadata": {},
   "outputs": [],
   "source": [
    "df[temp_cols].plot()"
   ]
  },
  {
   "cell_type": "code",
   "execution_count": null,
   "id": "7e594be1-e7ba-4e15-ad50-e99cec6c8743",
   "metadata": {},
   "outputs": [],
   "source": [
    "df[anom_cols].plot()"
   ]
  },
  {
   "cell_type": "code",
   "execution_count": null,
   "id": "53219a37-da2f-4926-b93a-427a213bc605",
   "metadata": {},
   "outputs": [],
   "source": []
  }
 ],
 "metadata": {
  "kernelspec": {
   "name": "python394jvsc74a57bd053468a297ab50502a3f7a2a75951560fd3c391f9a43c8ff52a2a132c16e13128",
   "display_name": "Python 3.9.4 64-bit ('ncar_pandas_tutorial': conda)"
  },
  "language_info": {
   "codemirror_mode": {
    "name": "ipython",
    "version": 3
   },
   "file_extension": ".py",
   "mimetype": "text/x-python",
   "name": "python",
   "nbconvert_exporter": "python",
   "pygments_lexer": "ipython3",
   "version": "3.9.4"
  }
 },
 "nbformat": 4,
 "nbformat_minor": 5
}