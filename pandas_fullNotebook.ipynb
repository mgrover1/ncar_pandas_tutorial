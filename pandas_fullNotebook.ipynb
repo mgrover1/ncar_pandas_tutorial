{
 "cells": [
  {
   "cell_type": "markdown",
   "id": "69075540-138c-4a6c-907a-5d04b345ad7e",
   "metadata": {},
   "source": [
    "\n",
    "\n",
    "# Introduction to Pandas\n",
    "\n",
    "![pandas Logo](https://github.com/pandas-dev/pandas/raw/master/web/pandas/static/img/pandas.svg \"pandas Logo\")\n",
    "\n",
    "## Questions\n",
    "1. What are the important pandas data structures?\n",
    "1. How do I interact with these?\n",
    "1. What else can pandas do for me?"
   ]
  },
  {
   "cell_type": "code",
   "execution_count": 1,
   "id": "b2e06b71-f8b7-4f55-a1cd-cb90ed5f14c7",
   "metadata": {},
   "outputs": [],
   "source": [
    "import pandas as pd"
   ]
  },
  {
   "cell_type": "markdown",
   "id": "a403b940-9269-4d2d-ba2b-4bf122a546b0",
   "metadata": {},
   "source": [
    "## The pandas [`DataFrame`](https://pandas.pydata.org/docs/user_guide/dsintro.html#dataframe)...\n",
    "... is a **labeled**, two dimensional columnal structure similar to a table, spreadsheet, or the R `data.frame`.\n",
    "\n",
    "![dataframe schematic](https://github.com/pandas-dev/pandas/raw/master/doc/source/_static/schemas/01_table_dataframe.svg \"Schematic of a pandas DataFrame\")\n",
    "\n",
    "The `columns` that make up our `DataFrame` can be lists, dictionaries, NumPy arrays, pandas `Series`, or more. Within these `columns` our data can be any texts, numbers, dates and times, or many other data types you may have encountered in Python and NumPy. Shown here on the left in dark gray, our very first `column`  is uniquely referrred to as an `Index`, and this contains information characterizing each row of our `DataFrame`. Similar to any other `column`, the `index` can label our rows by text, numbers, `datetime`s (a popular one!), or more.\n",
    "\n",
    "Let's take a look by reading in some `.csv` data [[ref](https://www.ncdc.noaa.gov/teleconnections/enso/indicators/sst/)]."
   ]
  },
  {
   "cell_type": "code",
   "execution_count": 2,
   "id": "8a744cbf-9bb6-4da4-90d3-31c737c771d3",
   "metadata": {},
   "outputs": [
    {
     "data": {
      "text/html": [
       "<div>\n",
       "<style scoped>\n",
       "    .dataframe tbody tr th:only-of-type {\n",
       "        vertical-align: middle;\n",
       "    }\n",
       "\n",
       "    .dataframe tbody tr th {\n",
       "        vertical-align: top;\n",
       "    }\n",
       "\n",
       "    .dataframe thead th {\n",
       "        text-align: right;\n",
       "    }\n",
       "</style>\n",
       "<table border=\"1\" class=\"dataframe\">\n",
       "  <thead>\n",
       "    <tr style=\"text-align: right;\">\n",
       "      <th></th>\n",
       "      <th>datetime</th>\n",
       "      <th>Nino12</th>\n",
       "      <th>Nino12anom</th>\n",
       "      <th>Nino3</th>\n",
       "      <th>Nino3anom</th>\n",
       "      <th>Nino4</th>\n",
       "      <th>Nino4anom</th>\n",
       "      <th>Nino34</th>\n",
       "      <th>Nino34anom</th>\n",
       "    </tr>\n",
       "  </thead>\n",
       "  <tbody>\n",
       "    <tr>\n",
       "      <th>0</th>\n",
       "      <td>1982-01-01</td>\n",
       "      <td>24.29</td>\n",
       "      <td>-0.17</td>\n",
       "      <td>25.87</td>\n",
       "      <td>0.24</td>\n",
       "      <td>28.30</td>\n",
       "      <td>0.00</td>\n",
       "      <td>26.72</td>\n",
       "      <td>0.15</td>\n",
       "    </tr>\n",
       "    <tr>\n",
       "      <th>1</th>\n",
       "      <td>1982-02-01</td>\n",
       "      <td>25.49</td>\n",
       "      <td>-0.58</td>\n",
       "      <td>26.38</td>\n",
       "      <td>0.01</td>\n",
       "      <td>28.21</td>\n",
       "      <td>0.11</td>\n",
       "      <td>26.70</td>\n",
       "      <td>-0.02</td>\n",
       "    </tr>\n",
       "    <tr>\n",
       "      <th>2</th>\n",
       "      <td>1982-03-01</td>\n",
       "      <td>25.21</td>\n",
       "      <td>-1.31</td>\n",
       "      <td>26.98</td>\n",
       "      <td>-0.16</td>\n",
       "      <td>28.41</td>\n",
       "      <td>0.22</td>\n",
       "      <td>27.20</td>\n",
       "      <td>-0.02</td>\n",
       "    </tr>\n",
       "    <tr>\n",
       "      <th>3</th>\n",
       "      <td>1982-04-01</td>\n",
       "      <td>24.50</td>\n",
       "      <td>-0.97</td>\n",
       "      <td>27.68</td>\n",
       "      <td>0.18</td>\n",
       "      <td>28.92</td>\n",
       "      <td>0.42</td>\n",
       "      <td>28.02</td>\n",
       "      <td>0.24</td>\n",
       "    </tr>\n",
       "    <tr>\n",
       "      <th>4</th>\n",
       "      <td>1982-05-01</td>\n",
       "      <td>23.97</td>\n",
       "      <td>-0.23</td>\n",
       "      <td>27.79</td>\n",
       "      <td>0.71</td>\n",
       "      <td>29.49</td>\n",
       "      <td>0.70</td>\n",
       "      <td>28.54</td>\n",
       "      <td>0.69</td>\n",
       "    </tr>\n",
       "    <tr>\n",
       "      <th>...</th>\n",
       "      <td>...</td>\n",
       "      <td>...</td>\n",
       "      <td>...</td>\n",
       "      <td>...</td>\n",
       "      <td>...</td>\n",
       "      <td>...</td>\n",
       "      <td>...</td>\n",
       "      <td>...</td>\n",
       "      <td>...</td>\n",
       "    </tr>\n",
       "    <tr>\n",
       "      <th>467</th>\n",
       "      <td>2020-12-01</td>\n",
       "      <td>22.16</td>\n",
       "      <td>-0.60</td>\n",
       "      <td>24.38</td>\n",
       "      <td>-0.83</td>\n",
       "      <td>27.65</td>\n",
       "      <td>-0.95</td>\n",
       "      <td>25.53</td>\n",
       "      <td>-1.12</td>\n",
       "    </tr>\n",
       "    <tr>\n",
       "      <th>468</th>\n",
       "      <td>2021-01-01</td>\n",
       "      <td>23.89</td>\n",
       "      <td>-0.64</td>\n",
       "      <td>25.06</td>\n",
       "      <td>-0.55</td>\n",
       "      <td>27.10</td>\n",
       "      <td>-1.25</td>\n",
       "      <td>25.58</td>\n",
       "      <td>-0.99</td>\n",
       "    </tr>\n",
       "    <tr>\n",
       "      <th>469</th>\n",
       "      <td>2021-02-01</td>\n",
       "      <td>25.55</td>\n",
       "      <td>-0.66</td>\n",
       "      <td>25.80</td>\n",
       "      <td>-0.57</td>\n",
       "      <td>27.20</td>\n",
       "      <td>-1.00</td>\n",
       "      <td>25.81</td>\n",
       "      <td>-0.92</td>\n",
       "    </tr>\n",
       "    <tr>\n",
       "      <th>470</th>\n",
       "      <td>2021-03-01</td>\n",
       "      <td>26.48</td>\n",
       "      <td>-0.26</td>\n",
       "      <td>26.80</td>\n",
       "      <td>-0.39</td>\n",
       "      <td>27.79</td>\n",
       "      <td>-0.55</td>\n",
       "      <td>26.75</td>\n",
       "      <td>-0.51</td>\n",
       "    </tr>\n",
       "    <tr>\n",
       "      <th>471</th>\n",
       "      <td>2021-04-01</td>\n",
       "      <td>24.89</td>\n",
       "      <td>-0.80</td>\n",
       "      <td>26.96</td>\n",
       "      <td>-0.65</td>\n",
       "      <td>28.47</td>\n",
       "      <td>-0.21</td>\n",
       "      <td>27.40</td>\n",
       "      <td>-0.49</td>\n",
       "    </tr>\n",
       "  </tbody>\n",
       "</table>\n",
       "<p>472 rows × 9 columns</p>\n",
       "</div>"
      ],
      "text/plain": [
       "       datetime  Nino12  Nino12anom  Nino3  Nino3anom  Nino4  Nino4anom  \\\n",
       "0    1982-01-01   24.29       -0.17  25.87       0.24  28.30       0.00   \n",
       "1    1982-02-01   25.49       -0.58  26.38       0.01  28.21       0.11   \n",
       "2    1982-03-01   25.21       -1.31  26.98      -0.16  28.41       0.22   \n",
       "3    1982-04-01   24.50       -0.97  27.68       0.18  28.92       0.42   \n",
       "4    1982-05-01   23.97       -0.23  27.79       0.71  29.49       0.70   \n",
       "..          ...     ...         ...    ...        ...    ...        ...   \n",
       "467  2020-12-01   22.16       -0.60  24.38      -0.83  27.65      -0.95   \n",
       "468  2021-01-01   23.89       -0.64  25.06      -0.55  27.10      -1.25   \n",
       "469  2021-02-01   25.55       -0.66  25.80      -0.57  27.20      -1.00   \n",
       "470  2021-03-01   26.48       -0.26  26.80      -0.39  27.79      -0.55   \n",
       "471  2021-04-01   24.89       -0.80  26.96      -0.65  28.47      -0.21   \n",
       "\n",
       "     Nino34  Nino34anom  \n",
       "0     26.72        0.15  \n",
       "1     26.70       -0.02  \n",
       "2     27.20       -0.02  \n",
       "3     28.02        0.24  \n",
       "4     28.54        0.69  \n",
       "..      ...         ...  \n",
       "467   25.53       -1.12  \n",
       "468   25.58       -0.99  \n",
       "469   25.81       -0.92  \n",
       "470   26.75       -0.51  \n",
       "471   27.40       -0.49  \n",
       "\n",
       "[472 rows x 9 columns]"
      ]
     },
     "execution_count": 2,
     "metadata": {},
     "output_type": "execute_result"
    }
   ],
   "source": [
    "df = pd.read_csv('enso_data.csv')\n",
    "\n",
    "df"
   ]
  },
  {
   "cell_type": "code",
   "execution_count": 3,
   "id": "ab4e8cc9-d302-4294-aeb8-5479863a0643",
   "metadata": {},
   "outputs": [
    {
     "data": {
      "text/plain": [
       "RangeIndex(start=0, stop=472, step=1)"
      ]
     },
     "execution_count": 3,
     "metadata": {},
     "output_type": "execute_result"
    }
   ],
   "source": [
    "df.index"
   ]
  },
  {
   "cell_type": "markdown",
   "id": "88fe487a-d018-49a7-adb4-e6861629e93a",
   "metadata": {},
   "source": [
    "Our indexing column isn't particularly helpful currently. pandas is clever! A few optional keyword arguments later, and..."
   ]
  },
  {
   "cell_type": "code",
   "execution_count": 4,
   "id": "4569d92d-9aa4-4497-87dc-31f2745d0bfa",
   "metadata": {},
   "outputs": [
    {
     "data": {
      "text/html": [
       "<div>\n",
       "<style scoped>\n",
       "    .dataframe tbody tr th:only-of-type {\n",
       "        vertical-align: middle;\n",
       "    }\n",
       "\n",
       "    .dataframe tbody tr th {\n",
       "        vertical-align: top;\n",
       "    }\n",
       "\n",
       "    .dataframe thead th {\n",
       "        text-align: right;\n",
       "    }\n",
       "</style>\n",
       "<table border=\"1\" class=\"dataframe\">\n",
       "  <thead>\n",
       "    <tr style=\"text-align: right;\">\n",
       "      <th></th>\n",
       "      <th>Nino12</th>\n",
       "      <th>Nino12anom</th>\n",
       "      <th>Nino3</th>\n",
       "      <th>Nino3anom</th>\n",
       "      <th>Nino4</th>\n",
       "      <th>Nino4anom</th>\n",
       "      <th>Nino34</th>\n",
       "      <th>Nino34anom</th>\n",
       "    </tr>\n",
       "    <tr>\n",
       "      <th>datetime</th>\n",
       "      <th></th>\n",
       "      <th></th>\n",
       "      <th></th>\n",
       "      <th></th>\n",
       "      <th></th>\n",
       "      <th></th>\n",
       "      <th></th>\n",
       "      <th></th>\n",
       "    </tr>\n",
       "  </thead>\n",
       "  <tbody>\n",
       "    <tr>\n",
       "      <th>1982-01-01</th>\n",
       "      <td>24.29</td>\n",
       "      <td>-0.17</td>\n",
       "      <td>25.87</td>\n",
       "      <td>0.24</td>\n",
       "      <td>28.30</td>\n",
       "      <td>0.00</td>\n",
       "      <td>26.72</td>\n",
       "      <td>0.15</td>\n",
       "    </tr>\n",
       "    <tr>\n",
       "      <th>1982-02-01</th>\n",
       "      <td>25.49</td>\n",
       "      <td>-0.58</td>\n",
       "      <td>26.38</td>\n",
       "      <td>0.01</td>\n",
       "      <td>28.21</td>\n",
       "      <td>0.11</td>\n",
       "      <td>26.70</td>\n",
       "      <td>-0.02</td>\n",
       "    </tr>\n",
       "    <tr>\n",
       "      <th>1982-03-01</th>\n",
       "      <td>25.21</td>\n",
       "      <td>-1.31</td>\n",
       "      <td>26.98</td>\n",
       "      <td>-0.16</td>\n",
       "      <td>28.41</td>\n",
       "      <td>0.22</td>\n",
       "      <td>27.20</td>\n",
       "      <td>-0.02</td>\n",
       "    </tr>\n",
       "    <tr>\n",
       "      <th>1982-04-01</th>\n",
       "      <td>24.50</td>\n",
       "      <td>-0.97</td>\n",
       "      <td>27.68</td>\n",
       "      <td>0.18</td>\n",
       "      <td>28.92</td>\n",
       "      <td>0.42</td>\n",
       "      <td>28.02</td>\n",
       "      <td>0.24</td>\n",
       "    </tr>\n",
       "    <tr>\n",
       "      <th>1982-05-01</th>\n",
       "      <td>23.97</td>\n",
       "      <td>-0.23</td>\n",
       "      <td>27.79</td>\n",
       "      <td>0.71</td>\n",
       "      <td>29.49</td>\n",
       "      <td>0.70</td>\n",
       "      <td>28.54</td>\n",
       "      <td>0.69</td>\n",
       "    </tr>\n",
       "    <tr>\n",
       "      <th>...</th>\n",
       "      <td>...</td>\n",
       "      <td>...</td>\n",
       "      <td>...</td>\n",
       "      <td>...</td>\n",
       "      <td>...</td>\n",
       "      <td>...</td>\n",
       "      <td>...</td>\n",
       "      <td>...</td>\n",
       "    </tr>\n",
       "    <tr>\n",
       "      <th>2020-12-01</th>\n",
       "      <td>22.16</td>\n",
       "      <td>-0.60</td>\n",
       "      <td>24.38</td>\n",
       "      <td>-0.83</td>\n",
       "      <td>27.65</td>\n",
       "      <td>-0.95</td>\n",
       "      <td>25.53</td>\n",
       "      <td>-1.12</td>\n",
       "    </tr>\n",
       "    <tr>\n",
       "      <th>2021-01-01</th>\n",
       "      <td>23.89</td>\n",
       "      <td>-0.64</td>\n",
       "      <td>25.06</td>\n",
       "      <td>-0.55</td>\n",
       "      <td>27.10</td>\n",
       "      <td>-1.25</td>\n",
       "      <td>25.58</td>\n",
       "      <td>-0.99</td>\n",
       "    </tr>\n",
       "    <tr>\n",
       "      <th>2021-02-01</th>\n",
       "      <td>25.55</td>\n",
       "      <td>-0.66</td>\n",
       "      <td>25.80</td>\n",
       "      <td>-0.57</td>\n",
       "      <td>27.20</td>\n",
       "      <td>-1.00</td>\n",
       "      <td>25.81</td>\n",
       "      <td>-0.92</td>\n",
       "    </tr>\n",
       "    <tr>\n",
       "      <th>2021-03-01</th>\n",
       "      <td>26.48</td>\n",
       "      <td>-0.26</td>\n",
       "      <td>26.80</td>\n",
       "      <td>-0.39</td>\n",
       "      <td>27.79</td>\n",
       "      <td>-0.55</td>\n",
       "      <td>26.75</td>\n",
       "      <td>-0.51</td>\n",
       "    </tr>\n",
       "    <tr>\n",
       "      <th>2021-04-01</th>\n",
       "      <td>24.89</td>\n",
       "      <td>-0.80</td>\n",
       "      <td>26.96</td>\n",
       "      <td>-0.65</td>\n",
       "      <td>28.47</td>\n",
       "      <td>-0.21</td>\n",
       "      <td>27.40</td>\n",
       "      <td>-0.49</td>\n",
       "    </tr>\n",
       "  </tbody>\n",
       "</table>\n",
       "<p>472 rows × 8 columns</p>\n",
       "</div>"
      ],
      "text/plain": [
       "            Nino12  Nino12anom  Nino3  Nino3anom  Nino4  Nino4anom  Nino34  \\\n",
       "datetime                                                                     \n",
       "1982-01-01   24.29       -0.17  25.87       0.24  28.30       0.00   26.72   \n",
       "1982-02-01   25.49       -0.58  26.38       0.01  28.21       0.11   26.70   \n",
       "1982-03-01   25.21       -1.31  26.98      -0.16  28.41       0.22   27.20   \n",
       "1982-04-01   24.50       -0.97  27.68       0.18  28.92       0.42   28.02   \n",
       "1982-05-01   23.97       -0.23  27.79       0.71  29.49       0.70   28.54   \n",
       "...            ...         ...    ...        ...    ...        ...     ...   \n",
       "2020-12-01   22.16       -0.60  24.38      -0.83  27.65      -0.95   25.53   \n",
       "2021-01-01   23.89       -0.64  25.06      -0.55  27.10      -1.25   25.58   \n",
       "2021-02-01   25.55       -0.66  25.80      -0.57  27.20      -1.00   25.81   \n",
       "2021-03-01   26.48       -0.26  26.80      -0.39  27.79      -0.55   26.75   \n",
       "2021-04-01   24.89       -0.80  26.96      -0.65  28.47      -0.21   27.40   \n",
       "\n",
       "            Nino34anom  \n",
       "datetime                \n",
       "1982-01-01        0.15  \n",
       "1982-02-01       -0.02  \n",
       "1982-03-01       -0.02  \n",
       "1982-04-01        0.24  \n",
       "1982-05-01        0.69  \n",
       "...                ...  \n",
       "2020-12-01       -1.12  \n",
       "2021-01-01       -0.99  \n",
       "2021-02-01       -0.92  \n",
       "2021-03-01       -0.51  \n",
       "2021-04-01       -0.49  \n",
       "\n",
       "[472 rows x 8 columns]"
      ]
     },
     "execution_count": 4,
     "metadata": {},
     "output_type": "execute_result"
    }
   ],
   "source": [
    "df = pd.read_csv('enso_data.csv', index_col=0, parse_dates=True)\n",
    "\n",
    "df"
   ]
  },
  {
   "cell_type": "code",
   "execution_count": 5,
   "id": "2d681954-9562-444f-a9b9-d47d33ec8389",
   "metadata": {},
   "outputs": [
    {
     "data": {
      "text/plain": [
       "DatetimeIndex(['1982-01-01', '1982-02-01', '1982-03-01', '1982-04-01',\n",
       "               '1982-05-01', '1982-06-01', '1982-07-01', '1982-08-01',\n",
       "               '1982-09-01', '1982-10-01',\n",
       "               ...\n",
       "               '2020-07-01', '2020-08-01', '2020-09-01', '2020-10-01',\n",
       "               '2020-11-01', '2020-12-01', '2021-01-01', '2021-02-01',\n",
       "               '2021-03-01', '2021-04-01'],\n",
       "              dtype='datetime64[ns]', name='datetime', length=472, freq=None)"
      ]
     },
     "execution_count": 5,
     "metadata": {},
     "output_type": "execute_result"
    }
   ],
   "source": [
    "df.index"
   ]
  },
  {
   "cell_type": "markdown",
   "id": "4d12d09c-9828-411e-b64a-c495c8d9584e",
   "metadata": {},
   "source": [
    "... now we have our data helpfully organized by a proper `datetime`-like object. Each of our multiple columns of data can now be referenced by their date! This sneak preview at the pandas `DatetimeIndex` also unlocks for us much of pandas most useful time series functionality. Don't worry, we'll get there. What are the actual columns of data we've read in here?"
   ]
  },
  {
   "cell_type": "code",
   "execution_count": 6,
   "id": "2a5d62c8-f3ad-4caa-b970-c29c7729d2a3",
   "metadata": {},
   "outputs": [
    {
     "data": {
      "text/plain": [
       "Index(['Nino12', 'Nino12anom', 'Nino3', 'Nino3anom', 'Nino4', 'Nino4anom',\n",
       "       'Nino34', 'Nino34anom'],\n",
       "      dtype='object')"
      ]
     },
     "execution_count": 6,
     "metadata": {},
     "output_type": "execute_result"
    }
   ],
   "source": [
    "df.columns"
   ]
  },
  {
   "cell_type": "markdown",
   "id": "dafe6c86-4498-416e-a1c8-5ed58dbc4078",
   "metadata": {},
   "source": [
    "## The pandas [`Series`](https://pandas.pydata.org/docs/user_guide/dsintro.html#series)...\n",
    "\n",
    "... is essentially any one of the columns of our `DataFrame`, with its accompanying `Index` to provide a label for each value in our column.\n",
    "\n",
    "![pandas Series](https://github.com/pandas-dev/pandas/raw/master/doc/source/_static/schemas/01_table_series.svg \"Schematic of a pandas Series\")\n",
    "\n",
    "The pandas `Series` is a fast and capable 1-dimensional array of nearly any data type we could want, and it can behave very similarly to a NumPy `ndarray` or a Python `dict`. You can take a look at any of the `Series` that make up your `DataFrame` with its label and the Python `dict` notation, or with dot-shorthand:"
   ]
  },
  {
   "cell_type": "code",
   "execution_count": 7,
   "id": "4ffc1cdb-8895-4109-8175-951837c58cda",
   "metadata": {},
   "outputs": [
    {
     "data": {
      "text/plain": [
       "datetime\n",
       "1982-01-01    26.72\n",
       "1982-02-01    26.70\n",
       "1982-03-01    27.20\n",
       "1982-04-01    28.02\n",
       "1982-05-01    28.54\n",
       "              ...  \n",
       "2020-12-01    25.53\n",
       "2021-01-01    25.58\n",
       "2021-02-01    25.81\n",
       "2021-03-01    26.75\n",
       "2021-04-01    27.40\n",
       "Name: Nino34, Length: 472, dtype: float64"
      ]
     },
     "execution_count": 7,
     "metadata": {},
     "output_type": "execute_result"
    }
   ],
   "source": [
    "df[\"Nino34\"]"
   ]
  },
  {
   "cell_type": "code",
   "execution_count": 8,
   "id": "ce6275cd-28cd-42d3-923c-3ed991639782",
   "metadata": {},
   "outputs": [
    {
     "data": {
      "text/plain": [
       "datetime\n",
       "1982-01-01    26.72\n",
       "1982-02-01    26.70\n",
       "1982-03-01    27.20\n",
       "1982-04-01    28.02\n",
       "1982-05-01    28.54\n",
       "              ...  \n",
       "2020-12-01    25.53\n",
       "2021-01-01    25.58\n",
       "2021-02-01    25.81\n",
       "2021-03-01    26.75\n",
       "2021-04-01    27.40\n",
       "Name: Nino34, Length: 472, dtype: float64"
      ]
     },
     "execution_count": 8,
     "metadata": {},
     "output_type": "execute_result"
    }
   ],
   "source": [
    "df.Nino34"
   ]
  },
  {
   "cell_type": "markdown",
   "id": "78f80147-e364-4dd3-8cd4-2d271473a41b",
   "metadata": {},
   "source": [
    "## Investigating the `DataFrame` and `Series`"
   ]
  },
  {
   "cell_type": "markdown",
   "id": "3a290429-bef8-40c8-be51-49fc4aaad8cb",
   "metadata": {},
   "source": [
    "Let's expand on what you just saw.\n",
    "\n",
    "> **Everything in pandas can be accessed with its label**\n",
    "\n",
    "No matter how your data is organized\n",
    "\n",
    "Let's reverse things a bit here. Once more, let's pull out one `Series` from our `DataFrame` using its column label."
   ]
  },
  {
   "cell_type": "code",
   "execution_count": 9,
   "id": "65bd1fd6-50e6-4f30-9c34-fea6437d565e",
   "metadata": {},
   "outputs": [
    {
     "data": {
      "text/html": [
       "<div>\n",
       "<style scoped>\n",
       "    .dataframe tbody tr th:only-of-type {\n",
       "        vertical-align: middle;\n",
       "    }\n",
       "\n",
       "    .dataframe tbody tr th {\n",
       "        vertical-align: top;\n",
       "    }\n",
       "\n",
       "    .dataframe thead th {\n",
       "        text-align: right;\n",
       "    }\n",
       "</style>\n",
       "<table border=\"1\" class=\"dataframe\">\n",
       "  <thead>\n",
       "    <tr style=\"text-align: right;\">\n",
       "      <th></th>\n",
       "      <th>Nino12</th>\n",
       "      <th>Nino12anom</th>\n",
       "      <th>Nino3</th>\n",
       "      <th>Nino3anom</th>\n",
       "      <th>Nino4</th>\n",
       "      <th>Nino4anom</th>\n",
       "      <th>Nino34</th>\n",
       "      <th>Nino34anom</th>\n",
       "    </tr>\n",
       "    <tr>\n",
       "      <th>datetime</th>\n",
       "      <th></th>\n",
       "      <th></th>\n",
       "      <th></th>\n",
       "      <th></th>\n",
       "      <th></th>\n",
       "      <th></th>\n",
       "      <th></th>\n",
       "      <th></th>\n",
       "    </tr>\n",
       "  </thead>\n",
       "  <tbody>\n",
       "    <tr>\n",
       "      <th>1982-01-01</th>\n",
       "      <td>24.29</td>\n",
       "      <td>-0.17</td>\n",
       "      <td>25.87</td>\n",
       "      <td>0.24</td>\n",
       "      <td>28.30</td>\n",
       "      <td>0.00</td>\n",
       "      <td>26.72</td>\n",
       "      <td>0.15</td>\n",
       "    </tr>\n",
       "    <tr>\n",
       "      <th>1982-02-01</th>\n",
       "      <td>25.49</td>\n",
       "      <td>-0.58</td>\n",
       "      <td>26.38</td>\n",
       "      <td>0.01</td>\n",
       "      <td>28.21</td>\n",
       "      <td>0.11</td>\n",
       "      <td>26.70</td>\n",
       "      <td>-0.02</td>\n",
       "    </tr>\n",
       "    <tr>\n",
       "      <th>1982-03-01</th>\n",
       "      <td>25.21</td>\n",
       "      <td>-1.31</td>\n",
       "      <td>26.98</td>\n",
       "      <td>-0.16</td>\n",
       "      <td>28.41</td>\n",
       "      <td>0.22</td>\n",
       "      <td>27.20</td>\n",
       "      <td>-0.02</td>\n",
       "    </tr>\n",
       "    <tr>\n",
       "      <th>1982-04-01</th>\n",
       "      <td>24.50</td>\n",
       "      <td>-0.97</td>\n",
       "      <td>27.68</td>\n",
       "      <td>0.18</td>\n",
       "      <td>28.92</td>\n",
       "      <td>0.42</td>\n",
       "      <td>28.02</td>\n",
       "      <td>0.24</td>\n",
       "    </tr>\n",
       "    <tr>\n",
       "      <th>1982-05-01</th>\n",
       "      <td>23.97</td>\n",
       "      <td>-0.23</td>\n",
       "      <td>27.79</td>\n",
       "      <td>0.71</td>\n",
       "      <td>29.49</td>\n",
       "      <td>0.70</td>\n",
       "      <td>28.54</td>\n",
       "      <td>0.69</td>\n",
       "    </tr>\n",
       "  </tbody>\n",
       "</table>\n",
       "</div>"
      ],
      "text/plain": [
       "            Nino12  Nino12anom  Nino3  Nino3anom  Nino4  Nino4anom  Nino34  \\\n",
       "datetime                                                                     \n",
       "1982-01-01   24.29       -0.17  25.87       0.24  28.30       0.00   26.72   \n",
       "1982-02-01   25.49       -0.58  26.38       0.01  28.21       0.11   26.70   \n",
       "1982-03-01   25.21       -1.31  26.98      -0.16  28.41       0.22   27.20   \n",
       "1982-04-01   24.50       -0.97  27.68       0.18  28.92       0.42   28.02   \n",
       "1982-05-01   23.97       -0.23  27.79       0.71  29.49       0.70   28.54   \n",
       "\n",
       "            Nino34anom  \n",
       "datetime                \n",
       "1982-01-01        0.15  \n",
       "1982-02-01       -0.02  \n",
       "1982-03-01       -0.02  \n",
       "1982-04-01        0.24  \n",
       "1982-05-01        0.69  "
      ]
     },
     "execution_count": 9,
     "metadata": {},
     "output_type": "execute_result"
    }
   ],
   "source": [
    "df.head()"
   ]
  },
  {
   "cell_type": "code",
   "execution_count": 10,
   "id": "6b06eef3-4286-4376-a3d9-1b76827aa466",
   "metadata": {},
   "outputs": [
    {
     "data": {
      "text/html": [
       "<div>\n",
       "<style scoped>\n",
       "    .dataframe tbody tr th:only-of-type {\n",
       "        vertical-align: middle;\n",
       "    }\n",
       "\n",
       "    .dataframe tbody tr th {\n",
       "        vertical-align: top;\n",
       "    }\n",
       "\n",
       "    .dataframe thead th {\n",
       "        text-align: right;\n",
       "    }\n",
       "</style>\n",
       "<table border=\"1\" class=\"dataframe\">\n",
       "  <thead>\n",
       "    <tr style=\"text-align: right;\">\n",
       "      <th></th>\n",
       "      <th>Nino12</th>\n",
       "      <th>Nino12anom</th>\n",
       "      <th>Nino3</th>\n",
       "      <th>Nino3anom</th>\n",
       "      <th>Nino4</th>\n",
       "      <th>Nino4anom</th>\n",
       "      <th>Nino34</th>\n",
       "      <th>Nino34anom</th>\n",
       "    </tr>\n",
       "    <tr>\n",
       "      <th>datetime</th>\n",
       "      <th></th>\n",
       "      <th></th>\n",
       "      <th></th>\n",
       "      <th></th>\n",
       "      <th></th>\n",
       "      <th></th>\n",
       "      <th></th>\n",
       "      <th></th>\n",
       "    </tr>\n",
       "  </thead>\n",
       "  <tbody>\n",
       "    <tr>\n",
       "      <th>2020-12-01</th>\n",
       "      <td>22.16</td>\n",
       "      <td>-0.60</td>\n",
       "      <td>24.38</td>\n",
       "      <td>-0.83</td>\n",
       "      <td>27.65</td>\n",
       "      <td>-0.95</td>\n",
       "      <td>25.53</td>\n",
       "      <td>-1.12</td>\n",
       "    </tr>\n",
       "    <tr>\n",
       "      <th>2021-01-01</th>\n",
       "      <td>23.89</td>\n",
       "      <td>-0.64</td>\n",
       "      <td>25.06</td>\n",
       "      <td>-0.55</td>\n",
       "      <td>27.10</td>\n",
       "      <td>-1.25</td>\n",
       "      <td>25.58</td>\n",
       "      <td>-0.99</td>\n",
       "    </tr>\n",
       "    <tr>\n",
       "      <th>2021-02-01</th>\n",
       "      <td>25.55</td>\n",
       "      <td>-0.66</td>\n",
       "      <td>25.80</td>\n",
       "      <td>-0.57</td>\n",
       "      <td>27.20</td>\n",
       "      <td>-1.00</td>\n",
       "      <td>25.81</td>\n",
       "      <td>-0.92</td>\n",
       "    </tr>\n",
       "    <tr>\n",
       "      <th>2021-03-01</th>\n",
       "      <td>26.48</td>\n",
       "      <td>-0.26</td>\n",
       "      <td>26.80</td>\n",
       "      <td>-0.39</td>\n",
       "      <td>27.79</td>\n",
       "      <td>-0.55</td>\n",
       "      <td>26.75</td>\n",
       "      <td>-0.51</td>\n",
       "    </tr>\n",
       "    <tr>\n",
       "      <th>2021-04-01</th>\n",
       "      <td>24.89</td>\n",
       "      <td>-0.80</td>\n",
       "      <td>26.96</td>\n",
       "      <td>-0.65</td>\n",
       "      <td>28.47</td>\n",
       "      <td>-0.21</td>\n",
       "      <td>27.40</td>\n",
       "      <td>-0.49</td>\n",
       "    </tr>\n",
       "  </tbody>\n",
       "</table>\n",
       "</div>"
      ],
      "text/plain": [
       "            Nino12  Nino12anom  Nino3  Nino3anom  Nino4  Nino4anom  Nino34  \\\n",
       "datetime                                                                     \n",
       "2020-12-01   22.16       -0.60  24.38      -0.83  27.65      -0.95   25.53   \n",
       "2021-01-01   23.89       -0.64  25.06      -0.55  27.10      -1.25   25.58   \n",
       "2021-02-01   25.55       -0.66  25.80      -0.57  27.20      -1.00   25.81   \n",
       "2021-03-01   26.48       -0.26  26.80      -0.39  27.79      -0.55   26.75   \n",
       "2021-04-01   24.89       -0.80  26.96      -0.65  28.47      -0.21   27.40   \n",
       "\n",
       "            Nino34anom  \n",
       "datetime                \n",
       "2020-12-01       -1.12  \n",
       "2021-01-01       -0.99  \n",
       "2021-02-01       -0.92  \n",
       "2021-03-01       -0.51  \n",
       "2021-04-01       -0.49  "
      ]
     },
     "execution_count": 10,
     "metadata": {},
     "output_type": "execute_result"
    }
   ],
   "source": [
    "df.tail()"
   ]
  },
  {
   "cell_type": "code",
   "execution_count": 11,
   "id": "2b5f9389-e2a9-41eb-b71f-3b8ca3ca57d0",
   "metadata": {},
   "outputs": [
    {
     "data": {
      "text/plain": [
       "datetime\n",
       "1982-01-01    26.72\n",
       "1982-02-01    26.70\n",
       "1982-03-01    27.20\n",
       "1982-04-01    28.02\n",
       "1982-05-01    28.54\n",
       "              ...  \n",
       "2020-12-01    25.53\n",
       "2021-01-01    25.58\n",
       "2021-02-01    25.81\n",
       "2021-03-01    26.75\n",
       "2021-04-01    27.40\n",
       "Name: Nino34, Length: 472, dtype: float64"
      ]
     },
     "execution_count": 11,
     "metadata": {},
     "output_type": "execute_result"
    }
   ],
   "source": [
    "nino34_series = df[\"Nino34\"]\n",
    "\n",
    "nino34_series"
   ]
  },
  {
   "cell_type": "markdown",
   "id": "a47437b9-b992-4eff-a8ea-83debb241334",
   "metadata": {},
   "source": [
    "`Series` can be indexed, selected, and subset as both `ndarray`-like,"
   ]
  },
  {
   "cell_type": "code",
   "execution_count": 12,
   "id": "93bcd5a6-2f03-4f01-9c2b-75e5b4d844ca",
   "metadata": {},
   "outputs": [
    {
     "data": {
      "text/plain": [
       "28.02"
      ]
     },
     "execution_count": 12,
     "metadata": {},
     "output_type": "execute_result"
    }
   ],
   "source": [
    "nino34_series[3]"
   ]
  },
  {
   "cell_type": "markdown",
   "id": "6b5d4e34-cfaf-4a4f-9656-8f184b72e16d",
   "metadata": {},
   "source": [
    "and `dict`-like, using labels"
   ]
  },
  {
   "cell_type": "code",
   "execution_count": 13,
   "id": "9fe683ed-ef1b-487f-afa8-bb0db4154d87",
   "metadata": {},
   "outputs": [
    {
     "data": {
      "text/plain": [
       "28.02"
      ]
     },
     "execution_count": 13,
     "metadata": {},
     "output_type": "execute_result"
    }
   ],
   "source": [
    "nino34_series[\"1982-04-01\"]"
   ]
  },
  {
   "cell_type": "markdown",
   "id": "34a0b292-8252-4204-981b-c90fece899e6",
   "metadata": {},
   "source": [
    "and these can be extended in both ways you might expect and ways you might not:"
   ]
  },
  {
   "cell_type": "code",
   "execution_count": 14,
   "id": "6e60fe4a-536e-40ed-ae3e-ba8e9847f31d",
   "metadata": {},
   "outputs": [
    {
     "data": {
      "text/plain": [
       "datetime\n",
       "1982-01-01    26.72\n",
       "1982-02-01    26.70\n",
       "1982-03-01    27.20\n",
       "1982-04-01    28.02\n",
       "1982-05-01    28.54\n",
       "1982-06-01    28.75\n",
       "1982-07-01    28.10\n",
       "1982-08-01    27.93\n",
       "1982-09-01    28.11\n",
       "1982-10-01    28.64\n",
       "1982-11-01    28.81\n",
       "1982-12-01    29.21\n",
       "Name: Nino34, dtype: float64"
      ]
     },
     "execution_count": 14,
     "metadata": {},
     "output_type": "execute_result"
    }
   ],
   "source": [
    "# numpy-like interval slices\n",
    "nino34_series[0:12]"
   ]
  },
  {
   "cell_type": "code",
   "execution_count": 15,
   "id": "8e707730-f948-4c12-b5d4-79ce2a4a90ed",
   "metadata": {},
   "outputs": [
    {
     "data": {
      "text/plain": [
       "datetime\n",
       "1982-01-01    26.72\n",
       "1982-02-01    26.70\n",
       "1982-03-01    27.20\n",
       "1982-04-01    28.02\n",
       "1982-05-01    28.54\n",
       "1982-06-01    28.75\n",
       "1982-07-01    28.10\n",
       "1982-08-01    27.93\n",
       "1982-09-01    28.11\n",
       "1982-10-01    28.64\n",
       "1982-11-01    28.81\n",
       "1982-12-01    29.21\n",
       "Name: Nino34, dtype: float64"
      ]
     },
     "execution_count": 15,
     "metadata": {},
     "output_type": "execute_result"
    }
   ],
   "source": [
    "# label-based slicing\n",
    "nino34_series[\"1982-01-01\":\"1982-12-01\"]"
   ]
  },
  {
   "cell_type": "markdown",
   "id": "5ffd85b4",
   "metadata": {},
   "source": [
    "Importantly, label-based slices are **inclusive** of the final value, unlike usual Python indexing rules.\n",
    "\n",
    "Let's introduce pandas-preferred ways to access your data by label, `.loc`, or by index, `.iloc`. They behave similarly to the notation introduced above, but provide more speed, security, and rigor in your value selection, as well as help you avoid [chained assignment warnings](https://pandas.pydata.org/docs/user_guide/indexing.html#returning-a-view-versus-a-copy) within pandas."
   ]
  },
  {
   "cell_type": "code",
   "execution_count": 16,
   "id": "88bc7f7f",
   "metadata": {},
   "outputs": [
    {
     "data": {
      "text/plain": [
       "28.02"
      ]
     },
     "execution_count": 16,
     "metadata": {},
     "output_type": "execute_result"
    }
   ],
   "source": [
    "nino34_series.iloc[3]"
   ]
  },
  {
   "cell_type": "code",
   "execution_count": 17,
   "id": "0f820cb4",
   "metadata": {},
   "outputs": [
    {
     "data": {
      "text/plain": [
       "datetime\n",
       "1982-01-01    26.72\n",
       "1982-02-01    26.70\n",
       "1982-03-01    27.20\n",
       "1982-04-01    28.02\n",
       "1982-05-01    28.54\n",
       "1982-06-01    28.75\n",
       "1982-07-01    28.10\n",
       "1982-08-01    27.93\n",
       "1982-09-01    28.11\n",
       "1982-10-01    28.64\n",
       "1982-11-01    28.81\n",
       "1982-12-01    29.21\n",
       "Name: Nino34, dtype: float64"
      ]
     },
     "execution_count": 17,
     "metadata": {},
     "output_type": "execute_result"
    }
   ],
   "source": [
    "nino34_series.iloc[0:12]"
   ]
  },
  {
   "cell_type": "code",
   "execution_count": 18,
   "id": "e9b66a84",
   "metadata": {},
   "outputs": [
    {
     "data": {
      "text/plain": [
       "28.02"
      ]
     },
     "execution_count": 18,
     "metadata": {},
     "output_type": "execute_result"
    }
   ],
   "source": [
    "nino34_series.loc[\"1982-04-01\"]"
   ]
  },
  {
   "cell_type": "code",
   "execution_count": 19,
   "id": "4caaf1af",
   "metadata": {},
   "outputs": [
    {
     "data": {
      "text/plain": [
       "datetime\n",
       "1982-01-01    26.72\n",
       "1982-02-01    26.70\n",
       "1982-03-01    27.20\n",
       "1982-04-01    28.02\n",
       "1982-05-01    28.54\n",
       "1982-06-01    28.75\n",
       "1982-07-01    28.10\n",
       "1982-08-01    27.93\n",
       "1982-09-01    28.11\n",
       "1982-10-01    28.64\n",
       "1982-11-01    28.81\n",
       "1982-12-01    29.21\n",
       "Name: Nino34, dtype: float64"
      ]
     },
     "execution_count": 19,
     "metadata": {},
     "output_type": "execute_result"
    }
   ],
   "source": [
    "nino34_series.loc[\"1982-01-01\":\"1982-12-01\"]"
   ]
  },
  {
   "cell_type": "markdown",
   "id": "47c4eaa5",
   "metadata": {},
   "source": [
    "These capabilities extend back to our original `DataFrame`, as well! There are apparent limitations of the `dict` label notation, e.g."
   ]
  },
  {
   "cell_type": "code",
   "execution_count": 20,
   "id": "b6e5a88b",
   "metadata": {},
   "outputs": [
    {
     "ename": "KeyError",
     "evalue": "'1982-01-01'",
     "output_type": "error",
     "traceback": [
      "\u001b[0;31m---------------------------------------------------------------------------\u001b[0m",
      "\u001b[0;31mKeyError\u001b[0m                                  Traceback (most recent call last)",
      "\u001b[0;32m~/anaconda3/envs/ncar_pandas_tutorial/lib/python3.9/site-packages/pandas/core/indexes/base.py\u001b[0m in \u001b[0;36mget_loc\u001b[0;34m(self, key, method, tolerance)\u001b[0m\n\u001b[1;32m   3079\u001b[0m             \u001b[0;32mtry\u001b[0m\u001b[0;34m:\u001b[0m\u001b[0;34m\u001b[0m\u001b[0;34m\u001b[0m\u001b[0m\n\u001b[0;32m-> 3080\u001b[0;31m                 \u001b[0;32mreturn\u001b[0m \u001b[0mself\u001b[0m\u001b[0;34m.\u001b[0m\u001b[0m_engine\u001b[0m\u001b[0;34m.\u001b[0m\u001b[0mget_loc\u001b[0m\u001b[0;34m(\u001b[0m\u001b[0mcasted_key\u001b[0m\u001b[0;34m)\u001b[0m\u001b[0;34m\u001b[0m\u001b[0;34m\u001b[0m\u001b[0m\n\u001b[0m\u001b[1;32m   3081\u001b[0m             \u001b[0;32mexcept\u001b[0m \u001b[0mKeyError\u001b[0m \u001b[0;32mas\u001b[0m \u001b[0merr\u001b[0m\u001b[0;34m:\u001b[0m\u001b[0;34m\u001b[0m\u001b[0;34m\u001b[0m\u001b[0m\n",
      "\u001b[0;32mpandas/_libs/index.pyx\u001b[0m in \u001b[0;36mpandas._libs.index.IndexEngine.get_loc\u001b[0;34m()\u001b[0m\n",
      "\u001b[0;32mpandas/_libs/index.pyx\u001b[0m in \u001b[0;36mpandas._libs.index.IndexEngine.get_loc\u001b[0;34m()\u001b[0m\n",
      "\u001b[0;32mpandas/_libs/hashtable_class_helper.pxi\u001b[0m in \u001b[0;36mpandas._libs.hashtable.PyObjectHashTable.get_item\u001b[0;34m()\u001b[0m\n",
      "\u001b[0;32mpandas/_libs/hashtable_class_helper.pxi\u001b[0m in \u001b[0;36mpandas._libs.hashtable.PyObjectHashTable.get_item\u001b[0;34m()\u001b[0m\n",
      "\u001b[0;31mKeyError\u001b[0m: '1982-01-01'",
      "\nThe above exception was the direct cause of the following exception:\n",
      "\u001b[0;31mKeyError\u001b[0m                                  Traceback (most recent call last)",
      "\u001b[0;32m<ipython-input-20-865480cd374e>\u001b[0m in \u001b[0;36m<module>\u001b[0;34m\u001b[0m\n\u001b[0;32m----> 1\u001b[0;31m \u001b[0mdf\u001b[0m\u001b[0;34m[\u001b[0m\u001b[0;34m\"1982-01-01\"\u001b[0m\u001b[0;34m]\u001b[0m\u001b[0;34m\u001b[0m\u001b[0;34m\u001b[0m\u001b[0m\n\u001b[0m",
      "\u001b[0;32m~/anaconda3/envs/ncar_pandas_tutorial/lib/python3.9/site-packages/pandas/core/frame.py\u001b[0m in \u001b[0;36m__getitem__\u001b[0;34m(self, key)\u001b[0m\n\u001b[1;32m   3022\u001b[0m             \u001b[0;32mif\u001b[0m \u001b[0mself\u001b[0m\u001b[0;34m.\u001b[0m\u001b[0mcolumns\u001b[0m\u001b[0;34m.\u001b[0m\u001b[0mnlevels\u001b[0m \u001b[0;34m>\u001b[0m \u001b[0;36m1\u001b[0m\u001b[0;34m:\u001b[0m\u001b[0;34m\u001b[0m\u001b[0;34m\u001b[0m\u001b[0m\n\u001b[1;32m   3023\u001b[0m                 \u001b[0;32mreturn\u001b[0m \u001b[0mself\u001b[0m\u001b[0;34m.\u001b[0m\u001b[0m_getitem_multilevel\u001b[0m\u001b[0;34m(\u001b[0m\u001b[0mkey\u001b[0m\u001b[0;34m)\u001b[0m\u001b[0;34m\u001b[0m\u001b[0;34m\u001b[0m\u001b[0m\n\u001b[0;32m-> 3024\u001b[0;31m             \u001b[0mindexer\u001b[0m \u001b[0;34m=\u001b[0m \u001b[0mself\u001b[0m\u001b[0;34m.\u001b[0m\u001b[0mcolumns\u001b[0m\u001b[0;34m.\u001b[0m\u001b[0mget_loc\u001b[0m\u001b[0;34m(\u001b[0m\u001b[0mkey\u001b[0m\u001b[0;34m)\u001b[0m\u001b[0;34m\u001b[0m\u001b[0;34m\u001b[0m\u001b[0m\n\u001b[0m\u001b[1;32m   3025\u001b[0m             \u001b[0;32mif\u001b[0m \u001b[0mis_integer\u001b[0m\u001b[0;34m(\u001b[0m\u001b[0mindexer\u001b[0m\u001b[0;34m)\u001b[0m\u001b[0;34m:\u001b[0m\u001b[0;34m\u001b[0m\u001b[0;34m\u001b[0m\u001b[0m\n\u001b[1;32m   3026\u001b[0m                 \u001b[0mindexer\u001b[0m \u001b[0;34m=\u001b[0m \u001b[0;34m[\u001b[0m\u001b[0mindexer\u001b[0m\u001b[0;34m]\u001b[0m\u001b[0;34m\u001b[0m\u001b[0;34m\u001b[0m\u001b[0m\n",
      "\u001b[0;32m~/anaconda3/envs/ncar_pandas_tutorial/lib/python3.9/site-packages/pandas/core/indexes/base.py\u001b[0m in \u001b[0;36mget_loc\u001b[0;34m(self, key, method, tolerance)\u001b[0m\n\u001b[1;32m   3080\u001b[0m                 \u001b[0;32mreturn\u001b[0m \u001b[0mself\u001b[0m\u001b[0;34m.\u001b[0m\u001b[0m_engine\u001b[0m\u001b[0;34m.\u001b[0m\u001b[0mget_loc\u001b[0m\u001b[0;34m(\u001b[0m\u001b[0mcasted_key\u001b[0m\u001b[0;34m)\u001b[0m\u001b[0;34m\u001b[0m\u001b[0;34m\u001b[0m\u001b[0m\n\u001b[1;32m   3081\u001b[0m             \u001b[0;32mexcept\u001b[0m \u001b[0mKeyError\u001b[0m \u001b[0;32mas\u001b[0m \u001b[0merr\u001b[0m\u001b[0;34m:\u001b[0m\u001b[0;34m\u001b[0m\u001b[0;34m\u001b[0m\u001b[0m\n\u001b[0;32m-> 3082\u001b[0;31m                 \u001b[0;32mraise\u001b[0m \u001b[0mKeyError\u001b[0m\u001b[0;34m(\u001b[0m\u001b[0mkey\u001b[0m\u001b[0;34m)\u001b[0m \u001b[0;32mfrom\u001b[0m \u001b[0merr\u001b[0m\u001b[0;34m\u001b[0m\u001b[0;34m\u001b[0m\u001b[0m\n\u001b[0m\u001b[1;32m   3083\u001b[0m \u001b[0;34m\u001b[0m\u001b[0m\n\u001b[1;32m   3084\u001b[0m         \u001b[0;32mif\u001b[0m \u001b[0mtolerance\u001b[0m \u001b[0;32mis\u001b[0m \u001b[0;32mnot\u001b[0m \u001b[0;32mNone\u001b[0m\u001b[0;34m:\u001b[0m\u001b[0;34m\u001b[0m\u001b[0;34m\u001b[0m\u001b[0m\n",
      "\u001b[0;31mKeyError\u001b[0m: '1982-01-01'"
     ]
    }
   ],
   "source": [
    "df[\"1982-01-01\"]"
   ]
  },
  {
   "cell_type": "markdown",
   "id": "3c2f6c7f",
   "metadata": {},
   "source": [
    "and"
   ]
  },
  {
   "cell_type": "code",
   "execution_count": 21,
   "id": "6a72fdde",
   "metadata": {},
   "outputs": [
    {
     "ename": "KeyError",
     "evalue": "0",
     "output_type": "error",
     "traceback": [
      "\u001b[0;31m---------------------------------------------------------------------------\u001b[0m",
      "\u001b[0;31mKeyError\u001b[0m                                  Traceback (most recent call last)",
      "\u001b[0;32m~/anaconda3/envs/ncar_pandas_tutorial/lib/python3.9/site-packages/pandas/core/indexes/base.py\u001b[0m in \u001b[0;36mget_loc\u001b[0;34m(self, key, method, tolerance)\u001b[0m\n\u001b[1;32m   3079\u001b[0m             \u001b[0;32mtry\u001b[0m\u001b[0;34m:\u001b[0m\u001b[0;34m\u001b[0m\u001b[0;34m\u001b[0m\u001b[0m\n\u001b[0;32m-> 3080\u001b[0;31m                 \u001b[0;32mreturn\u001b[0m \u001b[0mself\u001b[0m\u001b[0;34m.\u001b[0m\u001b[0m_engine\u001b[0m\u001b[0;34m.\u001b[0m\u001b[0mget_loc\u001b[0m\u001b[0;34m(\u001b[0m\u001b[0mcasted_key\u001b[0m\u001b[0;34m)\u001b[0m\u001b[0;34m\u001b[0m\u001b[0;34m\u001b[0m\u001b[0m\n\u001b[0m\u001b[1;32m   3081\u001b[0m             \u001b[0;32mexcept\u001b[0m \u001b[0mKeyError\u001b[0m \u001b[0;32mas\u001b[0m \u001b[0merr\u001b[0m\u001b[0;34m:\u001b[0m\u001b[0;34m\u001b[0m\u001b[0;34m\u001b[0m\u001b[0m\n",
      "\u001b[0;32mpandas/_libs/index.pyx\u001b[0m in \u001b[0;36mpandas._libs.index.IndexEngine.get_loc\u001b[0;34m()\u001b[0m\n",
      "\u001b[0;32mpandas/_libs/index.pyx\u001b[0m in \u001b[0;36mpandas._libs.index.IndexEngine.get_loc\u001b[0;34m()\u001b[0m\n",
      "\u001b[0;32mpandas/_libs/hashtable_class_helper.pxi\u001b[0m in \u001b[0;36mpandas._libs.hashtable.PyObjectHashTable.get_item\u001b[0;34m()\u001b[0m\n",
      "\u001b[0;32mpandas/_libs/hashtable_class_helper.pxi\u001b[0m in \u001b[0;36mpandas._libs.hashtable.PyObjectHashTable.get_item\u001b[0;34m()\u001b[0m\n",
      "\u001b[0;31mKeyError\u001b[0m: 0",
      "\nThe above exception was the direct cause of the following exception:\n",
      "\u001b[0;31mKeyError\u001b[0m                                  Traceback (most recent call last)",
      "\u001b[0;32m<ipython-input-21-ad11118bc8f3>\u001b[0m in \u001b[0;36m<module>\u001b[0;34m\u001b[0m\n\u001b[0;32m----> 1\u001b[0;31m \u001b[0mdf\u001b[0m\u001b[0;34m[\u001b[0m\u001b[0;36m0\u001b[0m\u001b[0;34m]\u001b[0m\u001b[0;34m\u001b[0m\u001b[0;34m\u001b[0m\u001b[0m\n\u001b[0m",
      "\u001b[0;32m~/anaconda3/envs/ncar_pandas_tutorial/lib/python3.9/site-packages/pandas/core/frame.py\u001b[0m in \u001b[0;36m__getitem__\u001b[0;34m(self, key)\u001b[0m\n\u001b[1;32m   3022\u001b[0m             \u001b[0;32mif\u001b[0m \u001b[0mself\u001b[0m\u001b[0;34m.\u001b[0m\u001b[0mcolumns\u001b[0m\u001b[0;34m.\u001b[0m\u001b[0mnlevels\u001b[0m \u001b[0;34m>\u001b[0m \u001b[0;36m1\u001b[0m\u001b[0;34m:\u001b[0m\u001b[0;34m\u001b[0m\u001b[0;34m\u001b[0m\u001b[0m\n\u001b[1;32m   3023\u001b[0m                 \u001b[0;32mreturn\u001b[0m \u001b[0mself\u001b[0m\u001b[0;34m.\u001b[0m\u001b[0m_getitem_multilevel\u001b[0m\u001b[0;34m(\u001b[0m\u001b[0mkey\u001b[0m\u001b[0;34m)\u001b[0m\u001b[0;34m\u001b[0m\u001b[0;34m\u001b[0m\u001b[0m\n\u001b[0;32m-> 3024\u001b[0;31m             \u001b[0mindexer\u001b[0m \u001b[0;34m=\u001b[0m \u001b[0mself\u001b[0m\u001b[0;34m.\u001b[0m\u001b[0mcolumns\u001b[0m\u001b[0;34m.\u001b[0m\u001b[0mget_loc\u001b[0m\u001b[0;34m(\u001b[0m\u001b[0mkey\u001b[0m\u001b[0;34m)\u001b[0m\u001b[0;34m\u001b[0m\u001b[0;34m\u001b[0m\u001b[0m\n\u001b[0m\u001b[1;32m   3025\u001b[0m             \u001b[0;32mif\u001b[0m \u001b[0mis_integer\u001b[0m\u001b[0;34m(\u001b[0m\u001b[0mindexer\u001b[0m\u001b[0;34m)\u001b[0m\u001b[0;34m:\u001b[0m\u001b[0;34m\u001b[0m\u001b[0;34m\u001b[0m\u001b[0m\n\u001b[1;32m   3026\u001b[0m                 \u001b[0mindexer\u001b[0m \u001b[0;34m=\u001b[0m \u001b[0;34m[\u001b[0m\u001b[0mindexer\u001b[0m\u001b[0;34m]\u001b[0m\u001b[0;34m\u001b[0m\u001b[0;34m\u001b[0m\u001b[0m\n",
      "\u001b[0;32m~/anaconda3/envs/ncar_pandas_tutorial/lib/python3.9/site-packages/pandas/core/indexes/base.py\u001b[0m in \u001b[0;36mget_loc\u001b[0;34m(self, key, method, tolerance)\u001b[0m\n\u001b[1;32m   3080\u001b[0m                 \u001b[0;32mreturn\u001b[0m \u001b[0mself\u001b[0m\u001b[0;34m.\u001b[0m\u001b[0m_engine\u001b[0m\u001b[0;34m.\u001b[0m\u001b[0mget_loc\u001b[0m\u001b[0;34m(\u001b[0m\u001b[0mcasted_key\u001b[0m\u001b[0;34m)\u001b[0m\u001b[0;34m\u001b[0m\u001b[0;34m\u001b[0m\u001b[0m\n\u001b[1;32m   3081\u001b[0m             \u001b[0;32mexcept\u001b[0m \u001b[0mKeyError\u001b[0m \u001b[0;32mas\u001b[0m \u001b[0merr\u001b[0m\u001b[0;34m:\u001b[0m\u001b[0;34m\u001b[0m\u001b[0;34m\u001b[0m\u001b[0m\n\u001b[0;32m-> 3082\u001b[0;31m                 \u001b[0;32mraise\u001b[0m \u001b[0mKeyError\u001b[0m\u001b[0;34m(\u001b[0m\u001b[0mkey\u001b[0m\u001b[0;34m)\u001b[0m \u001b[0;32mfrom\u001b[0m \u001b[0merr\u001b[0m\u001b[0;34m\u001b[0m\u001b[0;34m\u001b[0m\u001b[0m\n\u001b[0m\u001b[1;32m   3083\u001b[0m \u001b[0;34m\u001b[0m\u001b[0m\n\u001b[1;32m   3084\u001b[0m         \u001b[0;32mif\u001b[0m \u001b[0mtolerance\u001b[0m \u001b[0;32mis\u001b[0m \u001b[0;32mnot\u001b[0m \u001b[0;32mNone\u001b[0m\u001b[0;34m:\u001b[0m\u001b[0;34m\u001b[0m\u001b[0;34m\u001b[0m\u001b[0m\n",
      "\u001b[0;31mKeyError\u001b[0m: 0"
     ]
    }
   ],
   "source": [
    "df[0]"
   ]
  },
  {
   "cell_type": "markdown",
   "id": "7267eabd",
   "metadata": {},
   "source": [
    "won't work. By default, this notation allows us to pull out any of our columns as their own series, as we demonstrated before."
   ]
  },
  {
   "cell_type": "code",
   "execution_count": 22,
   "id": "2ef78098",
   "metadata": {},
   "outputs": [
    {
     "data": {
      "text/plain": [
       "datetime\n",
       "1982-01-01    26.72\n",
       "1982-02-01    26.70\n",
       "1982-03-01    27.20\n",
       "1982-04-01    28.02\n",
       "1982-05-01    28.54\n",
       "              ...  \n",
       "2020-12-01    25.53\n",
       "2021-01-01    25.58\n",
       "2021-02-01    25.81\n",
       "2021-03-01    26.75\n",
       "2021-04-01    27.40\n",
       "Name: Nino34, Length: 472, dtype: float64"
      ]
     },
     "execution_count": 22,
     "metadata": {},
     "output_type": "execute_result"
    }
   ],
   "source": [
    "df[\"Nino34\"]"
   ]
  },
  {
   "cell_type": "markdown",
   "id": "baec94ae",
   "metadata": {},
   "source": [
    "With this plus our knowledge of the `Series` `df[\"Nino34\"]` gives us, we can chain our brackets to pull out any value from any of our columns in `df`."
   ]
  },
  {
   "cell_type": "code",
   "execution_count": 23,
   "id": "a4478e43",
   "metadata": {},
   "outputs": [
    {
     "data": {
      "text/plain": [
       "28.02"
      ]
     },
     "execution_count": 23,
     "metadata": {},
     "output_type": "execute_result"
    }
   ],
   "source": [
    "df[\"Nino34\"][\"1982-04-01\"]  # selecting the Series, then selecting a label within"
   ]
  },
  {
   "cell_type": "code",
   "execution_count": 24,
   "id": "f650cda9",
   "metadata": {},
   "outputs": [
    {
     "data": {
      "text/plain": [
       "28.02"
      ]
     },
     "execution_count": 24,
     "metadata": {},
     "output_type": "execute_result"
    }
   ],
   "source": [
    "df[\"Nino34\"][3]"
   ]
  },
  {
   "cell_type": "markdown",
   "id": "00426bc7",
   "metadata": {},
   "source": [
    "However, this is not a pandas-preferred way to index and subset our data, and has limited capabilities for us. As we touched on before, `.loc` and `.iloc` give us more to work with, and their functionality grows further for `df`."
   ]
  },
  {
   "cell_type": "code",
   "execution_count": 25,
   "id": "7a1a0040",
   "metadata": {},
   "outputs": [
    {
     "data": {
      "text/plain": [
       "28.02"
      ]
     },
     "execution_count": 25,
     "metadata": {},
     "output_type": "execute_result"
    }
   ],
   "source": [
    "df.loc[\"1982-04-01\", \"Nino34\"]  # note [<row>, <column>] ordering"
   ]
  },
  {
   "cell_type": "markdown",
   "id": "1c35068c",
   "metadata": {},
   "source": [
    "These allow us to pull out entire rows of `df`,"
   ]
  },
  {
   "cell_type": "code",
   "execution_count": 26,
   "id": "96f4c8c6",
   "metadata": {},
   "outputs": [
    {
     "data": {
      "text/plain": [
       "Nino12        24.50\n",
       "Nino12anom    -0.97\n",
       "Nino3         27.68\n",
       "Nino3anom      0.18\n",
       "Nino4         28.92\n",
       "Nino4anom      0.42\n",
       "Nino34        28.02\n",
       "Nino34anom     0.24\n",
       "Name: 1982-04-01 00:00:00, dtype: float64"
      ]
     },
     "execution_count": 26,
     "metadata": {},
     "output_type": "execute_result"
    }
   ],
   "source": [
    "df.loc[\"1982-04-01\"]"
   ]
  },
  {
   "cell_type": "code",
   "execution_count": 27,
   "id": "89c0e3df",
   "metadata": {},
   "outputs": [
    {
     "data": {
      "text/html": [
       "<div>\n",
       "<style scoped>\n",
       "    .dataframe tbody tr th:only-of-type {\n",
       "        vertical-align: middle;\n",
       "    }\n",
       "\n",
       "    .dataframe tbody tr th {\n",
       "        vertical-align: top;\n",
       "    }\n",
       "\n",
       "    .dataframe thead th {\n",
       "        text-align: right;\n",
       "    }\n",
       "</style>\n",
       "<table border=\"1\" class=\"dataframe\">\n",
       "  <thead>\n",
       "    <tr style=\"text-align: right;\">\n",
       "      <th></th>\n",
       "      <th>Nino12</th>\n",
       "      <th>Nino12anom</th>\n",
       "      <th>Nino3</th>\n",
       "      <th>Nino3anom</th>\n",
       "      <th>Nino4</th>\n",
       "      <th>Nino4anom</th>\n",
       "      <th>Nino34</th>\n",
       "      <th>Nino34anom</th>\n",
       "    </tr>\n",
       "    <tr>\n",
       "      <th>datetime</th>\n",
       "      <th></th>\n",
       "      <th></th>\n",
       "      <th></th>\n",
       "      <th></th>\n",
       "      <th></th>\n",
       "      <th></th>\n",
       "      <th></th>\n",
       "      <th></th>\n",
       "    </tr>\n",
       "  </thead>\n",
       "  <tbody>\n",
       "    <tr>\n",
       "      <th>1982-01-01</th>\n",
       "      <td>24.29</td>\n",
       "      <td>-0.17</td>\n",
       "      <td>25.87</td>\n",
       "      <td>0.24</td>\n",
       "      <td>28.30</td>\n",
       "      <td>0.00</td>\n",
       "      <td>26.72</td>\n",
       "      <td>0.15</td>\n",
       "    </tr>\n",
       "    <tr>\n",
       "      <th>1982-02-01</th>\n",
       "      <td>25.49</td>\n",
       "      <td>-0.58</td>\n",
       "      <td>26.38</td>\n",
       "      <td>0.01</td>\n",
       "      <td>28.21</td>\n",
       "      <td>0.11</td>\n",
       "      <td>26.70</td>\n",
       "      <td>-0.02</td>\n",
       "    </tr>\n",
       "    <tr>\n",
       "      <th>1982-03-01</th>\n",
       "      <td>25.21</td>\n",
       "      <td>-1.31</td>\n",
       "      <td>26.98</td>\n",
       "      <td>-0.16</td>\n",
       "      <td>28.41</td>\n",
       "      <td>0.22</td>\n",
       "      <td>27.20</td>\n",
       "      <td>-0.02</td>\n",
       "    </tr>\n",
       "    <tr>\n",
       "      <th>1982-04-01</th>\n",
       "      <td>24.50</td>\n",
       "      <td>-0.97</td>\n",
       "      <td>27.68</td>\n",
       "      <td>0.18</td>\n",
       "      <td>28.92</td>\n",
       "      <td>0.42</td>\n",
       "      <td>28.02</td>\n",
       "      <td>0.24</td>\n",
       "    </tr>\n",
       "    <tr>\n",
       "      <th>1982-05-01</th>\n",
       "      <td>23.97</td>\n",
       "      <td>-0.23</td>\n",
       "      <td>27.79</td>\n",
       "      <td>0.71</td>\n",
       "      <td>29.49</td>\n",
       "      <td>0.70</td>\n",
       "      <td>28.54</td>\n",
       "      <td>0.69</td>\n",
       "    </tr>\n",
       "    <tr>\n",
       "      <th>1982-06-01</th>\n",
       "      <td>22.89</td>\n",
       "      <td>0.07</td>\n",
       "      <td>27.46</td>\n",
       "      <td>1.03</td>\n",
       "      <td>29.76</td>\n",
       "      <td>0.92</td>\n",
       "      <td>28.75</td>\n",
       "      <td>1.10</td>\n",
       "    </tr>\n",
       "    <tr>\n",
       "      <th>1982-07-01</th>\n",
       "      <td>22.47</td>\n",
       "      <td>0.87</td>\n",
       "      <td>26.44</td>\n",
       "      <td>0.82</td>\n",
       "      <td>29.38</td>\n",
       "      <td>0.58</td>\n",
       "      <td>28.10</td>\n",
       "      <td>0.88</td>\n",
       "    </tr>\n",
       "    <tr>\n",
       "      <th>1982-08-01</th>\n",
       "      <td>21.75</td>\n",
       "      <td>1.10</td>\n",
       "      <td>26.15</td>\n",
       "      <td>1.16</td>\n",
       "      <td>29.04</td>\n",
       "      <td>0.36</td>\n",
       "      <td>27.93</td>\n",
       "      <td>1.11</td>\n",
       "    </tr>\n",
       "    <tr>\n",
       "      <th>1982-09-01</th>\n",
       "      <td>21.80</td>\n",
       "      <td>1.44</td>\n",
       "      <td>26.52</td>\n",
       "      <td>1.67</td>\n",
       "      <td>29.16</td>\n",
       "      <td>0.47</td>\n",
       "      <td>28.11</td>\n",
       "      <td>1.39</td>\n",
       "    </tr>\n",
       "    <tr>\n",
       "      <th>1982-10-01</th>\n",
       "      <td>22.94</td>\n",
       "      <td>2.12</td>\n",
       "      <td>27.11</td>\n",
       "      <td>2.19</td>\n",
       "      <td>29.38</td>\n",
       "      <td>0.72</td>\n",
       "      <td>28.64</td>\n",
       "      <td>1.95</td>\n",
       "    </tr>\n",
       "    <tr>\n",
       "      <th>1982-11-01</th>\n",
       "      <td>24.59</td>\n",
       "      <td>3.00</td>\n",
       "      <td>27.62</td>\n",
       "      <td>2.64</td>\n",
       "      <td>29.23</td>\n",
       "      <td>0.60</td>\n",
       "      <td>28.81</td>\n",
       "      <td>2.16</td>\n",
       "    </tr>\n",
       "    <tr>\n",
       "      <th>1982-12-01</th>\n",
       "      <td>26.13</td>\n",
       "      <td>3.34</td>\n",
       "      <td>28.39</td>\n",
       "      <td>3.25</td>\n",
       "      <td>29.15</td>\n",
       "      <td>0.66</td>\n",
       "      <td>29.21</td>\n",
       "      <td>2.64</td>\n",
       "    </tr>\n",
       "  </tbody>\n",
       "</table>\n",
       "</div>"
      ],
      "text/plain": [
       "            Nino12  Nino12anom  Nino3  Nino3anom  Nino4  Nino4anom  Nino34  \\\n",
       "datetime                                                                     \n",
       "1982-01-01   24.29       -0.17  25.87       0.24  28.30       0.00   26.72   \n",
       "1982-02-01   25.49       -0.58  26.38       0.01  28.21       0.11   26.70   \n",
       "1982-03-01   25.21       -1.31  26.98      -0.16  28.41       0.22   27.20   \n",
       "1982-04-01   24.50       -0.97  27.68       0.18  28.92       0.42   28.02   \n",
       "1982-05-01   23.97       -0.23  27.79       0.71  29.49       0.70   28.54   \n",
       "1982-06-01   22.89        0.07  27.46       1.03  29.76       0.92   28.75   \n",
       "1982-07-01   22.47        0.87  26.44       0.82  29.38       0.58   28.10   \n",
       "1982-08-01   21.75        1.10  26.15       1.16  29.04       0.36   27.93   \n",
       "1982-09-01   21.80        1.44  26.52       1.67  29.16       0.47   28.11   \n",
       "1982-10-01   22.94        2.12  27.11       2.19  29.38       0.72   28.64   \n",
       "1982-11-01   24.59        3.00  27.62       2.64  29.23       0.60   28.81   \n",
       "1982-12-01   26.13        3.34  28.39       3.25  29.15       0.66   29.21   \n",
       "\n",
       "            Nino34anom  \n",
       "datetime                \n",
       "1982-01-01        0.15  \n",
       "1982-02-01       -0.02  \n",
       "1982-03-01       -0.02  \n",
       "1982-04-01        0.24  \n",
       "1982-05-01        0.69  \n",
       "1982-06-01        1.10  \n",
       "1982-07-01        0.88  \n",
       "1982-08-01        1.11  \n",
       "1982-09-01        1.39  \n",
       "1982-10-01        1.95  \n",
       "1982-11-01        2.16  \n",
       "1982-12-01        2.64  "
      ]
     },
     "execution_count": 27,
     "metadata": {},
     "output_type": "execute_result"
    }
   ],
   "source": [
    "df.loc[\"1982-01-01\":\"1982-12-01\"]"
   ]
  },
  {
   "cell_type": "code",
   "execution_count": null,
   "id": "b0f72693",
   "metadata": {},
   "outputs": [],
   "source": [
    "df.iloc[3]"
   ]
  },
  {
   "cell_type": "code",
   "execution_count": null,
   "id": "2a995fa6",
   "metadata": {},
   "outputs": [],
   "source": [
    "df.iloc[0:12]"
   ]
  },
  {
   "cell_type": "markdown",
   "id": "2387b321",
   "metadata": {},
   "source": [
    "Even further,"
   ]
  },
  {
   "cell_type": "code",
   "execution_count": null,
   "id": "2ce2ae17",
   "metadata": {},
   "outputs": [],
   "source": [
    "df.loc[\n",
    "    \"1982-01-01\":\"1982-12-01\",              # slice of rows\n",
    "    [\"Nino12\", \"Nino3\", \"Nino4\", \"Nino34\"]  # list of columns\n",
    "]"
   ]
  },
  {
   "cell_type": "markdown",
   "id": "09aa0dbf",
   "metadata": {},
   "source": [
    "We strongly suggest taking a look at some of pandas [rules for indexing](https://pandas.pydata.org/docs/user_guide/indexing.html#), where they demonstrate these further, discuss the limitations, and compare interacting with a `DataFrame` versus a `Series`."
   ]
  },
  {
   "cell_type": "markdown",
   "id": "7c5d4ea1-aa6c-4849-a281-7e24e8103411",
   "metadata": {},
   "source": [
    "## The Powers of Pandas\n",
    "\n",
    "### Quick Plots of Your Data\n",
    "A good way to explore your data is by making a simple plot. Pandas allows you to plot without even calling `matplotlib`! Here, we are interested in the `Nino34` series. Check this out..."
   ]
  },
  {
   "cell_type": "code",
   "execution_count": null,
   "id": "f814ba91-1fc6-427c-9f9e-c0634eda7012",
   "metadata": {},
   "outputs": [],
   "source": [
    "df.Nino34.plot();"
   ]
  },
  {
   "cell_type": "markdown",
   "id": "d861ce26-56c3-42e9-847c-e1459b3e5d1f",
   "metadata": {},
   "source": [
    "This can be a great way to take a quick look at your data, but what if you wanted a more ***quantatative*** perspective? Pandas has some handy funtionality for that too!\n",
    "\n",
    "### Statistics\n",
    "\n",
    "By using the `.describe` method, we see some general statistics! Notice how calling this on the dataframe returns a table with all the series"
   ]
  },
  {
   "cell_type": "code",
   "execution_count": null,
   "id": "98de2c4b-70ba-4a6a-8b8c-84d107bdea75",
   "metadata": {},
   "outputs": [],
   "source": [
    "df.describe()"
   ]
  },
  {
   "cell_type": "markdown",
   "id": "95819965-243f-4eb1-ae48-487d69c29aa9",
   "metadata": {},
   "source": [
    "You can look at specific statistics too, such as mean! Notice how the output is a series (column) now"
   ]
  },
  {
   "cell_type": "code",
   "execution_count": null,
   "id": "25c39275-1700-40e6-aa93-e0c830228be4",
   "metadata": {},
   "outputs": [],
   "source": [
    "df.mean()"
   ]
  },
  {
   "cell_type": "markdown",
   "id": "7e416f92-5b5e-4413-aff3-71f227802afe",
   "metadata": {},
   "source": [
    "If you are interested in a single column mean, subset for that and use `.mean`"
   ]
  },
  {
   "cell_type": "code",
   "execution_count": null,
   "id": "42a4b0a4-c4cc-4e77-b695-fc0ebad79f57",
   "metadata": {},
   "outputs": [],
   "source": [
    "df.Nino34.mean()"
   ]
  },
  {
   "cell_type": "markdown",
   "id": "12410a0e-56e5-4ab1-ab1e-c117879dc587",
   "metadata": {},
   "source": [
    "### Other Neat Plotting Functionality\n",
    "Before, we called `.plot()` which generated a single line plot. This is helpful, but there are other plots which can also help with understanding your data! Let's try using a histogram to understand distributions...\n",
    "\n",
    "The only part that changes here is we are subsetting for just two `Nino` indices, and after `.plot`, we include `.hist()` which stands for histogram"
   ]
  },
  {
   "cell_type": "code",
   "execution_count": null,
   "id": "f8482274-d4fe-4475-98c1-c5afa12f087e",
   "metadata": {},
   "outputs": [],
   "source": [
    "df[['Nino12', 'Nino34']].plot.hist();"
   ]
  },
  {
   "cell_type": "markdown",
   "id": "0248ae21-9f2a-4e20-a039-7873222c54ea",
   "metadata": {},
   "source": [
    "We can see some clear differences in the distributions, which is helpful! Another plot one might like to use would be a `boxplot`. Here, we replace `hist` with `box`"
   ]
  },
  {
   "cell_type": "code",
   "execution_count": null,
   "id": "a92c36f3-1e56-4866-bb21-bcd8570d538f",
   "metadata": {},
   "outputs": [],
   "source": [
    "df[['Nino12', 'Nino34']].plot.box();"
   ]
  },
  {
   "cell_type": "markdown",
   "id": "38424d74-61b4-45c0-8681-e40c4f00191e",
   "metadata": {},
   "source": [
    "Here, we again see a clear difference in the distributions. These are not the only plots you can use within pandas! For more examples of plotting choices, check out [the pandas plot documentation](https://pandas.pydata.org/docs/reference/api/pandas.DataFrame.plot.html)"
   ]
  },
  {
   "cell_type": "markdown",
   "id": "4c82d5d6-f32e-4fd1-8d92-be1aadab0763",
   "metadata": {},
   "source": [
    "### Advanced subsetting\n",
    "\n",
    "You may be interested in subsetting beyond slices - here, we provide examples of using a couple other options.\n",
    "\n",
    "Say you only want the month of January - you can use `df.index.month` to query for which month you are interested in (in this case, 1 for the month of January)"
   ]
  },
  {
   "cell_type": "code",
   "execution_count": null,
   "id": "33cd0888-75ad-4dd2-bd8e-94683a80c435",
   "metadata": {},
   "outputs": [],
   "source": [
    "# Uses the datetime column\n",
    "df[df.index.month == 1]"
   ]
  },
  {
   "cell_type": "markdown",
   "id": "2b16dc05-7c04-4099-9e06-73454e543455",
   "metadata": {},
   "source": [
    "You could even assign this month to a new column!"
   ]
  },
  {
   "cell_type": "code",
   "execution_count": null,
   "id": "2fa7cb3c-a1dc-43ca-8ba0-2d542cd228d8",
   "metadata": {},
   "outputs": [],
   "source": [
    "df['month'] = df.index.month"
   ]
  },
  {
   "cell_type": "markdown",
   "id": "ac9e0606-18ad-4ec2-a204-50337e422505",
   "metadata": {},
   "source": [
    "Now that it is its own column (series), we can use groupby to group by the month, then taking the average, to determine average monthly values over the dataset"
   ]
  },
  {
   "cell_type": "code",
   "execution_count": null,
   "id": "de77165d-84f2-46d3-9c82-ef3fe1b05a99",
   "metadata": {},
   "outputs": [],
   "source": [
    "df.groupby('month').mean().plot();"
   ]
  },
  {
   "cell_type": "markdown",
   "id": "68473eb4-b2e9-4df2-a9e1-adf507e6ec32",
   "metadata": {},
   "source": [
    "You can also use conditional indexing, such that you can search where rows meet a certain criteria. In this case, we are interested where the Nino34 anomaly is greater than 2"
   ]
  },
  {
   "cell_type": "code",
   "execution_count": null,
   "id": "a7c164c2-b0db-418d-a389-202214c48652",
   "metadata": {},
   "outputs": [],
   "source": [
    "df[df.Nino34anom > 2]"
   ]
  },
  {
   "cell_type": "markdown",
   "id": "11b451be-a9b1-4334-8a41-82e91ddd9f8a",
   "metadata": {},
   "source": [
    "### Resampling"
   ]
  },
  {
   "cell_type": "code",
   "execution_count": null,
   "id": "9d76ba2c-87dd-42bf-acf6-6c5002dc31fe",
   "metadata": {},
   "outputs": [],
   "source": [
    "df.Nino34.plot()"
   ]
  },
  {
   "cell_type": "code",
   "execution_count": null,
   "id": "5e49332c-0942-46c5-a51d-d41b864cdb91",
   "metadata": {},
   "outputs": [],
   "source": [
    "df.Nino34.resample('1Y').mean().plot()"
   ]
  },
  {
   "cell_type": "markdown",
   "id": "a8e797a9-e76c-4f6f-9ff6-7e388e9664d9",
   "metadata": {},
   "source": [
    "### Applying operations to a dataframe\n",
    "\n",
    "Often times, people are interested in applying calculations to data within pandas dataframes. Here, we setup a function to convert from degrees Celsius to Kelvin"
   ]
  },
  {
   "cell_type": "code",
   "execution_count": null,
   "id": "95daccec-17d3-48c3-8472-ed21b93f9d4d",
   "metadata": {},
   "outputs": [],
   "source": [
    "def convert_degc_to_kelvin(temperature_degc):\n",
    "    \"\"\"\n",
    "    Converts from degrees celsius to Kelvin\n",
    "    \"\"\"\n",
    "    \n",
    "    return temperature_degc + 273.15"
   ]
  },
  {
   "cell_type": "markdown",
   "id": "dc8dc438-cad9-4f8b-a9c1-c000ede7ba93",
   "metadata": {},
   "source": [
    "Now, this function works a single value"
   ]
  },
  {
   "cell_type": "code",
   "execution_count": null,
   "id": "7a1827c1-5df9-4a77-8be5-011cbe324d78",
   "metadata": {},
   "outputs": [],
   "source": [
    "# Convert a single value\n",
    "convert_degc_to_kelvin(0)"
   ]
  },
  {
   "cell_type": "markdown",
   "id": "5f2881dd-52ec-449f-b621-e61c01ea275d",
   "metadata": {},
   "source": [
    "But what if we want to apply this to our dataframe? We can subset for Nino34, which is in degrees Celsius"
   ]
  },
  {
   "cell_type": "code",
   "execution_count": null,
   "id": "04b423c7-3264-48a3-b1c7-1dd1e097e377",
   "metadata": {},
   "outputs": [],
   "source": [
    "nino_34 = df.Nino34"
   ]
  },
  {
   "cell_type": "code",
   "execution_count": null,
   "id": "af3bbd73-0d3a-4ff1-a3bf-7d7eccf3a292",
   "metadata": {},
   "outputs": [],
   "source": [
    "nino_34"
   ]
  },
  {
   "cell_type": "markdown",
   "id": "b0a6f963-2140-4c42-a9ee-4cd25dd911da",
   "metadata": {},
   "source": [
    "Notice how the object type is a pandas series"
   ]
  },
  {
   "cell_type": "code",
   "execution_count": null,
   "id": "4b73e288-7f0d-4f0b-a5a0-a8118121a235",
   "metadata": {},
   "outputs": [],
   "source": [
    "type(df.Nino12[0:10])"
   ]
  },
  {
   "cell_type": "markdown",
   "id": "c4ce5186-3b76-4c97-9308-dc4fa6ac92a9",
   "metadata": {},
   "source": [
    "If you call `.values`, the object type is now a numpy array. Pandas series values include numpy arrays, and calling `.values` returns the series as a numpy array!"
   ]
  },
  {
   "cell_type": "code",
   "execution_count": null,
   "id": "47b55cc5-829d-40be-8181-ad98f5e5da6b",
   "metadata": {},
   "outputs": [],
   "source": [
    "type(df.Nino12.values[0:10])"
   ]
  },
  {
   "cell_type": "markdown",
   "id": "312a7ff7-428e-4666-ba28-ac748807d91e",
   "metadata": {},
   "source": [
    "Let's apply this calculation to our pandas series, which returns a pandas series"
   ]
  },
  {
   "cell_type": "code",
   "execution_count": null,
   "id": "80674e2f-3611-4f3c-9174-fd516273065c",
   "metadata": {},
   "outputs": [],
   "source": [
    "convert_degc_to_kelvin(nino_34)"
   ]
  },
  {
   "cell_type": "markdown",
   "id": "838099bf-ce32-4318-b65b-30fc5ee4d8c8",
   "metadata": {},
   "source": [
    "If we include `.values`, it returns a `numpy array`"
   ]
  },
  {
   "cell_type": "code",
   "execution_count": null,
   "id": "46c58581-f620-44b5-b173-5213ce03b06a",
   "metadata": {},
   "outputs": [],
   "source": [
    "convert_degc_to_kelvin(nino_34.values)"
   ]
  },
  {
   "cell_type": "markdown",
   "id": "57f8bfa9-f772-480c-a85a-692b48d4253f",
   "metadata": {},
   "source": [
    "We can now assign our `pandas series` with the converted temperatures to a new column in our dataframe!"
   ]
  },
  {
   "cell_type": "code",
   "execution_count": null,
   "id": "7ac669fe-af31-4fec-93f8-847054902869",
   "metadata": {},
   "outputs": [],
   "source": [
    "df['Nino34_degK'] = convert_degc_to_kelvin(nino_34)"
   ]
  },
  {
   "cell_type": "code",
   "execution_count": null,
   "id": "27f20a23-ec1b-412c-949f-538612b1b59d",
   "metadata": {},
   "outputs": [],
   "source": [
    "df.Nino34_degK"
   ]
  },
  {
   "cell_type": "markdown",
   "id": "838671a7-4854-4c4d-9194-05a340eb07b9",
   "metadata": {},
   "source": [
    "Notice how the name of our variable now matches the calculation\n",
    "\n",
    "Now that our analysis is done, we can save our data to a `csv` for later - or share with others!"
   ]
  },
  {
   "cell_type": "code",
   "execution_count": null,
   "id": "8355c568-fb05-4890-88ba-8561693c781f",
   "metadata": {},
   "outputs": [],
   "source": [
    "df.to_csv('nino_analyzed_output.csv')"
   ]
  },
  {
   "cell_type": "code",
   "execution_count": null,
   "id": "92986ecc-5862-4c0a-a008-f625463aae31",
   "metadata": {},
   "outputs": [],
   "source": [
    "pd.read_csv('nino_analyzed_output.csv', index_col=0, parse_dates=True)"
   ]
  }
 ],
 "metadata": {
  "kernelspec": {
   "display_name": "Python 3",
   "language": "python",
   "name": "python3"
  },
  "language_info": {
   "codemirror_mode": {
    "name": "ipython",
    "version": 3
   },
   "file_extension": ".py",
   "mimetype": "text/x-python",
   "name": "python",
   "nbconvert_exporter": "python",
   "pygments_lexer": "ipython3",
   "version": "3.9.4"
  }
 },
 "nbformat": 4,
 "nbformat_minor": 5
}
