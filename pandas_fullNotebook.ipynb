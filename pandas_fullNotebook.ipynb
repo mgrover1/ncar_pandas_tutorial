{
 "cells": [
  {
   "cell_type": "markdown",
   "id": "69075540-138c-4a6c-907a-5d04b345ad7e",
   "metadata": {},
   "source": [
    "\n",
    "\n",
    "# Introduction to Pandas\n",
    "\n",
    "![pandas Logo](https://github.com/pandas-dev/pandas/raw/master/web/pandas/static/img/pandas.svg \"pandas Logo\")\n",
    "\n",
    "## Questions\n",
    "1. What are the important pandas data structures?\n",
    "1. How do I interact with these?\n",
    "1. What else can pandas do for me?"
   ]
  },
  {
   "cell_type": "code",
   "execution_count": 1,
   "id": "b2e06b71-f8b7-4f55-a1cd-cb90ed5f14c7",
   "metadata": {},
   "outputs": [],
   "source": [
    "import pandas as pd"
   ]
  },
  {
   "cell_type": "markdown",
   "id": "a403b940-9269-4d2d-ba2b-4bf122a546b0",
   "metadata": {},
   "source": [
    "## The pandas [`DataFrame`](https://pandas.pydata.org/docs/user_guide/dsintro.html#dataframe)...\n",
    "... is a **labeled**, two dimensional columnal structure similar to a table, spreadsheet, or the R `data.frame`.\n",
    "\n",
    "![dataframe schematic](https://github.com/pandas-dev/pandas/raw/master/doc/source/_static/schemas/01_table_dataframe.svg \"Schematic of a pandas DataFrame\")\n",
    "\n",
    "The `columns` that make up our `DataFrame` can be lists, dictionaries, NumPy arrays, pandas `Series`, or more. Within these `columns` our data can be any texts, numbers, dates and times, or many other data types you may have encountered in Python and NumPy. Shown here on the left in dark gray, our very first `column`  is uniquely referrred to as an `Index`, and this contains information characterizing each row of our `DataFrame`. Similar to any other `column`, the `index` can label our rows by text, numbers, `datetime`s (a popular one!), or more.\n",
    "\n",
    "Let's take a look by reading in some `.csv` data [[ref](https://www.ncdc.noaa.gov/teleconnections/enso/indicators/sst/)]."
   ]
  },
  {
   "cell_type": "code",
   "execution_count": 2,
   "id": "8a744cbf-9bb6-4da4-90d3-31c737c771d3",
   "metadata": {},
   "outputs": [
    {
     "data": {
      "text/html": [
       "<div>\n",
       "<style scoped>\n",
       "    .dataframe tbody tr th:only-of-type {\n",
       "        vertical-align: middle;\n",
       "    }\n",
       "\n",
       "    .dataframe tbody tr th {\n",
       "        vertical-align: top;\n",
       "    }\n",
       "\n",
       "    .dataframe thead th {\n",
       "        text-align: right;\n",
       "    }\n",
       "</style>\n",
       "<table border=\"1\" class=\"dataframe\">\n",
       "  <thead>\n",
       "    <tr style=\"text-align: right;\">\n",
       "      <th></th>\n",
       "      <th>datetime</th>\n",
       "      <th>Nino12</th>\n",
       "      <th>Nino12anom</th>\n",
       "      <th>Nino3</th>\n",
       "      <th>Nino3anom</th>\n",
       "      <th>Nino4</th>\n",
       "      <th>Nino4anom</th>\n",
       "      <th>Nino34</th>\n",
       "      <th>Nino34anom</th>\n",
       "    </tr>\n",
       "  </thead>\n",
       "  <tbody>\n",
       "    <tr>\n",
       "      <th>0</th>\n",
       "      <td>1982-01-01</td>\n",
       "      <td>24.29</td>\n",
       "      <td>-0.17</td>\n",
       "      <td>25.87</td>\n",
       "      <td>0.24</td>\n",
       "      <td>28.30</td>\n",
       "      <td>0.00</td>\n",
       "      <td>26.72</td>\n",
       "      <td>0.15</td>\n",
       "    </tr>\n",
       "    <tr>\n",
       "      <th>1</th>\n",
       "      <td>1982-02-01</td>\n",
       "      <td>25.49</td>\n",
       "      <td>-0.58</td>\n",
       "      <td>26.38</td>\n",
       "      <td>0.01</td>\n",
       "      <td>28.21</td>\n",
       "      <td>0.11</td>\n",
       "      <td>26.70</td>\n",
       "      <td>-0.02</td>\n",
       "    </tr>\n",
       "    <tr>\n",
       "      <th>2</th>\n",
       "      <td>1982-03-01</td>\n",
       "      <td>25.21</td>\n",
       "      <td>-1.31</td>\n",
       "      <td>26.98</td>\n",
       "      <td>-0.16</td>\n",
       "      <td>28.41</td>\n",
       "      <td>0.22</td>\n",
       "      <td>27.20</td>\n",
       "      <td>-0.02</td>\n",
       "    </tr>\n",
       "    <tr>\n",
       "      <th>3</th>\n",
       "      <td>1982-04-01</td>\n",
       "      <td>24.50</td>\n",
       "      <td>-0.97</td>\n",
       "      <td>27.68</td>\n",
       "      <td>0.18</td>\n",
       "      <td>28.92</td>\n",
       "      <td>0.42</td>\n",
       "      <td>28.02</td>\n",
       "      <td>0.24</td>\n",
       "    </tr>\n",
       "    <tr>\n",
       "      <th>4</th>\n",
       "      <td>1982-05-01</td>\n",
       "      <td>23.97</td>\n",
       "      <td>-0.23</td>\n",
       "      <td>27.79</td>\n",
       "      <td>0.71</td>\n",
       "      <td>29.49</td>\n",
       "      <td>0.70</td>\n",
       "      <td>28.54</td>\n",
       "      <td>0.69</td>\n",
       "    </tr>\n",
       "    <tr>\n",
       "      <th>...</th>\n",
       "      <td>...</td>\n",
       "      <td>...</td>\n",
       "      <td>...</td>\n",
       "      <td>...</td>\n",
       "      <td>...</td>\n",
       "      <td>...</td>\n",
       "      <td>...</td>\n",
       "      <td>...</td>\n",
       "      <td>...</td>\n",
       "    </tr>\n",
       "    <tr>\n",
       "      <th>467</th>\n",
       "      <td>2020-12-01</td>\n",
       "      <td>22.16</td>\n",
       "      <td>-0.60</td>\n",
       "      <td>24.38</td>\n",
       "      <td>-0.83</td>\n",
       "      <td>27.65</td>\n",
       "      <td>-0.95</td>\n",
       "      <td>25.53</td>\n",
       "      <td>-1.12</td>\n",
       "    </tr>\n",
       "    <tr>\n",
       "      <th>468</th>\n",
       "      <td>2021-01-01</td>\n",
       "      <td>23.89</td>\n",
       "      <td>-0.64</td>\n",
       "      <td>25.06</td>\n",
       "      <td>-0.55</td>\n",
       "      <td>27.10</td>\n",
       "      <td>-1.25</td>\n",
       "      <td>25.58</td>\n",
       "      <td>-0.99</td>\n",
       "    </tr>\n",
       "    <tr>\n",
       "      <th>469</th>\n",
       "      <td>2021-02-01</td>\n",
       "      <td>25.55</td>\n",
       "      <td>-0.66</td>\n",
       "      <td>25.80</td>\n",
       "      <td>-0.57</td>\n",
       "      <td>27.20</td>\n",
       "      <td>-1.00</td>\n",
       "      <td>25.81</td>\n",
       "      <td>-0.92</td>\n",
       "    </tr>\n",
       "    <tr>\n",
       "      <th>470</th>\n",
       "      <td>2021-03-01</td>\n",
       "      <td>26.48</td>\n",
       "      <td>-0.26</td>\n",
       "      <td>26.80</td>\n",
       "      <td>-0.39</td>\n",
       "      <td>27.79</td>\n",
       "      <td>-0.55</td>\n",
       "      <td>26.75</td>\n",
       "      <td>-0.51</td>\n",
       "    </tr>\n",
       "    <tr>\n",
       "      <th>471</th>\n",
       "      <td>2021-04-01</td>\n",
       "      <td>24.89</td>\n",
       "      <td>-0.80</td>\n",
       "      <td>26.96</td>\n",
       "      <td>-0.65</td>\n",
       "      <td>28.47</td>\n",
       "      <td>-0.21</td>\n",
       "      <td>27.40</td>\n",
       "      <td>-0.49</td>\n",
       "    </tr>\n",
       "  </tbody>\n",
       "</table>\n",
       "<p>472 rows × 9 columns</p>\n",
       "</div>"
      ],
      "text/plain": [
       "       datetime  Nino12  Nino12anom  Nino3  Nino3anom  Nino4  Nino4anom  \\\n",
       "0    1982-01-01   24.29       -0.17  25.87       0.24  28.30       0.00   \n",
       "1    1982-02-01   25.49       -0.58  26.38       0.01  28.21       0.11   \n",
       "2    1982-03-01   25.21       -1.31  26.98      -0.16  28.41       0.22   \n",
       "3    1982-04-01   24.50       -0.97  27.68       0.18  28.92       0.42   \n",
       "4    1982-05-01   23.97       -0.23  27.79       0.71  29.49       0.70   \n",
       "..          ...     ...         ...    ...        ...    ...        ...   \n",
       "467  2020-12-01   22.16       -0.60  24.38      -0.83  27.65      -0.95   \n",
       "468  2021-01-01   23.89       -0.64  25.06      -0.55  27.10      -1.25   \n",
       "469  2021-02-01   25.55       -0.66  25.80      -0.57  27.20      -1.00   \n",
       "470  2021-03-01   26.48       -0.26  26.80      -0.39  27.79      -0.55   \n",
       "471  2021-04-01   24.89       -0.80  26.96      -0.65  28.47      -0.21   \n",
       "\n",
       "     Nino34  Nino34anom  \n",
       "0     26.72        0.15  \n",
       "1     26.70       -0.02  \n",
       "2     27.20       -0.02  \n",
       "3     28.02        0.24  \n",
       "4     28.54        0.69  \n",
       "..      ...         ...  \n",
       "467   25.53       -1.12  \n",
       "468   25.58       -0.99  \n",
       "469   25.81       -0.92  \n",
       "470   26.75       -0.51  \n",
       "471   27.40       -0.49  \n",
       "\n",
       "[472 rows x 9 columns]"
      ]
     },
     "execution_count": 2,
     "metadata": {},
     "output_type": "execute_result"
    }
   ],
   "source": [
    "df = pd.read_csv('enso_data.csv')\n",
    "\n",
    "df"
   ]
  },
  {
   "cell_type": "code",
   "execution_count": 3,
   "id": "ab4e8cc9-d302-4294-aeb8-5479863a0643",
   "metadata": {},
   "outputs": [
    {
     "data": {
      "text/plain": [
       "RangeIndex(start=0, stop=472, step=1)"
      ]
     },
     "execution_count": 3,
     "metadata": {},
     "output_type": "execute_result"
    }
   ],
   "source": [
    "df.index"
   ]
  },
  {
   "cell_type": "markdown",
   "id": "88fe487a-d018-49a7-adb4-e6861629e93a",
   "metadata": {},
   "source": [
    "Our indexing column isn't particularly helpful currently. pandas is clever! A few optional keyword arguments later, and..."
   ]
  },
  {
   "cell_type": "code",
   "execution_count": 4,
   "id": "4569d92d-9aa4-4497-87dc-31f2745d0bfa",
   "metadata": {},
   "outputs": [
    {
     "data": {
      "text/html": [
       "<div>\n",
       "<style scoped>\n",
       "    .dataframe tbody tr th:only-of-type {\n",
       "        vertical-align: middle;\n",
       "    }\n",
       "\n",
       "    .dataframe tbody tr th {\n",
       "        vertical-align: top;\n",
       "    }\n",
       "\n",
       "    .dataframe thead th {\n",
       "        text-align: right;\n",
       "    }\n",
       "</style>\n",
       "<table border=\"1\" class=\"dataframe\">\n",
       "  <thead>\n",
       "    <tr style=\"text-align: right;\">\n",
       "      <th></th>\n",
       "      <th>Nino12</th>\n",
       "      <th>Nino12anom</th>\n",
       "      <th>Nino3</th>\n",
       "      <th>Nino3anom</th>\n",
       "      <th>Nino4</th>\n",
       "      <th>Nino4anom</th>\n",
       "      <th>Nino34</th>\n",
       "      <th>Nino34anom</th>\n",
       "    </tr>\n",
       "    <tr>\n",
       "      <th>datetime</th>\n",
       "      <th></th>\n",
       "      <th></th>\n",
       "      <th></th>\n",
       "      <th></th>\n",
       "      <th></th>\n",
       "      <th></th>\n",
       "      <th></th>\n",
       "      <th></th>\n",
       "    </tr>\n",
       "  </thead>\n",
       "  <tbody>\n",
       "    <tr>\n",
       "      <th>1982-01-01</th>\n",
       "      <td>24.29</td>\n",
       "      <td>-0.17</td>\n",
       "      <td>25.87</td>\n",
       "      <td>0.24</td>\n",
       "      <td>28.30</td>\n",
       "      <td>0.00</td>\n",
       "      <td>26.72</td>\n",
       "      <td>0.15</td>\n",
       "    </tr>\n",
       "    <tr>\n",
       "      <th>1982-02-01</th>\n",
       "      <td>25.49</td>\n",
       "      <td>-0.58</td>\n",
       "      <td>26.38</td>\n",
       "      <td>0.01</td>\n",
       "      <td>28.21</td>\n",
       "      <td>0.11</td>\n",
       "      <td>26.70</td>\n",
       "      <td>-0.02</td>\n",
       "    </tr>\n",
       "    <tr>\n",
       "      <th>1982-03-01</th>\n",
       "      <td>25.21</td>\n",
       "      <td>-1.31</td>\n",
       "      <td>26.98</td>\n",
       "      <td>-0.16</td>\n",
       "      <td>28.41</td>\n",
       "      <td>0.22</td>\n",
       "      <td>27.20</td>\n",
       "      <td>-0.02</td>\n",
       "    </tr>\n",
       "    <tr>\n",
       "      <th>1982-04-01</th>\n",
       "      <td>24.50</td>\n",
       "      <td>-0.97</td>\n",
       "      <td>27.68</td>\n",
       "      <td>0.18</td>\n",
       "      <td>28.92</td>\n",
       "      <td>0.42</td>\n",
       "      <td>28.02</td>\n",
       "      <td>0.24</td>\n",
       "    </tr>\n",
       "    <tr>\n",
       "      <th>1982-05-01</th>\n",
       "      <td>23.97</td>\n",
       "      <td>-0.23</td>\n",
       "      <td>27.79</td>\n",
       "      <td>0.71</td>\n",
       "      <td>29.49</td>\n",
       "      <td>0.70</td>\n",
       "      <td>28.54</td>\n",
       "      <td>0.69</td>\n",
       "    </tr>\n",
       "    <tr>\n",
       "      <th>...</th>\n",
       "      <td>...</td>\n",
       "      <td>...</td>\n",
       "      <td>...</td>\n",
       "      <td>...</td>\n",
       "      <td>...</td>\n",
       "      <td>...</td>\n",
       "      <td>...</td>\n",
       "      <td>...</td>\n",
       "    </tr>\n",
       "    <tr>\n",
       "      <th>2020-12-01</th>\n",
       "      <td>22.16</td>\n",
       "      <td>-0.60</td>\n",
       "      <td>24.38</td>\n",
       "      <td>-0.83</td>\n",
       "      <td>27.65</td>\n",
       "      <td>-0.95</td>\n",
       "      <td>25.53</td>\n",
       "      <td>-1.12</td>\n",
       "    </tr>\n",
       "    <tr>\n",
       "      <th>2021-01-01</th>\n",
       "      <td>23.89</td>\n",
       "      <td>-0.64</td>\n",
       "      <td>25.06</td>\n",
       "      <td>-0.55</td>\n",
       "      <td>27.10</td>\n",
       "      <td>-1.25</td>\n",
       "      <td>25.58</td>\n",
       "      <td>-0.99</td>\n",
       "    </tr>\n",
       "    <tr>\n",
       "      <th>2021-02-01</th>\n",
       "      <td>25.55</td>\n",
       "      <td>-0.66</td>\n",
       "      <td>25.80</td>\n",
       "      <td>-0.57</td>\n",
       "      <td>27.20</td>\n",
       "      <td>-1.00</td>\n",
       "      <td>25.81</td>\n",
       "      <td>-0.92</td>\n",
       "    </tr>\n",
       "    <tr>\n",
       "      <th>2021-03-01</th>\n",
       "      <td>26.48</td>\n",
       "      <td>-0.26</td>\n",
       "      <td>26.80</td>\n",
       "      <td>-0.39</td>\n",
       "      <td>27.79</td>\n",
       "      <td>-0.55</td>\n",
       "      <td>26.75</td>\n",
       "      <td>-0.51</td>\n",
       "    </tr>\n",
       "    <tr>\n",
       "      <th>2021-04-01</th>\n",
       "      <td>24.89</td>\n",
       "      <td>-0.80</td>\n",
       "      <td>26.96</td>\n",
       "      <td>-0.65</td>\n",
       "      <td>28.47</td>\n",
       "      <td>-0.21</td>\n",
       "      <td>27.40</td>\n",
       "      <td>-0.49</td>\n",
       "    </tr>\n",
       "  </tbody>\n",
       "</table>\n",
       "<p>472 rows × 8 columns</p>\n",
       "</div>"
      ],
      "text/plain": [
       "            Nino12  Nino12anom  Nino3  Nino3anom  Nino4  Nino4anom  Nino34  \\\n",
       "datetime                                                                     \n",
       "1982-01-01   24.29       -0.17  25.87       0.24  28.30       0.00   26.72   \n",
       "1982-02-01   25.49       -0.58  26.38       0.01  28.21       0.11   26.70   \n",
       "1982-03-01   25.21       -1.31  26.98      -0.16  28.41       0.22   27.20   \n",
       "1982-04-01   24.50       -0.97  27.68       0.18  28.92       0.42   28.02   \n",
       "1982-05-01   23.97       -0.23  27.79       0.71  29.49       0.70   28.54   \n",
       "...            ...         ...    ...        ...    ...        ...     ...   \n",
       "2020-12-01   22.16       -0.60  24.38      -0.83  27.65      -0.95   25.53   \n",
       "2021-01-01   23.89       -0.64  25.06      -0.55  27.10      -1.25   25.58   \n",
       "2021-02-01   25.55       -0.66  25.80      -0.57  27.20      -1.00   25.81   \n",
       "2021-03-01   26.48       -0.26  26.80      -0.39  27.79      -0.55   26.75   \n",
       "2021-04-01   24.89       -0.80  26.96      -0.65  28.47      -0.21   27.40   \n",
       "\n",
       "            Nino34anom  \n",
       "datetime                \n",
       "1982-01-01        0.15  \n",
       "1982-02-01       -0.02  \n",
       "1982-03-01       -0.02  \n",
       "1982-04-01        0.24  \n",
       "1982-05-01        0.69  \n",
       "...                ...  \n",
       "2020-12-01       -1.12  \n",
       "2021-01-01       -0.99  \n",
       "2021-02-01       -0.92  \n",
       "2021-03-01       -0.51  \n",
       "2021-04-01       -0.49  \n",
       "\n",
       "[472 rows x 8 columns]"
      ]
     },
     "execution_count": 4,
     "metadata": {},
     "output_type": "execute_result"
    }
   ],
   "source": [
    "df = pd.read_csv('enso_data.csv', index_col=0, parse_dates=True)\n",
    "\n",
    "df"
   ]
  },
  {
   "cell_type": "code",
   "execution_count": 5,
   "id": "2d681954-9562-444f-a9b9-d47d33ec8389",
   "metadata": {},
   "outputs": [
    {
     "data": {
      "text/plain": [
       "DatetimeIndex(['1982-01-01', '1982-02-01', '1982-03-01', '1982-04-01',\n",
       "               '1982-05-01', '1982-06-01', '1982-07-01', '1982-08-01',\n",
       "               '1982-09-01', '1982-10-01',\n",
       "               ...\n",
       "               '2020-07-01', '2020-08-01', '2020-09-01', '2020-10-01',\n",
       "               '2020-11-01', '2020-12-01', '2021-01-01', '2021-02-01',\n",
       "               '2021-03-01', '2021-04-01'],\n",
       "              dtype='datetime64[ns]', name='datetime', length=472, freq=None)"
      ]
     },
     "execution_count": 5,
     "metadata": {},
     "output_type": "execute_result"
    }
   ],
   "source": [
    "df.index"
   ]
  },
  {
   "cell_type": "markdown",
   "id": "4d12d09c-9828-411e-b64a-c495c8d9584e",
   "metadata": {},
   "source": [
    "... now we have our data helpfully organized by a proper `datetime`-like object. Each of our multiple columns of data can now be referenced by their date! This sneak preview at the pandas `DatetimeIndex` also unlocks for us much of pandas most useful time series functionality. Don't worry, we'll get there. What are the actual columns of data we've read in here?"
   ]
  },
  {
   "cell_type": "code",
   "execution_count": 6,
   "id": "2a5d62c8-f3ad-4caa-b970-c29c7729d2a3",
   "metadata": {},
   "outputs": [
    {
     "data": {
      "text/plain": [
       "Index(['Nino12', 'Nino12anom', 'Nino3', 'Nino3anom', 'Nino4', 'Nino4anom',\n",
       "       'Nino34', 'Nino34anom'],\n",
       "      dtype='object')"
      ]
     },
     "execution_count": 6,
     "metadata": {},
     "output_type": "execute_result"
    }
   ],
   "source": [
    "df.columns"
   ]
  },
  {
   "cell_type": "markdown",
   "id": "dafe6c86-4498-416e-a1c8-5ed58dbc4078",
   "metadata": {},
   "source": [
    "## The pandas [`Series`](https://pandas.pydata.org/docs/user_guide/dsintro.html#series)...\n",
    "\n",
    "... is essentially any one of the columns of our `DataFrame`, with its accompanying `Index` to provide a label for each value in our column.\n",
    "\n",
    "![pandas Series](https://github.com/pandas-dev/pandas/raw/master/doc/source/_static/schemas/01_table_series.svg \"Schematic of a pandas Series\")\n",
    "\n",
    "The pandas `Series` is a fast and capable 1-dimensional array of nearly any data type we could want, and it can behave very similarly to a NumPy `ndarray` or a Python `dict`. You can take a look at any of the `Series` that make up your `DataFrame` with its label and the Python `dict` notation, or with dot-shorthand:"
   ]
  },
  {
   "cell_type": "code",
   "execution_count": 7,
   "id": "4ffc1cdb-8895-4109-8175-951837c58cda",
   "metadata": {},
   "outputs": [
    {
     "data": {
      "text/plain": [
       "datetime\n",
       "1982-01-01    26.72\n",
       "1982-02-01    26.70\n",
       "1982-03-01    27.20\n",
       "1982-04-01    28.02\n",
       "1982-05-01    28.54\n",
       "              ...  \n",
       "2020-12-01    25.53\n",
       "2021-01-01    25.58\n",
       "2021-02-01    25.81\n",
       "2021-03-01    26.75\n",
       "2021-04-01    27.40\n",
       "Name: Nino34, Length: 472, dtype: float64"
      ]
     },
     "execution_count": 7,
     "metadata": {},
     "output_type": "execute_result"
    }
   ],
   "source": [
    "df[\"Nino34\"]"
   ]
  },
  {
   "cell_type": "code",
   "execution_count": 8,
   "id": "ce6275cd-28cd-42d3-923c-3ed991639782",
   "metadata": {},
   "outputs": [
    {
     "data": {
      "text/plain": [
       "datetime\n",
       "1982-01-01    26.72\n",
       "1982-02-01    26.70\n",
       "1982-03-01    27.20\n",
       "1982-04-01    28.02\n",
       "1982-05-01    28.54\n",
       "              ...  \n",
       "2020-12-01    25.53\n",
       "2021-01-01    25.58\n",
       "2021-02-01    25.81\n",
       "2021-03-01    26.75\n",
       "2021-04-01    27.40\n",
       "Name: Nino34, Length: 472, dtype: float64"
      ]
     },
     "execution_count": 8,
     "metadata": {},
     "output_type": "execute_result"
    }
   ],
   "source": [
    "df.Nino34"
   ]
  },
  {
   "cell_type": "markdown",
   "id": "78f80147-e364-4dd3-8cd4-2d271473a41b",
   "metadata": {},
   "source": [
    "## Investigating the `DataFrame` and `Series`"
   ]
  },
  {
   "cell_type": "markdown",
   "id": "3a290429-bef8-40c8-be51-49fc4aaad8cb",
   "metadata": {},
   "source": [
    "We will expand on what you just saw, soon! Importantly,\n",
    "\n",
    "> **Everything in pandas can be accessed with its label**,\n",
    "\n",
    "no matter how your data is organized.\n",
    "\n",
    "Let's back up a bit here. Once more, let's pull out one `Series` from our `DataFrame` using its column label, and we'll start there."
   ]
  },
  {
   "cell_type": "code",
   "execution_count": null,
   "id": "2b5f9389-e2a9-41eb-b71f-3b8ca3ca57d0",
   "metadata": {},
   "outputs": [
    {
     "data": {
      "text/plain": [
       "datetime\n",
       "1982-01-01    26.72\n",
       "1982-02-01    26.70\n",
       "1982-03-01    27.20\n",
       "1982-04-01    28.02\n",
       "1982-05-01    28.54\n",
       "              ...  \n",
       "2020-12-01    25.53\n",
       "2021-01-01    25.58\n",
       "2021-02-01    25.81\n",
       "2021-03-01    26.75\n",
       "2021-04-01    27.40\n",
       "Name: Nino34, Length: 472, dtype: float64"
      ]
     },
     "execution_count": null,
     "metadata": {},
     "output_type": "execute_result"
    }
   ],
   "source": [
    "nino34_series = df[\"Nino34\"]\n",
    "\n",
    "nino34_series"
   ]
  },
  {
   "cell_type": "markdown",
   "id": "a47437b9-b992-4eff-a8ea-83debb241334",
   "metadata": {},
   "source": [
    "`Series` can be indexed, selected, and subset as both `ndarray`-like,"
   ]
  },
  {
   "cell_type": "code",
   "execution_count": null,
   "id": "93bcd5a6-2f03-4f01-9c2b-75e5b4d844ca",
   "metadata": {},
   "outputs": [
    {
     "data": {
      "text/plain": [
       "28.02"
      ]
     },
     "execution_count": null,
     "metadata": {},
     "output_type": "execute_result"
    }
   ],
   "source": [
    "nino34_series[3]"
   ]
  },
  {
   "cell_type": "markdown",
   "id": "6b5d4e34-cfaf-4a4f-9656-8f184b72e16d",
   "metadata": {},
   "source": [
    "and `dict`-like, using labels"
   ]
  },
  {
   "cell_type": "code",
   "execution_count": null,
   "id": "9fe683ed-ef1b-487f-afa8-bb0db4154d87",
   "metadata": {},
   "outputs": [
    {
     "data": {
      "text/plain": [
       "28.02"
      ]
     },
     "execution_count": null,
     "metadata": {},
     "output_type": "execute_result"
    }
   ],
   "source": [
    "nino34_series[\"1982-04-01\"]"
   ]
  },
  {
   "cell_type": "markdown",
   "id": "34a0b292-8252-4204-981b-c90fece899e6",
   "metadata": {},
   "source": [
    "and these can be extended in both ways you might expect and ways you might not:"
   ]
  },
  {
   "cell_type": "code",
   "execution_count": null,
   "id": "6e60fe4a-536e-40ed-ae3e-ba8e9847f31d",
   "metadata": {},
   "outputs": [
    {
     "data": {
      "text/plain": [
       "datetime\n",
       "1982-01-01    26.72\n",
       "1982-02-01    26.70\n",
       "1982-03-01    27.20\n",
       "1982-04-01    28.02\n",
       "1982-05-01    28.54\n",
       "1982-06-01    28.75\n",
       "1982-07-01    28.10\n",
       "1982-08-01    27.93\n",
       "1982-09-01    28.11\n",
       "1982-10-01    28.64\n",
       "1982-11-01    28.81\n",
       "1982-12-01    29.21\n",
       "Name: Nino34, dtype: float64"
      ]
     },
     "execution_count": null,
     "metadata": {},
     "output_type": "execute_result"
    }
   ],
   "source": [
    "# numpy-like interval slices\n",
    "nino34_series[0:12]"
   ]
  },
  {
   "cell_type": "code",
   "execution_count": null,
   "id": "8e707730-f948-4c12-b5d4-79ce2a4a90ed",
   "metadata": {},
   "outputs": [
    {
     "data": {
      "text/plain": [
       "datetime\n",
       "1982-01-01    26.72\n",
       "1982-02-01    26.70\n",
       "1982-03-01    27.20\n",
       "1982-04-01    28.02\n",
       "1982-05-01    28.54\n",
       "1982-06-01    28.75\n",
       "1982-07-01    28.10\n",
       "1982-08-01    27.93\n",
       "1982-09-01    28.11\n",
       "1982-10-01    28.64\n",
       "1982-11-01    28.81\n",
       "1982-12-01    29.21\n",
       "Name: Nino34, dtype: float64"
      ]
     },
     "execution_count": null,
     "metadata": {},
     "output_type": "execute_result"
    }
   ],
   "source": [
    "# label-based slicing\n",
    "nino34_series[\"1982-01-01\":\"1982-12-01\"]"
   ]
  },
  {
   "cell_type": "code",
   "execution_count": 16,
   "id": "4cfbaf1e-7490-443d-a3e5-0c923834a646",
   "metadata": {},
   "outputs": [
    {
     "data": {
      "text/plain": [
       "datetime\n",
       "1982-01-01    26.72\n",
       "1982-02-01    26.70\n",
       "1982-03-01    27.20\n",
       "1982-04-01    28.02\n",
       "1982-05-01    28.54\n",
       "1982-06-01    28.75\n",
       "1982-07-01    28.10\n",
       "1982-08-01    27.93\n",
       "1982-09-01    28.11\n",
       "1982-10-01    28.64\n",
       "1982-11-01    28.81\n",
       "1982-12-01    29.21\n",
       "Name: Nino34, dtype: float64"
      ]
     },
     "execution_count": 16,
     "metadata": {},
     "output_type": "execute_result"
    }
   ],
   "source": [
    "# another way of slicing - you might recognize this from xarray\n",
    "nino34_series[slice(\"1982-01-01\",\"1982-12-01\")]"
   ]
  },
  {
   "cell_type": "markdown",
   "id": "5ffd85b4",
   "metadata": {},
   "source": [
    "Importantly, label-based slices are **inclusive** of the final value, unlike usual Python indexing rules.\n",
    "\n",
    "Let's introduce pandas-preferred ways to access your data by label, `.loc`, or by index, `.iloc`. They behave similarly to the notation introduced above, but provide more speed, security, and rigor in your value selection, as well as help you avoid [chained assignment warnings](https://pandas.pydata.org/docs/user_guide/indexing.html#returning-a-view-versus-a-copy) within pandas."
   ]
  },
  {
   "cell_type": "code",
   "execution_count": 14,
   "id": "88bc7f7f",
   "metadata": {},
   "outputs": [
    {
     "data": {
      "text/plain": [
       "28.02"
      ]
     },
     "execution_count": 14,
     "metadata": {},
     "output_type": "execute_result"
    }
   ],
   "source": [
    "nino34_series.iloc[3]"
   ]
  },
  {
   "cell_type": "code",
   "execution_count": 15,
   "id": "0f820cb4",
   "metadata": {},
   "outputs": [
    {
     "data": {
      "text/plain": [
       "datetime\n",
       "1982-01-01    26.72\n",
       "1982-02-01    26.70\n",
       "1982-03-01    27.20\n",
       "1982-04-01    28.02\n",
       "1982-05-01    28.54\n",
       "1982-06-01    28.75\n",
       "1982-07-01    28.10\n",
       "1982-08-01    27.93\n",
       "1982-09-01    28.11\n",
       "1982-10-01    28.64\n",
       "1982-11-01    28.81\n",
       "1982-12-01    29.21\n",
       "Name: Nino34, dtype: float64"
      ]
     },
     "execution_count": 15,
     "metadata": {},
     "output_type": "execute_result"
    }
   ],
   "source": [
    "nino34_series.iloc[0:12]"
   ]
  },
  {
   "cell_type": "code",
   "execution_count": 16,
   "id": "e9b66a84",
   "metadata": {},
   "outputs": [
    {
     "data": {
      "text/plain": [
       "28.02"
      ]
     },
     "execution_count": 16,
     "metadata": {},
     "output_type": "execute_result"
    }
   ],
   "source": [
    "nino34_series.loc[\"1982-04-01\"]"
   ]
  },
  {
   "cell_type": "code",
   "execution_count": 17,
   "id": "4caaf1af",
   "metadata": {},
   "outputs": [
    {
     "data": {
      "text/plain": [
       "datetime\n",
       "1982-01-01    26.72\n",
       "1982-02-01    26.70\n",
       "1982-03-01    27.20\n",
       "1982-04-01    28.02\n",
       "1982-05-01    28.54\n",
       "1982-06-01    28.75\n",
       "1982-07-01    28.10\n",
       "1982-08-01    27.93\n",
       "1982-09-01    28.11\n",
       "1982-10-01    28.64\n",
       "1982-11-01    28.81\n",
       "1982-12-01    29.21\n",
       "Name: Nino34, dtype: float64"
      ]
     },
     "execution_count": 17,
     "metadata": {},
     "output_type": "execute_result"
    }
   ],
   "source": [
    "nino34_series.loc[\"1982-01-01\":\"1982-12-01\"]"
   ]
  },
  {
   "cell_type": "markdown",
   "id": "47c4eaa5",
   "metadata": {},
   "source": [
    "These capabilities extend back to our original `DataFrame`, as well! There are apparent limitations of the `dict` label notation, e.g."
   ]
  },
  {
   "cell_type": "code",
   "execution_count": 18,
   "id": "b6e5a88b",
   "metadata": {
    "tags": [
     "raises-exception"
    ]
   },
   "outputs": [
    {
     "ename": "KeyError",
     "evalue": "'1982-01-01'",
     "output_type": "error",
     "traceback": [
      "\u001b[0;31m---------------------------------------------------------------------------\u001b[0m",
      "\u001b[0;31mKeyError\u001b[0m                                  Traceback (most recent call last)",
      "\u001b[0;32m~/anaconda3/envs/ncar_pandas_tutorial/lib/python3.9/site-packages/pandas/core/indexes/base.py\u001b[0m in \u001b[0;36mget_loc\u001b[0;34m(self, key, method, tolerance)\u001b[0m\n\u001b[1;32m   3079\u001b[0m             \u001b[0;32mtry\u001b[0m\u001b[0;34m:\u001b[0m\u001b[0;34m\u001b[0m\u001b[0;34m\u001b[0m\u001b[0m\n\u001b[0;32m-> 3080\u001b[0;31m                 \u001b[0;32mreturn\u001b[0m \u001b[0mself\u001b[0m\u001b[0;34m.\u001b[0m\u001b[0m_engine\u001b[0m\u001b[0;34m.\u001b[0m\u001b[0mget_loc\u001b[0m\u001b[0;34m(\u001b[0m\u001b[0mcasted_key\u001b[0m\u001b[0;34m)\u001b[0m\u001b[0;34m\u001b[0m\u001b[0;34m\u001b[0m\u001b[0m\n\u001b[0m\u001b[1;32m   3081\u001b[0m             \u001b[0;32mexcept\u001b[0m \u001b[0mKeyError\u001b[0m \u001b[0;32mas\u001b[0m \u001b[0merr\u001b[0m\u001b[0;34m:\u001b[0m\u001b[0;34m\u001b[0m\u001b[0;34m\u001b[0m\u001b[0m\n",
      "\u001b[0;32mpandas/_libs/index.pyx\u001b[0m in \u001b[0;36mpandas._libs.index.IndexEngine.get_loc\u001b[0;34m()\u001b[0m\n",
      "\u001b[0;32mpandas/_libs/index.pyx\u001b[0m in \u001b[0;36mpandas._libs.index.IndexEngine.get_loc\u001b[0;34m()\u001b[0m\n",
      "\u001b[0;32mpandas/_libs/hashtable_class_helper.pxi\u001b[0m in \u001b[0;36mpandas._libs.hashtable.PyObjectHashTable.get_item\u001b[0;34m()\u001b[0m\n",
      "\u001b[0;32mpandas/_libs/hashtable_class_helper.pxi\u001b[0m in \u001b[0;36mpandas._libs.hashtable.PyObjectHashTable.get_item\u001b[0;34m()\u001b[0m\n",
      "\u001b[0;31mKeyError\u001b[0m: '1982-01-01'",
      "\nThe above exception was the direct cause of the following exception:\n",
      "\u001b[0;31mKeyError\u001b[0m                                  Traceback (most recent call last)",
      "\u001b[0;32m<ipython-input-18-865480cd374e>\u001b[0m in \u001b[0;36m<module>\u001b[0;34m\u001b[0m\n\u001b[0;32m----> 1\u001b[0;31m \u001b[0mdf\u001b[0m\u001b[0;34m[\u001b[0m\u001b[0;34m\"1982-01-01\"\u001b[0m\u001b[0;34m]\u001b[0m\u001b[0;34m\u001b[0m\u001b[0;34m\u001b[0m\u001b[0m\n\u001b[0m",
      "\u001b[0;32m~/anaconda3/envs/ncar_pandas_tutorial/lib/python3.9/site-packages/pandas/core/frame.py\u001b[0m in \u001b[0;36m__getitem__\u001b[0;34m(self, key)\u001b[0m\n\u001b[1;32m   3022\u001b[0m             \u001b[0;32mif\u001b[0m \u001b[0mself\u001b[0m\u001b[0;34m.\u001b[0m\u001b[0mcolumns\u001b[0m\u001b[0;34m.\u001b[0m\u001b[0mnlevels\u001b[0m \u001b[0;34m>\u001b[0m \u001b[0;36m1\u001b[0m\u001b[0;34m:\u001b[0m\u001b[0;34m\u001b[0m\u001b[0;34m\u001b[0m\u001b[0m\n\u001b[1;32m   3023\u001b[0m                 \u001b[0;32mreturn\u001b[0m \u001b[0mself\u001b[0m\u001b[0;34m.\u001b[0m\u001b[0m_getitem_multilevel\u001b[0m\u001b[0;34m(\u001b[0m\u001b[0mkey\u001b[0m\u001b[0;34m)\u001b[0m\u001b[0;34m\u001b[0m\u001b[0;34m\u001b[0m\u001b[0m\n\u001b[0;32m-> 3024\u001b[0;31m             \u001b[0mindexer\u001b[0m \u001b[0;34m=\u001b[0m \u001b[0mself\u001b[0m\u001b[0;34m.\u001b[0m\u001b[0mcolumns\u001b[0m\u001b[0;34m.\u001b[0m\u001b[0mget_loc\u001b[0m\u001b[0;34m(\u001b[0m\u001b[0mkey\u001b[0m\u001b[0;34m)\u001b[0m\u001b[0;34m\u001b[0m\u001b[0;34m\u001b[0m\u001b[0m\n\u001b[0m\u001b[1;32m   3025\u001b[0m             \u001b[0;32mif\u001b[0m \u001b[0mis_integer\u001b[0m\u001b[0;34m(\u001b[0m\u001b[0mindexer\u001b[0m\u001b[0;34m)\u001b[0m\u001b[0;34m:\u001b[0m\u001b[0;34m\u001b[0m\u001b[0;34m\u001b[0m\u001b[0m\n\u001b[1;32m   3026\u001b[0m                 \u001b[0mindexer\u001b[0m \u001b[0;34m=\u001b[0m \u001b[0;34m[\u001b[0m\u001b[0mindexer\u001b[0m\u001b[0;34m]\u001b[0m\u001b[0;34m\u001b[0m\u001b[0;34m\u001b[0m\u001b[0m\n",
      "\u001b[0;32m~/anaconda3/envs/ncar_pandas_tutorial/lib/python3.9/site-packages/pandas/core/indexes/base.py\u001b[0m in \u001b[0;36mget_loc\u001b[0;34m(self, key, method, tolerance)\u001b[0m\n\u001b[1;32m   3080\u001b[0m                 \u001b[0;32mreturn\u001b[0m \u001b[0mself\u001b[0m\u001b[0;34m.\u001b[0m\u001b[0m_engine\u001b[0m\u001b[0;34m.\u001b[0m\u001b[0mget_loc\u001b[0m\u001b[0;34m(\u001b[0m\u001b[0mcasted_key\u001b[0m\u001b[0;34m)\u001b[0m\u001b[0;34m\u001b[0m\u001b[0;34m\u001b[0m\u001b[0m\n\u001b[1;32m   3081\u001b[0m             \u001b[0;32mexcept\u001b[0m \u001b[0mKeyError\u001b[0m \u001b[0;32mas\u001b[0m \u001b[0merr\u001b[0m\u001b[0;34m:\u001b[0m\u001b[0;34m\u001b[0m\u001b[0;34m\u001b[0m\u001b[0m\n\u001b[0;32m-> 3082\u001b[0;31m                 \u001b[0;32mraise\u001b[0m \u001b[0mKeyError\u001b[0m\u001b[0;34m(\u001b[0m\u001b[0mkey\u001b[0m\u001b[0;34m)\u001b[0m \u001b[0;32mfrom\u001b[0m \u001b[0merr\u001b[0m\u001b[0;34m\u001b[0m\u001b[0;34m\u001b[0m\u001b[0m\n\u001b[0m\u001b[1;32m   3083\u001b[0m \u001b[0;34m\u001b[0m\u001b[0m\n\u001b[1;32m   3084\u001b[0m         \u001b[0;32mif\u001b[0m \u001b[0mtolerance\u001b[0m \u001b[0;32mis\u001b[0m \u001b[0;32mnot\u001b[0m \u001b[0;32mNone\u001b[0m\u001b[0;34m:\u001b[0m\u001b[0;34m\u001b[0m\u001b[0;34m\u001b[0m\u001b[0m\n",
      "\u001b[0;31mKeyError\u001b[0m: '1982-01-01'"
     ]
    }
   ],
   "source": [
    "df[\"1982-01-01\"]"
   ]
  },
  {
   "cell_type": "markdown",
   "id": "3c2f6c7f",
   "metadata": {},
   "source": [
    "and"
   ]
  },
  {
   "cell_type": "code",
   "execution_count": 19,
   "id": "6a72fdde",
   "metadata": {
    "tags": [
     "raises-exception"
    ]
   },
   "outputs": [
    {
     "ename": "KeyError",
     "evalue": "0",
     "output_type": "error",
     "traceback": [
      "\u001b[0;31m---------------------------------------------------------------------------\u001b[0m",
      "\u001b[0;31mKeyError\u001b[0m                                  Traceback (most recent call last)",
      "\u001b[0;32m~/anaconda3/envs/ncar_pandas_tutorial/lib/python3.9/site-packages/pandas/core/indexes/base.py\u001b[0m in \u001b[0;36mget_loc\u001b[0;34m(self, key, method, tolerance)\u001b[0m\n\u001b[1;32m   3079\u001b[0m             \u001b[0;32mtry\u001b[0m\u001b[0;34m:\u001b[0m\u001b[0;34m\u001b[0m\u001b[0;34m\u001b[0m\u001b[0m\n\u001b[0;32m-> 3080\u001b[0;31m                 \u001b[0;32mreturn\u001b[0m \u001b[0mself\u001b[0m\u001b[0;34m.\u001b[0m\u001b[0m_engine\u001b[0m\u001b[0;34m.\u001b[0m\u001b[0mget_loc\u001b[0m\u001b[0;34m(\u001b[0m\u001b[0mcasted_key\u001b[0m\u001b[0;34m)\u001b[0m\u001b[0;34m\u001b[0m\u001b[0;34m\u001b[0m\u001b[0m\n\u001b[0m\u001b[1;32m   3081\u001b[0m             \u001b[0;32mexcept\u001b[0m \u001b[0mKeyError\u001b[0m \u001b[0;32mas\u001b[0m \u001b[0merr\u001b[0m\u001b[0;34m:\u001b[0m\u001b[0;34m\u001b[0m\u001b[0;34m\u001b[0m\u001b[0m\n",
      "\u001b[0;32mpandas/_libs/index.pyx\u001b[0m in \u001b[0;36mpandas._libs.index.IndexEngine.get_loc\u001b[0;34m()\u001b[0m\n",
      "\u001b[0;32mpandas/_libs/index.pyx\u001b[0m in \u001b[0;36mpandas._libs.index.IndexEngine.get_loc\u001b[0;34m()\u001b[0m\n",
      "\u001b[0;32mpandas/_libs/hashtable_class_helper.pxi\u001b[0m in \u001b[0;36mpandas._libs.hashtable.PyObjectHashTable.get_item\u001b[0;34m()\u001b[0m\n",
      "\u001b[0;32mpandas/_libs/hashtable_class_helper.pxi\u001b[0m in \u001b[0;36mpandas._libs.hashtable.PyObjectHashTable.get_item\u001b[0;34m()\u001b[0m\n",
      "\u001b[0;31mKeyError\u001b[0m: 0",
      "\nThe above exception was the direct cause of the following exception:\n",
      "\u001b[0;31mKeyError\u001b[0m                                  Traceback (most recent call last)",
      "\u001b[0;32m<ipython-input-19-ad11118bc8f3>\u001b[0m in \u001b[0;36m<module>\u001b[0;34m\u001b[0m\n\u001b[0;32m----> 1\u001b[0;31m \u001b[0mdf\u001b[0m\u001b[0;34m[\u001b[0m\u001b[0;36m0\u001b[0m\u001b[0;34m]\u001b[0m\u001b[0;34m\u001b[0m\u001b[0;34m\u001b[0m\u001b[0m\n\u001b[0m",
      "\u001b[0;32m~/anaconda3/envs/ncar_pandas_tutorial/lib/python3.9/site-packages/pandas/core/frame.py\u001b[0m in \u001b[0;36m__getitem__\u001b[0;34m(self, key)\u001b[0m\n\u001b[1;32m   3022\u001b[0m             \u001b[0;32mif\u001b[0m \u001b[0mself\u001b[0m\u001b[0;34m.\u001b[0m\u001b[0mcolumns\u001b[0m\u001b[0;34m.\u001b[0m\u001b[0mnlevels\u001b[0m \u001b[0;34m>\u001b[0m \u001b[0;36m1\u001b[0m\u001b[0;34m:\u001b[0m\u001b[0;34m\u001b[0m\u001b[0;34m\u001b[0m\u001b[0m\n\u001b[1;32m   3023\u001b[0m                 \u001b[0;32mreturn\u001b[0m \u001b[0mself\u001b[0m\u001b[0;34m.\u001b[0m\u001b[0m_getitem_multilevel\u001b[0m\u001b[0;34m(\u001b[0m\u001b[0mkey\u001b[0m\u001b[0;34m)\u001b[0m\u001b[0;34m\u001b[0m\u001b[0;34m\u001b[0m\u001b[0m\n\u001b[0;32m-> 3024\u001b[0;31m             \u001b[0mindexer\u001b[0m \u001b[0;34m=\u001b[0m \u001b[0mself\u001b[0m\u001b[0;34m.\u001b[0m\u001b[0mcolumns\u001b[0m\u001b[0;34m.\u001b[0m\u001b[0mget_loc\u001b[0m\u001b[0;34m(\u001b[0m\u001b[0mkey\u001b[0m\u001b[0;34m)\u001b[0m\u001b[0;34m\u001b[0m\u001b[0;34m\u001b[0m\u001b[0m\n\u001b[0m\u001b[1;32m   3025\u001b[0m             \u001b[0;32mif\u001b[0m \u001b[0mis_integer\u001b[0m\u001b[0;34m(\u001b[0m\u001b[0mindexer\u001b[0m\u001b[0;34m)\u001b[0m\u001b[0;34m:\u001b[0m\u001b[0;34m\u001b[0m\u001b[0;34m\u001b[0m\u001b[0m\n\u001b[1;32m   3026\u001b[0m                 \u001b[0mindexer\u001b[0m \u001b[0;34m=\u001b[0m \u001b[0;34m[\u001b[0m\u001b[0mindexer\u001b[0m\u001b[0;34m]\u001b[0m\u001b[0;34m\u001b[0m\u001b[0;34m\u001b[0m\u001b[0m\n",
      "\u001b[0;32m~/anaconda3/envs/ncar_pandas_tutorial/lib/python3.9/site-packages/pandas/core/indexes/base.py\u001b[0m in \u001b[0;36mget_loc\u001b[0;34m(self, key, method, tolerance)\u001b[0m\n\u001b[1;32m   3080\u001b[0m                 \u001b[0;32mreturn\u001b[0m \u001b[0mself\u001b[0m\u001b[0;34m.\u001b[0m\u001b[0m_engine\u001b[0m\u001b[0;34m.\u001b[0m\u001b[0mget_loc\u001b[0m\u001b[0;34m(\u001b[0m\u001b[0mcasted_key\u001b[0m\u001b[0;34m)\u001b[0m\u001b[0;34m\u001b[0m\u001b[0;34m\u001b[0m\u001b[0m\n\u001b[1;32m   3081\u001b[0m             \u001b[0;32mexcept\u001b[0m \u001b[0mKeyError\u001b[0m \u001b[0;32mas\u001b[0m \u001b[0merr\u001b[0m\u001b[0;34m:\u001b[0m\u001b[0;34m\u001b[0m\u001b[0;34m\u001b[0m\u001b[0m\n\u001b[0;32m-> 3082\u001b[0;31m                 \u001b[0;32mraise\u001b[0m \u001b[0mKeyError\u001b[0m\u001b[0;34m(\u001b[0m\u001b[0mkey\u001b[0m\u001b[0;34m)\u001b[0m \u001b[0;32mfrom\u001b[0m \u001b[0merr\u001b[0m\u001b[0;34m\u001b[0m\u001b[0;34m\u001b[0m\u001b[0m\n\u001b[0m\u001b[1;32m   3083\u001b[0m \u001b[0;34m\u001b[0m\u001b[0m\n\u001b[1;32m   3084\u001b[0m         \u001b[0;32mif\u001b[0m \u001b[0mtolerance\u001b[0m \u001b[0;32mis\u001b[0m \u001b[0;32mnot\u001b[0m \u001b[0;32mNone\u001b[0m\u001b[0;34m:\u001b[0m\u001b[0;34m\u001b[0m\u001b[0;34m\u001b[0m\u001b[0m\n",
      "\u001b[0;31mKeyError\u001b[0m: 0"
     ]
    }
   ],
   "source": [
    "df[0]"
   ]
  },
  {
   "cell_type": "markdown",
   "id": "7267eabd",
   "metadata": {},
   "source": [
    "won't work. By default, this notation allows us to pull out any of our columns as their own series, as we demonstrated before."
   ]
  },
  {
   "cell_type": "code",
   "execution_count": 20,
   "id": "2ef78098",
   "metadata": {
    "tags": []
   },
   "outputs": [
    {
     "data": {
      "text/plain": [
       "datetime\n",
       "1982-01-01    26.72\n",
       "1982-02-01    26.70\n",
       "1982-03-01    27.20\n",
       "1982-04-01    28.02\n",
       "1982-05-01    28.54\n",
       "              ...  \n",
       "2020-12-01    25.53\n",
       "2021-01-01    25.58\n",
       "2021-02-01    25.81\n",
       "2021-03-01    26.75\n",
       "2021-04-01    27.40\n",
       "Name: Nino34, Length: 472, dtype: float64"
      ]
     },
     "execution_count": 20,
     "metadata": {},
     "output_type": "execute_result"
    }
   ],
   "source": [
    "df[\"Nino34\"]"
   ]
  },
  {
   "cell_type": "markdown",
   "id": "baec94ae",
   "metadata": {},
   "source": [
    "With this plus our knowledge of the `Series` `df[\"Nino34\"]` gives us, we can chain our brackets to pull out any value from any of our columns in `df`."
   ]
  },
  {
   "cell_type": "code",
   "execution_count": 21,
   "id": "a4478e43",
   "metadata": {},
   "outputs": [
    {
     "data": {
      "text/plain": [
       "28.02"
      ]
     },
     "execution_count": 21,
     "metadata": {},
     "output_type": "execute_result"
    }
   ],
   "source": [
    "df[\"Nino34\"][\"1982-04-01\"]  # selecting the Series, then selecting a label within"
   ]
  },
  {
   "cell_type": "code",
   "execution_count": 22,
   "id": "f650cda9",
   "metadata": {},
   "outputs": [
    {
     "data": {
      "text/plain": [
       "28.02"
      ]
     },
     "execution_count": 22,
     "metadata": {},
     "output_type": "execute_result"
    }
   ],
   "source": [
    "df[\"Nino34\"][3]"
   ]
  },
  {
   "cell_type": "markdown",
   "id": "00426bc7",
   "metadata": {},
   "source": [
    "However, this is not a pandas-preferred way to index and subset our data, and has limited capabilities for us. As we touched on before, `.loc` and `.iloc` give us more to work with, and their functionality grows further for `df`."
   ]
  },
  {
   "cell_type": "code",
   "execution_count": 23,
   "id": "7a1a0040",
   "metadata": {},
   "outputs": [
    {
     "data": {
      "text/plain": [
       "28.02"
      ]
     },
     "execution_count": 23,
     "metadata": {},
     "output_type": "execute_result"
    }
   ],
   "source": [
    "df.loc[\"1982-04-01\", \"Nino34\"]  # note [<row>, <column>] ordering"
   ]
  },
  {
   "cell_type": "markdown",
   "id": "1c35068c",
   "metadata": {},
   "source": [
    "These allow us to pull out entire rows of `df`,"
   ]
  },
  {
   "cell_type": "code",
   "execution_count": 24,
   "id": "96f4c8c6",
   "metadata": {},
   "outputs": [
    {
     "data": {
      "text/plain": [
       "Nino12        24.50\n",
       "Nino12anom    -0.97\n",
       "Nino3         27.68\n",
       "Nino3anom      0.18\n",
       "Nino4         28.92\n",
       "Nino4anom      0.42\n",
       "Nino34        28.02\n",
       "Nino34anom     0.24\n",
       "Name: 1982-04-01 00:00:00, dtype: float64"
      ]
     },
     "execution_count": 24,
     "metadata": {},
     "output_type": "execute_result"
    }
   ],
   "source": [
    "df.loc[\"1982-04-01\"]"
   ]
  },
  {
   "cell_type": "code",
   "execution_count": 25,
   "id": "89c0e3df",
   "metadata": {},
   "outputs": [
    {
     "data": {
      "text/html": [
       "<div>\n",
       "<style scoped>\n",
       "    .dataframe tbody tr th:only-of-type {\n",
       "        vertical-align: middle;\n",
       "    }\n",
       "\n",
       "    .dataframe tbody tr th {\n",
       "        vertical-align: top;\n",
       "    }\n",
       "\n",
       "    .dataframe thead th {\n",
       "        text-align: right;\n",
       "    }\n",
       "</style>\n",
       "<table border=\"1\" class=\"dataframe\">\n",
       "  <thead>\n",
       "    <tr style=\"text-align: right;\">\n",
       "      <th></th>\n",
       "      <th>Nino12</th>\n",
       "      <th>Nino12anom</th>\n",
       "      <th>Nino3</th>\n",
       "      <th>Nino3anom</th>\n",
       "      <th>Nino4</th>\n",
       "      <th>Nino4anom</th>\n",
       "      <th>Nino34</th>\n",
       "      <th>Nino34anom</th>\n",
       "    </tr>\n",
       "    <tr>\n",
       "      <th>datetime</th>\n",
       "      <th></th>\n",
       "      <th></th>\n",
       "      <th></th>\n",
       "      <th></th>\n",
       "      <th></th>\n",
       "      <th></th>\n",
       "      <th></th>\n",
       "      <th></th>\n",
       "    </tr>\n",
       "  </thead>\n",
       "  <tbody>\n",
       "    <tr>\n",
       "      <th>1982-01-01</th>\n",
       "      <td>24.29</td>\n",
       "      <td>-0.17</td>\n",
       "      <td>25.87</td>\n",
       "      <td>0.24</td>\n",
       "      <td>28.30</td>\n",
       "      <td>0.00</td>\n",
       "      <td>26.72</td>\n",
       "      <td>0.15</td>\n",
       "    </tr>\n",
       "    <tr>\n",
       "      <th>1982-02-01</th>\n",
       "      <td>25.49</td>\n",
       "      <td>-0.58</td>\n",
       "      <td>26.38</td>\n",
       "      <td>0.01</td>\n",
       "      <td>28.21</td>\n",
       "      <td>0.11</td>\n",
       "      <td>26.70</td>\n",
       "      <td>-0.02</td>\n",
       "    </tr>\n",
       "    <tr>\n",
       "      <th>1982-03-01</th>\n",
       "      <td>25.21</td>\n",
       "      <td>-1.31</td>\n",
       "      <td>26.98</td>\n",
       "      <td>-0.16</td>\n",
       "      <td>28.41</td>\n",
       "      <td>0.22</td>\n",
       "      <td>27.20</td>\n",
       "      <td>-0.02</td>\n",
       "    </tr>\n",
       "    <tr>\n",
       "      <th>1982-04-01</th>\n",
       "      <td>24.50</td>\n",
       "      <td>-0.97</td>\n",
       "      <td>27.68</td>\n",
       "      <td>0.18</td>\n",
       "      <td>28.92</td>\n",
       "      <td>0.42</td>\n",
       "      <td>28.02</td>\n",
       "      <td>0.24</td>\n",
       "    </tr>\n",
       "    <tr>\n",
       "      <th>1982-05-01</th>\n",
       "      <td>23.97</td>\n",
       "      <td>-0.23</td>\n",
       "      <td>27.79</td>\n",
       "      <td>0.71</td>\n",
       "      <td>29.49</td>\n",
       "      <td>0.70</td>\n",
       "      <td>28.54</td>\n",
       "      <td>0.69</td>\n",
       "    </tr>\n",
       "    <tr>\n",
       "      <th>1982-06-01</th>\n",
       "      <td>22.89</td>\n",
       "      <td>0.07</td>\n",
       "      <td>27.46</td>\n",
       "      <td>1.03</td>\n",
       "      <td>29.76</td>\n",
       "      <td>0.92</td>\n",
       "      <td>28.75</td>\n",
       "      <td>1.10</td>\n",
       "    </tr>\n",
       "    <tr>\n",
       "      <th>1982-07-01</th>\n",
       "      <td>22.47</td>\n",
       "      <td>0.87</td>\n",
       "      <td>26.44</td>\n",
       "      <td>0.82</td>\n",
       "      <td>29.38</td>\n",
       "      <td>0.58</td>\n",
       "      <td>28.10</td>\n",
       "      <td>0.88</td>\n",
       "    </tr>\n",
       "    <tr>\n",
       "      <th>1982-08-01</th>\n",
       "      <td>21.75</td>\n",
       "      <td>1.10</td>\n",
       "      <td>26.15</td>\n",
       "      <td>1.16</td>\n",
       "      <td>29.04</td>\n",
       "      <td>0.36</td>\n",
       "      <td>27.93</td>\n",
       "      <td>1.11</td>\n",
       "    </tr>\n",
       "    <tr>\n",
       "      <th>1982-09-01</th>\n",
       "      <td>21.80</td>\n",
       "      <td>1.44</td>\n",
       "      <td>26.52</td>\n",
       "      <td>1.67</td>\n",
       "      <td>29.16</td>\n",
       "      <td>0.47</td>\n",
       "      <td>28.11</td>\n",
       "      <td>1.39</td>\n",
       "    </tr>\n",
       "    <tr>\n",
       "      <th>1982-10-01</th>\n",
       "      <td>22.94</td>\n",
       "      <td>2.12</td>\n",
       "      <td>27.11</td>\n",
       "      <td>2.19</td>\n",
       "      <td>29.38</td>\n",
       "      <td>0.72</td>\n",
       "      <td>28.64</td>\n",
       "      <td>1.95</td>\n",
       "    </tr>\n",
       "    <tr>\n",
       "      <th>1982-11-01</th>\n",
       "      <td>24.59</td>\n",
       "      <td>3.00</td>\n",
       "      <td>27.62</td>\n",
       "      <td>2.64</td>\n",
       "      <td>29.23</td>\n",
       "      <td>0.60</td>\n",
       "      <td>28.81</td>\n",
       "      <td>2.16</td>\n",
       "    </tr>\n",
       "    <tr>\n",
       "      <th>1982-12-01</th>\n",
       "      <td>26.13</td>\n",
       "      <td>3.34</td>\n",
       "      <td>28.39</td>\n",
       "      <td>3.25</td>\n",
       "      <td>29.15</td>\n",
       "      <td>0.66</td>\n",
       "      <td>29.21</td>\n",
       "      <td>2.64</td>\n",
       "    </tr>\n",
       "  </tbody>\n",
       "</table>\n",
       "</div>"
      ],
      "text/plain": [
       "            Nino12  Nino12anom  Nino3  Nino3anom  Nino4  Nino4anom  Nino34  \\\n",
       "datetime                                                                     \n",
       "1982-01-01   24.29       -0.17  25.87       0.24  28.30       0.00   26.72   \n",
       "1982-02-01   25.49       -0.58  26.38       0.01  28.21       0.11   26.70   \n",
       "1982-03-01   25.21       -1.31  26.98      -0.16  28.41       0.22   27.20   \n",
       "1982-04-01   24.50       -0.97  27.68       0.18  28.92       0.42   28.02   \n",
       "1982-05-01   23.97       -0.23  27.79       0.71  29.49       0.70   28.54   \n",
       "1982-06-01   22.89        0.07  27.46       1.03  29.76       0.92   28.75   \n",
       "1982-07-01   22.47        0.87  26.44       0.82  29.38       0.58   28.10   \n",
       "1982-08-01   21.75        1.10  26.15       1.16  29.04       0.36   27.93   \n",
       "1982-09-01   21.80        1.44  26.52       1.67  29.16       0.47   28.11   \n",
       "1982-10-01   22.94        2.12  27.11       2.19  29.38       0.72   28.64   \n",
       "1982-11-01   24.59        3.00  27.62       2.64  29.23       0.60   28.81   \n",
       "1982-12-01   26.13        3.34  28.39       3.25  29.15       0.66   29.21   \n",
       "\n",
       "            Nino34anom  \n",
       "datetime                \n",
       "1982-01-01        0.15  \n",
       "1982-02-01       -0.02  \n",
       "1982-03-01       -0.02  \n",
       "1982-04-01        0.24  \n",
       "1982-05-01        0.69  \n",
       "1982-06-01        1.10  \n",
       "1982-07-01        0.88  \n",
       "1982-08-01        1.11  \n",
       "1982-09-01        1.39  \n",
       "1982-10-01        1.95  \n",
       "1982-11-01        2.16  \n",
       "1982-12-01        2.64  "
      ]
     },
     "execution_count": 25,
     "metadata": {},
     "output_type": "execute_result"
    }
   ],
   "source": [
    "df.loc[\"1982-01-01\":\"1982-12-01\"]"
   ]
  },
  {
   "cell_type": "code",
   "execution_count": 26,
   "id": "b0f72693",
   "metadata": {},
   "outputs": [
    {
     "data": {
      "text/plain": [
       "Nino12        24.50\n",
       "Nino12anom    -0.97\n",
       "Nino3         27.68\n",
       "Nino3anom      0.18\n",
       "Nino4         28.92\n",
       "Nino4anom      0.42\n",
       "Nino34        28.02\n",
       "Nino34anom     0.24\n",
       "Name: 1982-04-01 00:00:00, dtype: float64"
      ]
     },
     "execution_count": 26,
     "metadata": {},
     "output_type": "execute_result"
    }
   ],
   "source": [
    "df.iloc[3]"
   ]
  },
  {
   "cell_type": "code",
   "execution_count": 27,
   "id": "2a995fa6",
   "metadata": {},
   "outputs": [
    {
     "data": {
      "text/html": [
       "<div>\n",
       "<style scoped>\n",
       "    .dataframe tbody tr th:only-of-type {\n",
       "        vertical-align: middle;\n",
       "    }\n",
       "\n",
       "    .dataframe tbody tr th {\n",
       "        vertical-align: top;\n",
       "    }\n",
       "\n",
       "    .dataframe thead th {\n",
       "        text-align: right;\n",
       "    }\n",
       "</style>\n",
       "<table border=\"1\" class=\"dataframe\">\n",
       "  <thead>\n",
       "    <tr style=\"text-align: right;\">\n",
       "      <th></th>\n",
       "      <th>Nino12</th>\n",
       "      <th>Nino12anom</th>\n",
       "      <th>Nino3</th>\n",
       "      <th>Nino3anom</th>\n",
       "      <th>Nino4</th>\n",
       "      <th>Nino4anom</th>\n",
       "      <th>Nino34</th>\n",
       "      <th>Nino34anom</th>\n",
       "    </tr>\n",
       "    <tr>\n",
       "      <th>datetime</th>\n",
       "      <th></th>\n",
       "      <th></th>\n",
       "      <th></th>\n",
       "      <th></th>\n",
       "      <th></th>\n",
       "      <th></th>\n",
       "      <th></th>\n",
       "      <th></th>\n",
       "    </tr>\n",
       "  </thead>\n",
       "  <tbody>\n",
       "    <tr>\n",
       "      <th>1982-01-01</th>\n",
       "      <td>24.29</td>\n",
       "      <td>-0.17</td>\n",
       "      <td>25.87</td>\n",
       "      <td>0.24</td>\n",
       "      <td>28.30</td>\n",
       "      <td>0.00</td>\n",
       "      <td>26.72</td>\n",
       "      <td>0.15</td>\n",
       "    </tr>\n",
       "    <tr>\n",
       "      <th>1982-02-01</th>\n",
       "      <td>25.49</td>\n",
       "      <td>-0.58</td>\n",
       "      <td>26.38</td>\n",
       "      <td>0.01</td>\n",
       "      <td>28.21</td>\n",
       "      <td>0.11</td>\n",
       "      <td>26.70</td>\n",
       "      <td>-0.02</td>\n",
       "    </tr>\n",
       "    <tr>\n",
       "      <th>1982-03-01</th>\n",
       "      <td>25.21</td>\n",
       "      <td>-1.31</td>\n",
       "      <td>26.98</td>\n",
       "      <td>-0.16</td>\n",
       "      <td>28.41</td>\n",
       "      <td>0.22</td>\n",
       "      <td>27.20</td>\n",
       "      <td>-0.02</td>\n",
       "    </tr>\n",
       "    <tr>\n",
       "      <th>1982-04-01</th>\n",
       "      <td>24.50</td>\n",
       "      <td>-0.97</td>\n",
       "      <td>27.68</td>\n",
       "      <td>0.18</td>\n",
       "      <td>28.92</td>\n",
       "      <td>0.42</td>\n",
       "      <td>28.02</td>\n",
       "      <td>0.24</td>\n",
       "    </tr>\n",
       "    <tr>\n",
       "      <th>1982-05-01</th>\n",
       "      <td>23.97</td>\n",
       "      <td>-0.23</td>\n",
       "      <td>27.79</td>\n",
       "      <td>0.71</td>\n",
       "      <td>29.49</td>\n",
       "      <td>0.70</td>\n",
       "      <td>28.54</td>\n",
       "      <td>0.69</td>\n",
       "    </tr>\n",
       "    <tr>\n",
       "      <th>1982-06-01</th>\n",
       "      <td>22.89</td>\n",
       "      <td>0.07</td>\n",
       "      <td>27.46</td>\n",
       "      <td>1.03</td>\n",
       "      <td>29.76</td>\n",
       "      <td>0.92</td>\n",
       "      <td>28.75</td>\n",
       "      <td>1.10</td>\n",
       "    </tr>\n",
       "    <tr>\n",
       "      <th>1982-07-01</th>\n",
       "      <td>22.47</td>\n",
       "      <td>0.87</td>\n",
       "      <td>26.44</td>\n",
       "      <td>0.82</td>\n",
       "      <td>29.38</td>\n",
       "      <td>0.58</td>\n",
       "      <td>28.10</td>\n",
       "      <td>0.88</td>\n",
       "    </tr>\n",
       "    <tr>\n",
       "      <th>1982-08-01</th>\n",
       "      <td>21.75</td>\n",
       "      <td>1.10</td>\n",
       "      <td>26.15</td>\n",
       "      <td>1.16</td>\n",
       "      <td>29.04</td>\n",
       "      <td>0.36</td>\n",
       "      <td>27.93</td>\n",
       "      <td>1.11</td>\n",
       "    </tr>\n",
       "    <tr>\n",
       "      <th>1982-09-01</th>\n",
       "      <td>21.80</td>\n",
       "      <td>1.44</td>\n",
       "      <td>26.52</td>\n",
       "      <td>1.67</td>\n",
       "      <td>29.16</td>\n",
       "      <td>0.47</td>\n",
       "      <td>28.11</td>\n",
       "      <td>1.39</td>\n",
       "    </tr>\n",
       "    <tr>\n",
       "      <th>1982-10-01</th>\n",
       "      <td>22.94</td>\n",
       "      <td>2.12</td>\n",
       "      <td>27.11</td>\n",
       "      <td>2.19</td>\n",
       "      <td>29.38</td>\n",
       "      <td>0.72</td>\n",
       "      <td>28.64</td>\n",
       "      <td>1.95</td>\n",
       "    </tr>\n",
       "    <tr>\n",
       "      <th>1982-11-01</th>\n",
       "      <td>24.59</td>\n",
       "      <td>3.00</td>\n",
       "      <td>27.62</td>\n",
       "      <td>2.64</td>\n",
       "      <td>29.23</td>\n",
       "      <td>0.60</td>\n",
       "      <td>28.81</td>\n",
       "      <td>2.16</td>\n",
       "    </tr>\n",
       "    <tr>\n",
       "      <th>1982-12-01</th>\n",
       "      <td>26.13</td>\n",
       "      <td>3.34</td>\n",
       "      <td>28.39</td>\n",
       "      <td>3.25</td>\n",
       "      <td>29.15</td>\n",
       "      <td>0.66</td>\n",
       "      <td>29.21</td>\n",
       "      <td>2.64</td>\n",
       "    </tr>\n",
       "  </tbody>\n",
       "</table>\n",
       "</div>"
      ],
      "text/plain": [
       "            Nino12  Nino12anom  Nino3  Nino3anom  Nino4  Nino4anom  Nino34  \\\n",
       "datetime                                                                     \n",
       "1982-01-01   24.29       -0.17  25.87       0.24  28.30       0.00   26.72   \n",
       "1982-02-01   25.49       -0.58  26.38       0.01  28.21       0.11   26.70   \n",
       "1982-03-01   25.21       -1.31  26.98      -0.16  28.41       0.22   27.20   \n",
       "1982-04-01   24.50       -0.97  27.68       0.18  28.92       0.42   28.02   \n",
       "1982-05-01   23.97       -0.23  27.79       0.71  29.49       0.70   28.54   \n",
       "1982-06-01   22.89        0.07  27.46       1.03  29.76       0.92   28.75   \n",
       "1982-07-01   22.47        0.87  26.44       0.82  29.38       0.58   28.10   \n",
       "1982-08-01   21.75        1.10  26.15       1.16  29.04       0.36   27.93   \n",
       "1982-09-01   21.80        1.44  26.52       1.67  29.16       0.47   28.11   \n",
       "1982-10-01   22.94        2.12  27.11       2.19  29.38       0.72   28.64   \n",
       "1982-11-01   24.59        3.00  27.62       2.64  29.23       0.60   28.81   \n",
       "1982-12-01   26.13        3.34  28.39       3.25  29.15       0.66   29.21   \n",
       "\n",
       "            Nino34anom  \n",
       "datetime                \n",
       "1982-01-01        0.15  \n",
       "1982-02-01       -0.02  \n",
       "1982-03-01       -0.02  \n",
       "1982-04-01        0.24  \n",
       "1982-05-01        0.69  \n",
       "1982-06-01        1.10  \n",
       "1982-07-01        0.88  \n",
       "1982-08-01        1.11  \n",
       "1982-09-01        1.39  \n",
       "1982-10-01        1.95  \n",
       "1982-11-01        2.16  \n",
       "1982-12-01        2.64  "
      ]
     },
     "execution_count": 27,
     "metadata": {},
     "output_type": "execute_result"
    }
   ],
   "source": [
    "df.iloc[0:12]"
   ]
  },
  {
   "cell_type": "markdown",
   "id": "2387b321",
   "metadata": {},
   "source": [
    "Even further,"
   ]
  },
  {
   "cell_type": "code",
   "execution_count": 28,
   "id": "2ce2ae17",
   "metadata": {},
   "outputs": [
    {
     "data": {
      "text/html": [
       "<div>\n",
       "<style scoped>\n",
       "    .dataframe tbody tr th:only-of-type {\n",
       "        vertical-align: middle;\n",
       "    }\n",
       "\n",
       "    .dataframe tbody tr th {\n",
       "        vertical-align: top;\n",
       "    }\n",
       "\n",
       "    .dataframe thead th {\n",
       "        text-align: right;\n",
       "    }\n",
       "</style>\n",
       "<table border=\"1\" class=\"dataframe\">\n",
       "  <thead>\n",
       "    <tr style=\"text-align: right;\">\n",
       "      <th></th>\n",
       "      <th>Nino12</th>\n",
       "      <th>Nino3</th>\n",
       "      <th>Nino4</th>\n",
       "      <th>Nino34</th>\n",
       "    </tr>\n",
       "    <tr>\n",
       "      <th>datetime</th>\n",
       "      <th></th>\n",
       "      <th></th>\n",
       "      <th></th>\n",
       "      <th></th>\n",
       "    </tr>\n",
       "  </thead>\n",
       "  <tbody>\n",
       "    <tr>\n",
       "      <th>1982-01-01</th>\n",
       "      <td>24.29</td>\n",
       "      <td>25.87</td>\n",
       "      <td>28.30</td>\n",
       "      <td>26.72</td>\n",
       "    </tr>\n",
       "    <tr>\n",
       "      <th>1982-02-01</th>\n",
       "      <td>25.49</td>\n",
       "      <td>26.38</td>\n",
       "      <td>28.21</td>\n",
       "      <td>26.70</td>\n",
       "    </tr>\n",
       "    <tr>\n",
       "      <th>1982-03-01</th>\n",
       "      <td>25.21</td>\n",
       "      <td>26.98</td>\n",
       "      <td>28.41</td>\n",
       "      <td>27.20</td>\n",
       "    </tr>\n",
       "    <tr>\n",
       "      <th>1982-04-01</th>\n",
       "      <td>24.50</td>\n",
       "      <td>27.68</td>\n",
       "      <td>28.92</td>\n",
       "      <td>28.02</td>\n",
       "    </tr>\n",
       "    <tr>\n",
       "      <th>1982-05-01</th>\n",
       "      <td>23.97</td>\n",
       "      <td>27.79</td>\n",
       "      <td>29.49</td>\n",
       "      <td>28.54</td>\n",
       "    </tr>\n",
       "    <tr>\n",
       "      <th>1982-06-01</th>\n",
       "      <td>22.89</td>\n",
       "      <td>27.46</td>\n",
       "      <td>29.76</td>\n",
       "      <td>28.75</td>\n",
       "    </tr>\n",
       "    <tr>\n",
       "      <th>1982-07-01</th>\n",
       "      <td>22.47</td>\n",
       "      <td>26.44</td>\n",
       "      <td>29.38</td>\n",
       "      <td>28.10</td>\n",
       "    </tr>\n",
       "    <tr>\n",
       "      <th>1982-08-01</th>\n",
       "      <td>21.75</td>\n",
       "      <td>26.15</td>\n",
       "      <td>29.04</td>\n",
       "      <td>27.93</td>\n",
       "    </tr>\n",
       "    <tr>\n",
       "      <th>1982-09-01</th>\n",
       "      <td>21.80</td>\n",
       "      <td>26.52</td>\n",
       "      <td>29.16</td>\n",
       "      <td>28.11</td>\n",
       "    </tr>\n",
       "    <tr>\n",
       "      <th>1982-10-01</th>\n",
       "      <td>22.94</td>\n",
       "      <td>27.11</td>\n",
       "      <td>29.38</td>\n",
       "      <td>28.64</td>\n",
       "    </tr>\n",
       "    <tr>\n",
       "      <th>1982-11-01</th>\n",
       "      <td>24.59</td>\n",
       "      <td>27.62</td>\n",
       "      <td>29.23</td>\n",
       "      <td>28.81</td>\n",
       "    </tr>\n",
       "    <tr>\n",
       "      <th>1982-12-01</th>\n",
       "      <td>26.13</td>\n",
       "      <td>28.39</td>\n",
       "      <td>29.15</td>\n",
       "      <td>29.21</td>\n",
       "    </tr>\n",
       "  </tbody>\n",
       "</table>\n",
       "</div>"
      ],
      "text/plain": [
       "            Nino12  Nino3  Nino4  Nino34\n",
       "datetime                                \n",
       "1982-01-01   24.29  25.87  28.30   26.72\n",
       "1982-02-01   25.49  26.38  28.21   26.70\n",
       "1982-03-01   25.21  26.98  28.41   27.20\n",
       "1982-04-01   24.50  27.68  28.92   28.02\n",
       "1982-05-01   23.97  27.79  29.49   28.54\n",
       "1982-06-01   22.89  27.46  29.76   28.75\n",
       "1982-07-01   22.47  26.44  29.38   28.10\n",
       "1982-08-01   21.75  26.15  29.04   27.93\n",
       "1982-09-01   21.80  26.52  29.16   28.11\n",
       "1982-10-01   22.94  27.11  29.38   28.64\n",
       "1982-11-01   24.59  27.62  29.23   28.81\n",
       "1982-12-01   26.13  28.39  29.15   29.21"
      ]
     },
     "execution_count": 28,
     "metadata": {},
     "output_type": "execute_result"
    }
   ],
   "source": [
    "df.loc[\n",
    "    \"1982-01-01\":\"1982-12-01\",              # slice of rows\n",
    "    [\"Nino12\", \"Nino3\", \"Nino4\", \"Nino34\"]  # list of columns\n",
    "]"
   ]
  },
  {
   "cell_type": "markdown",
   "id": "09aa0dbf",
   "metadata": {},
   "source": [
    "We strongly suggest taking a look at some of pandas [rules for indexing](https://pandas.pydata.org/docs/user_guide/indexing.html#), where they demonstrate these further, discuss the limitations, and compare interacting with a `DataFrame` versus a `Series`. Pandas also gives you a few shortcuts to quickly investigate entire `DataFrame`s."
   ]
  },
  {
   "cell_type": "code",
   "execution_count": 29,
   "id": "e88bf75f-acf1-4629-9557-d1b23f763044",
   "metadata": {},
   "outputs": [
    {
     "data": {
      "text/html": [
       "<div>\n",
       "<style scoped>\n",
       "    .dataframe tbody tr th:only-of-type {\n",
       "        vertical-align: middle;\n",
       "    }\n",
       "\n",
       "    .dataframe tbody tr th {\n",
       "        vertical-align: top;\n",
       "    }\n",
       "\n",
       "    .dataframe thead th {\n",
       "        text-align: right;\n",
       "    }\n",
       "</style>\n",
       "<table border=\"1\" class=\"dataframe\">\n",
       "  <thead>\n",
       "    <tr style=\"text-align: right;\">\n",
       "      <th></th>\n",
       "      <th>Nino12</th>\n",
       "      <th>Nino12anom</th>\n",
       "      <th>Nino3</th>\n",
       "      <th>Nino3anom</th>\n",
       "      <th>Nino4</th>\n",
       "      <th>Nino4anom</th>\n",
       "      <th>Nino34</th>\n",
       "      <th>Nino34anom</th>\n",
       "    </tr>\n",
       "    <tr>\n",
       "      <th>datetime</th>\n",
       "      <th></th>\n",
       "      <th></th>\n",
       "      <th></th>\n",
       "      <th></th>\n",
       "      <th></th>\n",
       "      <th></th>\n",
       "      <th></th>\n",
       "      <th></th>\n",
       "    </tr>\n",
       "  </thead>\n",
       "  <tbody>\n",
       "    <tr>\n",
       "      <th>1982-01-01</th>\n",
       "      <td>24.29</td>\n",
       "      <td>-0.17</td>\n",
       "      <td>25.87</td>\n",
       "      <td>0.24</td>\n",
       "      <td>28.30</td>\n",
       "      <td>0.00</td>\n",
       "      <td>26.72</td>\n",
       "      <td>0.15</td>\n",
       "    </tr>\n",
       "    <tr>\n",
       "      <th>1982-02-01</th>\n",
       "      <td>25.49</td>\n",
       "      <td>-0.58</td>\n",
       "      <td>26.38</td>\n",
       "      <td>0.01</td>\n",
       "      <td>28.21</td>\n",
       "      <td>0.11</td>\n",
       "      <td>26.70</td>\n",
       "      <td>-0.02</td>\n",
       "    </tr>\n",
       "    <tr>\n",
       "      <th>1982-03-01</th>\n",
       "      <td>25.21</td>\n",
       "      <td>-1.31</td>\n",
       "      <td>26.98</td>\n",
       "      <td>-0.16</td>\n",
       "      <td>28.41</td>\n",
       "      <td>0.22</td>\n",
       "      <td>27.20</td>\n",
       "      <td>-0.02</td>\n",
       "    </tr>\n",
       "    <tr>\n",
       "      <th>1982-04-01</th>\n",
       "      <td>24.50</td>\n",
       "      <td>-0.97</td>\n",
       "      <td>27.68</td>\n",
       "      <td>0.18</td>\n",
       "      <td>28.92</td>\n",
       "      <td>0.42</td>\n",
       "      <td>28.02</td>\n",
       "      <td>0.24</td>\n",
       "    </tr>\n",
       "    <tr>\n",
       "      <th>1982-05-01</th>\n",
       "      <td>23.97</td>\n",
       "      <td>-0.23</td>\n",
       "      <td>27.79</td>\n",
       "      <td>0.71</td>\n",
       "      <td>29.49</td>\n",
       "      <td>0.70</td>\n",
       "      <td>28.54</td>\n",
       "      <td>0.69</td>\n",
       "    </tr>\n",
       "  </tbody>\n",
       "</table>\n",
       "</div>"
      ],
      "text/plain": [
       "            Nino12  Nino12anom  Nino3  Nino3anom  Nino4  Nino4anom  Nino34  \\\n",
       "datetime                                                                     \n",
       "1982-01-01   24.29       -0.17  25.87       0.24  28.30       0.00   26.72   \n",
       "1982-02-01   25.49       -0.58  26.38       0.01  28.21       0.11   26.70   \n",
       "1982-03-01   25.21       -1.31  26.98      -0.16  28.41       0.22   27.20   \n",
       "1982-04-01   24.50       -0.97  27.68       0.18  28.92       0.42   28.02   \n",
       "1982-05-01   23.97       -0.23  27.79       0.71  29.49       0.70   28.54   \n",
       "\n",
       "            Nino34anom  \n",
       "datetime                \n",
       "1982-01-01        0.15  \n",
       "1982-02-01       -0.02  \n",
       "1982-03-01       -0.02  \n",
       "1982-04-01        0.24  \n",
       "1982-05-01        0.69  "
      ]
     },
     "execution_count": 29,
     "metadata": {},
     "output_type": "execute_result"
    }
   ],
   "source": [
    "df.head()"
   ]
  },
  {
   "cell_type": "code",
   "execution_count": 30,
   "id": "05ec853b-1173-459e-9228-193671c9486c",
   "metadata": {},
   "outputs": [
    {
     "data": {
      "text/html": [
       "<div>\n",
       "<style scoped>\n",
       "    .dataframe tbody tr th:only-of-type {\n",
       "        vertical-align: middle;\n",
       "    }\n",
       "\n",
       "    .dataframe tbody tr th {\n",
       "        vertical-align: top;\n",
       "    }\n",
       "\n",
       "    .dataframe thead th {\n",
       "        text-align: right;\n",
       "    }\n",
       "</style>\n",
       "<table border=\"1\" class=\"dataframe\">\n",
       "  <thead>\n",
       "    <tr style=\"text-align: right;\">\n",
       "      <th></th>\n",
       "      <th>Nino12</th>\n",
       "      <th>Nino12anom</th>\n",
       "      <th>Nino3</th>\n",
       "      <th>Nino3anom</th>\n",
       "      <th>Nino4</th>\n",
       "      <th>Nino4anom</th>\n",
       "      <th>Nino34</th>\n",
       "      <th>Nino34anom</th>\n",
       "    </tr>\n",
       "    <tr>\n",
       "      <th>datetime</th>\n",
       "      <th></th>\n",
       "      <th></th>\n",
       "      <th></th>\n",
       "      <th></th>\n",
       "      <th></th>\n",
       "      <th></th>\n",
       "      <th></th>\n",
       "      <th></th>\n",
       "    </tr>\n",
       "  </thead>\n",
       "  <tbody>\n",
       "    <tr>\n",
       "      <th>2020-12-01</th>\n",
       "      <td>22.16</td>\n",
       "      <td>-0.60</td>\n",
       "      <td>24.38</td>\n",
       "      <td>-0.83</td>\n",
       "      <td>27.65</td>\n",
       "      <td>-0.95</td>\n",
       "      <td>25.53</td>\n",
       "      <td>-1.12</td>\n",
       "    </tr>\n",
       "    <tr>\n",
       "      <th>2021-01-01</th>\n",
       "      <td>23.89</td>\n",
       "      <td>-0.64</td>\n",
       "      <td>25.06</td>\n",
       "      <td>-0.55</td>\n",
       "      <td>27.10</td>\n",
       "      <td>-1.25</td>\n",
       "      <td>25.58</td>\n",
       "      <td>-0.99</td>\n",
       "    </tr>\n",
       "    <tr>\n",
       "      <th>2021-02-01</th>\n",
       "      <td>25.55</td>\n",
       "      <td>-0.66</td>\n",
       "      <td>25.80</td>\n",
       "      <td>-0.57</td>\n",
       "      <td>27.20</td>\n",
       "      <td>-1.00</td>\n",
       "      <td>25.81</td>\n",
       "      <td>-0.92</td>\n",
       "    </tr>\n",
       "    <tr>\n",
       "      <th>2021-03-01</th>\n",
       "      <td>26.48</td>\n",
       "      <td>-0.26</td>\n",
       "      <td>26.80</td>\n",
       "      <td>-0.39</td>\n",
       "      <td>27.79</td>\n",
       "      <td>-0.55</td>\n",
       "      <td>26.75</td>\n",
       "      <td>-0.51</td>\n",
       "    </tr>\n",
       "    <tr>\n",
       "      <th>2021-04-01</th>\n",
       "      <td>24.89</td>\n",
       "      <td>-0.80</td>\n",
       "      <td>26.96</td>\n",
       "      <td>-0.65</td>\n",
       "      <td>28.47</td>\n",
       "      <td>-0.21</td>\n",
       "      <td>27.40</td>\n",
       "      <td>-0.49</td>\n",
       "    </tr>\n",
       "  </tbody>\n",
       "</table>\n",
       "</div>"
      ],
      "text/plain": [
       "            Nino12  Nino12anom  Nino3  Nino3anom  Nino4  Nino4anom  Nino34  \\\n",
       "datetime                                                                     \n",
       "2020-12-01   22.16       -0.60  24.38      -0.83  27.65      -0.95   25.53   \n",
       "2021-01-01   23.89       -0.64  25.06      -0.55  27.10      -1.25   25.58   \n",
       "2021-02-01   25.55       -0.66  25.80      -0.57  27.20      -1.00   25.81   \n",
       "2021-03-01   26.48       -0.26  26.80      -0.39  27.79      -0.55   26.75   \n",
       "2021-04-01   24.89       -0.80  26.96      -0.65  28.47      -0.21   27.40   \n",
       "\n",
       "            Nino34anom  \n",
       "datetime                \n",
       "2020-12-01       -1.12  \n",
       "2021-01-01       -0.99  \n",
       "2021-02-01       -0.92  \n",
       "2021-03-01       -0.51  \n",
       "2021-04-01       -0.49  "
      ]
     },
     "execution_count": 30,
     "metadata": {},
     "output_type": "execute_result"
    }
   ],
   "source": [
    "df.tail()"
   ]
  },
  {
   "cell_type": "markdown",
   "id": "7c5d4ea1-aa6c-4849-a281-7e24e8103411",
   "metadata": {},
   "source": [
    "## The Powers of pandas\n",
    "\n",
    "### Quick Plots of Your Data\n",
    "A good way to explore your data is by making a simple plot. Pandas allows you to plot without even calling `matplotlib`! Here, we are interested in the `Nino34` series. Check this out..."
   ]
  },
  {
   "cell_type": "code",
   "execution_count": 31,
   "id": "f814ba91-1fc6-427c-9f9e-c0634eda7012",
   "metadata": {},
   "outputs": [
    {
     "name": "stderr",
     "output_type": "stream",
     "text": [
      "<<<<<<< local\n"
     ]
    },
    {
     "data": {
      "image/png": "[encoded data removed]",
      "text/plain": [
       "<Figure size 432x288 with 1 Axes>"
      ]
     },
     "metadata": {
      "needs_background": "light"
     },
     "output_type": "display_data"
    },
    {
     "name": "stderr",
     "output_type": "stream",
     "text": [
      "=======\n"
     ]
    },
    {
     "data": {
      "image/png": "[encoded data removed]",
      "text/plain": [
       "<Figure size 432x288 with 1 Axes>"
      ]
     },
     "metadata": {
      "needs_background": "light"
     },
     "output_type": "display_data"
    },
    {
     "name": "stderr",
     "output_type": "stream",
     "text": [
      ">>>>>>> remote\n"
     ]
    }
   ],
   "source": [
    "df.Nino34.plot();"
   ]
  },
  {
   "cell_type": "markdown",
   "id": "d861ce26-56c3-42e9-847c-e1459b3e5d1f",
   "metadata": {},
   "source": [
    "This can be a great way to take a quick look at your data, but what if you wanted a more ***quantatative*** perspective? Pandas has some handy funtionality for that too!\n",
    "\n",
    "### Statistics\n",
    "\n",
    "By using the `.describe` method, we see some general statistics! Notice how calling this on the dataframe returns a table with all the series"
   ]
  },
  {
   "cell_type": "code",
   "execution_count": 32,
   "id": "98de2c4b-70ba-4a6a-8b8c-84d107bdea75",
   "metadata": {},
   "outputs": [
    {
     "data": {
      "text/html": [
       "<div>\n",
       "<style scoped>\n",
       "    .dataframe tbody tr th:only-of-type {\n",
       "        vertical-align: middle;\n",
       "    }\n",
       "\n",
       "    .dataframe tbody tr th {\n",
       "        vertical-align: top;\n",
       "    }\n",
       "\n",
       "    .dataframe thead th {\n",
       "        text-align: right;\n",
       "    }\n",
       "</style>\n",
       "<table border=\"1\" class=\"dataframe\">\n",
       "  <thead>\n",
       "    <tr style=\"text-align: right;\">\n",
       "      <th></th>\n",
       "      <th>Nino12</th>\n",
       "      <th>Nino12anom</th>\n",
       "      <th>Nino3</th>\n",
       "      <th>Nino3anom</th>\n",
       "      <th>Nino4</th>\n",
       "      <th>Nino4anom</th>\n",
       "      <th>Nino34</th>\n",
       "      <th>Nino34anom</th>\n",
       "    </tr>\n",
       "  </thead>\n",
       "  <tbody>\n",
       "    <tr>\n",
       "      <th>count</th>\n",
       "      <td>472.000000</td>\n",
       "      <td>472.000000</td>\n",
       "      <td>472.000000</td>\n",
       "      <td>472.000000</td>\n",
       "      <td>472.000000</td>\n",
       "      <td>472.000000</td>\n",
       "      <td>472.000000</td>\n",
       "      <td>472.000000</td>\n",
       "    </tr>\n",
       "    <tr>\n",
       "      <th>mean</th>\n",
       "      <td>23.209619</td>\n",
       "      <td>0.059725</td>\n",
       "      <td>25.936568</td>\n",
       "      <td>0.039428</td>\n",
       "      <td>28.625064</td>\n",
       "      <td>0.063814</td>\n",
       "      <td>27.076780</td>\n",
       "      <td>0.034894</td>\n",
       "    </tr>\n",
       "    <tr>\n",
       "      <th>std</th>\n",
       "      <td>2.431522</td>\n",
       "      <td>1.157590</td>\n",
       "      <td>1.349621</td>\n",
       "      <td>0.965464</td>\n",
       "      <td>0.755422</td>\n",
       "      <td>0.709401</td>\n",
       "      <td>1.063004</td>\n",
       "      <td>0.947936</td>\n",
       "    </tr>\n",
       "    <tr>\n",
       "      <th>min</th>\n",
       "      <td>18.570000</td>\n",
       "      <td>-2.100000</td>\n",
       "      <td>23.030000</td>\n",
       "      <td>-2.070000</td>\n",
       "      <td>26.430000</td>\n",
       "      <td>-1.870000</td>\n",
       "      <td>24.270000</td>\n",
       "      <td>-2.380000</td>\n",
       "    </tr>\n",
       "    <tr>\n",
       "      <th>25%</th>\n",
       "      <td>21.152500</td>\n",
       "      <td>-0.712500</td>\n",
       "      <td>24.850000</td>\n",
       "      <td>-0.600000</td>\n",
       "      <td>28.140000</td>\n",
       "      <td>-0.430000</td>\n",
       "      <td>26.330000</td>\n",
       "      <td>-0.572500</td>\n",
       "    </tr>\n",
       "    <tr>\n",
       "      <th>50%</th>\n",
       "      <td>22.980000</td>\n",
       "      <td>-0.160000</td>\n",
       "      <td>25.885000</td>\n",
       "      <td>-0.115000</td>\n",
       "      <td>28.760000</td>\n",
       "      <td>0.205000</td>\n",
       "      <td>27.100000</td>\n",
       "      <td>0.015000</td>\n",
       "    </tr>\n",
       "    <tr>\n",
       "      <th>75%</th>\n",
       "      <td>25.322500</td>\n",
       "      <td>0.515000</td>\n",
       "      <td>26.962500</td>\n",
       "      <td>0.512500</td>\n",
       "      <td>29.190000</td>\n",
       "      <td>0.630000</td>\n",
       "      <td>27.792500</td>\n",
       "      <td>0.565000</td>\n",
       "    </tr>\n",
       "    <tr>\n",
       "      <th>max</th>\n",
       "      <td>29.150000</td>\n",
       "      <td>4.620000</td>\n",
       "      <td>29.140000</td>\n",
       "      <td>3.620000</td>\n",
       "      <td>30.300000</td>\n",
       "      <td>1.670000</td>\n",
       "      <td>29.600000</td>\n",
       "      <td>2.950000</td>\n",
       "    </tr>\n",
       "  </tbody>\n",
       "</table>\n",
       "</div>"
      ],
      "text/plain": [
       "           Nino12  Nino12anom       Nino3   Nino3anom       Nino4   Nino4anom  \\\n",
       "count  472.000000  472.000000  472.000000  472.000000  472.000000  472.000000   \n",
       "mean    23.209619    0.059725   25.936568    0.039428   28.625064    0.063814   \n",
       "std      2.431522    1.157590    1.349621    0.965464    0.755422    0.709401   \n",
       "min     18.570000   -2.100000   23.030000   -2.070000   26.430000   -1.870000   \n",
       "25%     21.152500   -0.712500   24.850000   -0.600000   28.140000   -0.430000   \n",
       "50%     22.980000   -0.160000   25.885000   -0.115000   28.760000    0.205000   \n",
       "75%     25.322500    0.515000   26.962500    0.512500   29.190000    0.630000   \n",
       "max     29.150000    4.620000   29.140000    3.620000   30.300000    1.670000   \n",
       "\n",
       "           Nino34  Nino34anom  \n",
       "count  472.000000  472.000000  \n",
       "mean    27.076780    0.034894  \n",
       "std      1.063004    0.947936  \n",
       "min     24.270000   -2.380000  \n",
       "25%     26.330000   -0.572500  \n",
       "50%     27.100000    0.015000  \n",
       "75%     27.792500    0.565000  \n",
       "max     29.600000    2.950000  "
      ]
     },
     "execution_count": 32,
     "metadata": {},
     "output_type": "execute_result"
    }
   ],
   "source": [
    "df.describe()"
   ]
  },
  {
   "cell_type": "markdown",
   "id": "95819965-243f-4eb1-ae48-487d69c29aa9",
   "metadata": {},
   "source": [
    "You can look at specific statistics too, such as mean! Notice how the output is a series (column) now"
   ]
  },
  {
   "cell_type": "code",
   "execution_count": 33,
   "id": "25c39275-1700-40e6-aa93-e0c830228be4",
   "metadata": {},
   "outputs": [
    {
     "data": {
      "text/plain": [
       "Nino12        23.209619\n",
       "Nino12anom     0.059725\n",
       "Nino3         25.936568\n",
       "Nino3anom      0.039428\n",
       "Nino4         28.625064\n",
       "Nino4anom      0.063814\n",
       "Nino34        27.076780\n",
       "Nino34anom     0.034894\n",
       "dtype: float64"
      ]
     },
     "execution_count": 33,
     "metadata": {},
     "output_type": "execute_result"
    }
   ],
   "source": [
    "df.mean()"
   ]
  },
  {
   "cell_type": "markdown",
   "id": "7e416f92-5b5e-4413-aff3-71f227802afe",
   "metadata": {},
   "source": [
    "If you are interested in a single column mean, subset for that and use `.mean`"
   ]
  },
  {
   "cell_type": "code",
   "execution_count": 34,
   "id": "42a4b0a4-c4cc-4e77-b695-fc0ebad79f57",
   "metadata": {},
   "outputs": [
    {
     "data": {
      "text/plain": [
       "27.07677966101695"
      ]
     },
     "execution_count": 34,
     "metadata": {},
     "output_type": "execute_result"
    }
   ],
   "source": [
    "df.Nino34.mean()"
   ]
  },
  {
   "cell_type": "markdown",
   "id": "12410a0e-56e5-4ab1-ab1e-c117879dc587",
   "metadata": {},
   "source": [
    "### Other Neat Plotting Functionality\n",
    "Before, we called `.plot()` which generated a single line plot. This is helpful, but there are other plots which can also help with understanding your data! Let's try using a histogram to understand distributions...\n",
    "\n",
    "The only part that changes here is we are subsetting for just two `Nino` indices, and after `.plot`, we include `.hist()` which stands for histogram"
   ]
  },
  {
   "cell_type": "code",
   "execution_count": 35,
   "id": "f8482274-d4fe-4475-98c1-c5afa12f087e",
   "metadata": {},
   "outputs": [
    {
     "name": "stderr",
     "output_type": "stream",
     "text": [
      "<<<<<<< local\n"
     ]
    },
    {
     "data": {
      "image/png": "[encoded data removed]",
      "text/plain": [
       "<Figure size 432x288 with 1 Axes>"
      ]
     },
     "metadata": {
      "needs_background": "light"
     },
     "output_type": "display_data"
    },
    {
     "name": "stderr",
     "output_type": "stream",
     "text": [
      "=======\n"
     ]
    },
    {
     "data": {
      "image/png": "[encoded data removed]",
      "text/plain": [
       "<Figure size 432x288 with 1 Axes>"
      ]
     },
     "metadata": {
      "needs_background": "light"
     },
     "output_type": "display_data"
    },
    {
     "name": "stderr",
     "output_type": "stream",
     "text": [
      ">>>>>>> remote\n"
     ]
    }
   ],
   "source": [
    "df[['Nino12', 'Nino34']].plot.hist();"
   ]
  },
  {
   "cell_type": "markdown",
   "id": "0248ae21-9f2a-4e20-a039-7873222c54ea",
   "metadata": {},
   "source": [
    "We can see some clear differences in the distributions, which is helpful! Another plot one might like to use would be a `boxplot`. Here, we replace `hist` with `box`"
   ]
  },
  {
   "cell_type": "code",
   "execution_count": 36,
   "id": "a92c36f3-1e56-4866-bb21-bcd8570d538f",
   "metadata": {},
   "outputs": [
    {
     "name": "stderr",
     "output_type": "stream",
     "text": [
      "<<<<<<< local\n"
     ]
    },
    {
     "data": {
      "image/png": "[encoded data removed]",
      "text/plain": [
       "<Figure size 432x288 with 1 Axes>"
      ]
     },
     "metadata": {
      "needs_background": "light"
     },
     "output_type": "display_data"
    },
    {
     "name": "stderr",
     "output_type": "stream",
     "text": [
      "=======\n"
     ]
    },
    {
     "data": {
      "image/png": "[encoded data removed]",
      "text/plain": [
       "<Figure size 432x288 with 1 Axes>"
      ]
     },
     "metadata": {
      "needs_background": "light"
     },
     "output_type": "display_data"
    },
    {
     "name": "stderr",
     "output_type": "stream",
     "text": [
      ">>>>>>> remote\n"
     ]
    }
   ],
   "source": [
    "df[['Nino12', 'Nino34']].plot.box();"
   ]
  },
  {
   "cell_type": "markdown",
   "id": "38424d74-61b4-45c0-8681-e40c4f00191e",
   "metadata": {},
   "source": [
    "Here, we again see a clear difference in the distributions. These are not the only plots you can use within pandas! For more examples of plotting choices, check out [the pandas plot documentation](https://pandas.pydata.org/docs/reference/api/pandas.DataFrame.plot.html)"
   ]
  },
  {
   "cell_type": "markdown",
   "id": "4c82d5d6-f32e-4fd1-8d92-be1aadab0763",
   "metadata": {},
   "source": [
    "### Advanced subsetting\n",
    "\n",
    "You may be interested in subsetting beyond slices - here, we provide examples of using a couple other options.\n",
    "\n",
    "Say you only want the month of January - you can use `df.index.month` to query for which month you are interested in (in this case, 1 for the month of January)"
   ]
  },
  {
   "cell_type": "code",
   "execution_count": 37,
   "id": "33cd0888-75ad-4dd2-bd8e-94683a80c435",
   "metadata": {},
   "outputs": [
    {
     "data": {
      "text/html": [
       "<div>\n",
       "<style scoped>\n",
       "    .dataframe tbody tr th:only-of-type {\n",
       "        vertical-align: middle;\n",
       "    }\n",
       "\n",
       "    .dataframe tbody tr th {\n",
       "        vertical-align: top;\n",
       "    }\n",
       "\n",
       "    .dataframe thead th {\n",
       "        text-align: right;\n",
       "    }\n",
       "</style>\n",
       "<table border=\"1\" class=\"dataframe\">\n",
       "  <thead>\n",
       "    <tr style=\"text-align: right;\">\n",
       "      <th></th>\n",
       "      <th>Nino12</th>\n",
       "      <th>Nino12anom</th>\n",
       "      <th>Nino3</th>\n",
       "      <th>Nino3anom</th>\n",
       "      <th>Nino4</th>\n",
       "      <th>Nino4anom</th>\n",
       "      <th>Nino34</th>\n",
       "      <th>Nino34anom</th>\n",
       "    </tr>\n",
       "    <tr>\n",
       "      <th>datetime</th>\n",
       "      <th></th>\n",
       "      <th></th>\n",
       "      <th></th>\n",
       "      <th></th>\n",
       "      <th></th>\n",
       "      <th></th>\n",
       "      <th></th>\n",
       "      <th></th>\n",
       "    </tr>\n",
       "  </thead>\n",
       "  <tbody>\n",
       "    <tr>\n",
       "      <th>1982-01-01</th>\n",
       "      <td>24.29</td>\n",
       "      <td>-0.17</td>\n",
       "      <td>25.87</td>\n",
       "      <td>0.24</td>\n",
       "      <td>28.30</td>\n",
       "      <td>0.00</td>\n",
       "      <td>26.72</td>\n",
       "      <td>0.15</td>\n",
       "    </tr>\n",
       "    <tr>\n",
       "      <th>1983-01-01</th>\n",
       "      <td>27.42</td>\n",
       "      <td>2.96</td>\n",
       "      <td>28.92</td>\n",
       "      <td>3.29</td>\n",
       "      <td>29.00</td>\n",
       "      <td>0.70</td>\n",
       "      <td>29.36</td>\n",
       "      <td>2.79</td>\n",
       "    </tr>\n",
       "    <tr>\n",
       "      <th>1984-01-01</th>\n",
       "      <td>24.18</td>\n",
       "      <td>-0.28</td>\n",
       "      <td>24.82</td>\n",
       "      <td>-0.81</td>\n",
       "      <td>27.64</td>\n",
       "      <td>-0.66</td>\n",
       "      <td>25.64</td>\n",
       "      <td>-0.93</td>\n",
       "    </tr>\n",
       "    <tr>\n",
       "      <th>1985-01-01</th>\n",
       "      <td>23.59</td>\n",
       "      <td>-0.87</td>\n",
       "      <td>24.51</td>\n",
       "      <td>-1.12</td>\n",
       "      <td>27.71</td>\n",
       "      <td>-0.59</td>\n",
       "      <td>25.43</td>\n",
       "      <td>-1.14</td>\n",
       "    </tr>\n",
       "    <tr>\n",
       "      <th>1986-01-01</th>\n",
       "      <td>24.61</td>\n",
       "      <td>0.15</td>\n",
       "      <td>24.73</td>\n",
       "      <td>-0.90</td>\n",
       "      <td>28.11</td>\n",
       "      <td>-0.19</td>\n",
       "      <td>25.79</td>\n",
       "      <td>-0.78</td>\n",
       "    </tr>\n",
       "    <tr>\n",
       "      <th>1987-01-01</th>\n",
       "      <td>25.30</td>\n",
       "      <td>0.84</td>\n",
       "      <td>26.69</td>\n",
       "      <td>1.06</td>\n",
       "      <td>29.02</td>\n",
       "      <td>0.72</td>\n",
       "      <td>27.91</td>\n",
       "      <td>1.34</td>\n",
       "    </tr>\n",
       "    <tr>\n",
       "      <th>1988-01-01</th>\n",
       "      <td>24.64</td>\n",
       "      <td>0.18</td>\n",
       "      <td>26.12</td>\n",
       "      <td>0.49</td>\n",
       "      <td>29.13</td>\n",
       "      <td>0.83</td>\n",
       "      <td>27.32</td>\n",
       "      <td>0.75</td>\n",
       "    </tr>\n",
       "    <tr>\n",
       "      <th>1989-01-01</th>\n",
       "      <td>24.09</td>\n",
       "      <td>-0.37</td>\n",
       "      <td>24.15</td>\n",
       "      <td>-1.48</td>\n",
       "      <td>26.54</td>\n",
       "      <td>-1.76</td>\n",
       "      <td>24.53</td>\n",
       "      <td>-2.04</td>\n",
       "    </tr>\n",
       "    <tr>\n",
       "      <th>1990-01-01</th>\n",
       "      <td>24.02</td>\n",
       "      <td>-0.44</td>\n",
       "      <td>25.34</td>\n",
       "      <td>-0.29</td>\n",
       "      <td>28.56</td>\n",
       "      <td>0.26</td>\n",
       "      <td>26.55</td>\n",
       "      <td>-0.02</td>\n",
       "    </tr>\n",
       "    <tr>\n",
       "      <th>1991-01-01</th>\n",
       "      <td>23.86</td>\n",
       "      <td>-0.60</td>\n",
       "      <td>25.65</td>\n",
       "      <td>0.02</td>\n",
       "      <td>29.00</td>\n",
       "      <td>0.70</td>\n",
       "      <td>27.01</td>\n",
       "      <td>0.44</td>\n",
       "    </tr>\n",
       "    <tr>\n",
       "      <th>1992-01-01</th>\n",
       "      <td>24.83</td>\n",
       "      <td>0.37</td>\n",
       "      <td>27.00</td>\n",
       "      <td>1.37</td>\n",
       "      <td>29.06</td>\n",
       "      <td>0.76</td>\n",
       "      <td>28.41</td>\n",
       "      <td>1.84</td>\n",
       "    </tr>\n",
       "    <tr>\n",
       "      <th>1993-01-01</th>\n",
       "      <td>24.43</td>\n",
       "      <td>-0.03</td>\n",
       "      <td>25.56</td>\n",
       "      <td>-0.07</td>\n",
       "      <td>28.60</td>\n",
       "      <td>0.30</td>\n",
       "      <td>26.69</td>\n",
       "      <td>0.12</td>\n",
       "    </tr>\n",
       "    <tr>\n",
       "      <th>1994-01-01</th>\n",
       "      <td>24.32</td>\n",
       "      <td>-0.14</td>\n",
       "      <td>25.71</td>\n",
       "      <td>0.08</td>\n",
       "      <td>28.47</td>\n",
       "      <td>0.17</td>\n",
       "      <td>26.60</td>\n",
       "      <td>0.03</td>\n",
       "    </tr>\n",
       "    <tr>\n",
       "      <th>1995-01-01</th>\n",
       "      <td>25.33</td>\n",
       "      <td>0.87</td>\n",
       "      <td>26.34</td>\n",
       "      <td>0.71</td>\n",
       "      <td>29.20</td>\n",
       "      <td>0.90</td>\n",
       "      <td>27.55</td>\n",
       "      <td>0.98</td>\n",
       "    </tr>\n",
       "    <tr>\n",
       "      <th>1996-01-01</th>\n",
       "      <td>23.84</td>\n",
       "      <td>-0.62</td>\n",
       "      <td>24.96</td>\n",
       "      <td>-0.67</td>\n",
       "      <td>27.92</td>\n",
       "      <td>-0.38</td>\n",
       "      <td>25.74</td>\n",
       "      <td>-0.83</td>\n",
       "    </tr>\n",
       "    <tr>\n",
       "      <th>1997-01-01</th>\n",
       "      <td>23.67</td>\n",
       "      <td>-0.79</td>\n",
       "      <td>24.70</td>\n",
       "      <td>-0.93</td>\n",
       "      <td>28.41</td>\n",
       "      <td>0.11</td>\n",
       "      <td>25.96</td>\n",
       "      <td>-0.61</td>\n",
       "    </tr>\n",
       "    <tr>\n",
       "      <th>1998-01-01</th>\n",
       "      <td>28.22</td>\n",
       "      <td>3.76</td>\n",
       "      <td>28.94</td>\n",
       "      <td>3.31</td>\n",
       "      <td>29.01</td>\n",
       "      <td>0.71</td>\n",
       "      <td>29.10</td>\n",
       "      <td>2.53</td>\n",
       "    </tr>\n",
       "    <tr>\n",
       "      <th>1999-01-01</th>\n",
       "      <td>23.73</td>\n",
       "      <td>-0.73</td>\n",
       "      <td>24.41</td>\n",
       "      <td>-1.22</td>\n",
       "      <td>26.59</td>\n",
       "      <td>-1.71</td>\n",
       "      <td>24.90</td>\n",
       "      <td>-1.67</td>\n",
       "    </tr>\n",
       "    <tr>\n",
       "      <th>2000-01-01</th>\n",
       "      <td>23.86</td>\n",
       "      <td>-0.60</td>\n",
       "      <td>23.88</td>\n",
       "      <td>-1.75</td>\n",
       "      <td>26.96</td>\n",
       "      <td>-1.34</td>\n",
       "      <td>24.65</td>\n",
       "      <td>-1.92</td>\n",
       "    </tr>\n",
       "    <tr>\n",
       "      <th>2001-01-01</th>\n",
       "      <td>23.88</td>\n",
       "      <td>-0.58</td>\n",
       "      <td>24.99</td>\n",
       "      <td>-0.64</td>\n",
       "      <td>27.50</td>\n",
       "      <td>-0.80</td>\n",
       "      <td>25.74</td>\n",
       "      <td>-0.83</td>\n",
       "    </tr>\n",
       "    <tr>\n",
       "      <th>2002-01-01</th>\n",
       "      <td>23.64</td>\n",
       "      <td>-0.82</td>\n",
       "      <td>25.09</td>\n",
       "      <td>-0.54</td>\n",
       "      <td>28.81</td>\n",
       "      <td>0.51</td>\n",
       "      <td>26.50</td>\n",
       "      <td>-0.07</td>\n",
       "    </tr>\n",
       "    <tr>\n",
       "      <th>2003-01-01</th>\n",
       "      <td>24.38</td>\n",
       "      <td>-0.08</td>\n",
       "      <td>26.38</td>\n",
       "      <td>0.75</td>\n",
       "      <td>29.25</td>\n",
       "      <td>0.95</td>\n",
       "      <td>27.76</td>\n",
       "      <td>1.19</td>\n",
       "    </tr>\n",
       "    <tr>\n",
       "      <th>2004-01-01</th>\n",
       "      <td>24.60</td>\n",
       "      <td>0.14</td>\n",
       "      <td>25.92</td>\n",
       "      <td>0.29</td>\n",
       "      <td>28.83</td>\n",
       "      <td>0.53</td>\n",
       "      <td>26.74</td>\n",
       "      <td>0.17</td>\n",
       "    </tr>\n",
       "    <tr>\n",
       "      <th>2005-01-01</th>\n",
       "      <td>24.47</td>\n",
       "      <td>0.01</td>\n",
       "      <td>25.89</td>\n",
       "      <td>0.26</td>\n",
       "      <td>29.21</td>\n",
       "      <td>0.91</td>\n",
       "      <td>27.10</td>\n",
       "      <td>0.53</td>\n",
       "    </tr>\n",
       "    <tr>\n",
       "      <th>2006-01-01</th>\n",
       "      <td>24.33</td>\n",
       "      <td>-0.13</td>\n",
       "      <td>25.00</td>\n",
       "      <td>-0.63</td>\n",
       "      <td>27.68</td>\n",
       "      <td>-0.62</td>\n",
       "      <td>25.64</td>\n",
       "      <td>-0.93</td>\n",
       "    </tr>\n",
       "    <tr>\n",
       "      <th>2007-01-01</th>\n",
       "      <td>24.99</td>\n",
       "      <td>0.53</td>\n",
       "      <td>26.50</td>\n",
       "      <td>0.87</td>\n",
       "      <td>28.93</td>\n",
       "      <td>0.63</td>\n",
       "      <td>27.26</td>\n",
       "      <td>0.69</td>\n",
       "    </tr>\n",
       "    <tr>\n",
       "      <th>2008-01-01</th>\n",
       "      <td>23.86</td>\n",
       "      <td>-0.60</td>\n",
       "      <td>24.13</td>\n",
       "      <td>-1.50</td>\n",
       "      <td>26.62</td>\n",
       "      <td>-1.68</td>\n",
       "      <td>24.71</td>\n",
       "      <td>-1.86</td>\n",
       "    </tr>\n",
       "    <tr>\n",
       "      <th>2009-01-01</th>\n",
       "      <td>24.42</td>\n",
       "      <td>-0.10</td>\n",
       "      <td>25.03</td>\n",
       "      <td>-0.60</td>\n",
       "      <td>27.42</td>\n",
       "      <td>-0.88</td>\n",
       "      <td>25.54</td>\n",
       "      <td>-1.03</td>\n",
       "    </tr>\n",
       "    <tr>\n",
       "      <th>2010-01-01</th>\n",
       "      <td>24.82</td>\n",
       "      <td>0.30</td>\n",
       "      <td>26.63</td>\n",
       "      <td>1.00</td>\n",
       "      <td>29.51</td>\n",
       "      <td>1.21</td>\n",
       "      <td>28.07</td>\n",
       "      <td>1.50</td>\n",
       "    </tr>\n",
       "    <tr>\n",
       "      <th>2011-01-01</th>\n",
       "      <td>24.08</td>\n",
       "      <td>-0.44</td>\n",
       "      <td>24.31</td>\n",
       "      <td>-1.32</td>\n",
       "      <td>26.72</td>\n",
       "      <td>-1.58</td>\n",
       "      <td>24.93</td>\n",
       "      <td>-1.64</td>\n",
       "    </tr>\n",
       "    <tr>\n",
       "      <th>2012-01-01</th>\n",
       "      <td>23.88</td>\n",
       "      <td>-0.64</td>\n",
       "      <td>24.90</td>\n",
       "      <td>-0.73</td>\n",
       "      <td>27.09</td>\n",
       "      <td>-1.21</td>\n",
       "      <td>25.49</td>\n",
       "      <td>-1.08</td>\n",
       "    </tr>\n",
       "    <tr>\n",
       "      <th>2013-01-01</th>\n",
       "      <td>24.00</td>\n",
       "      <td>-0.52</td>\n",
       "      <td>25.06</td>\n",
       "      <td>-0.57</td>\n",
       "      <td>28.28</td>\n",
       "      <td>-0.02</td>\n",
       "      <td>26.16</td>\n",
       "      <td>-0.41</td>\n",
       "    </tr>\n",
       "    <tr>\n",
       "      <th>2014-01-01</th>\n",
       "      <td>24.79</td>\n",
       "      <td>0.27</td>\n",
       "      <td>25.26</td>\n",
       "      <td>-0.37</td>\n",
       "      <td>28.14</td>\n",
       "      <td>-0.17</td>\n",
       "      <td>26.06</td>\n",
       "      <td>-0.51</td>\n",
       "    </tr>\n",
       "    <tr>\n",
       "      <th>2015-01-01</th>\n",
       "      <td>24.13</td>\n",
       "      <td>-0.39</td>\n",
       "      <td>25.99</td>\n",
       "      <td>0.36</td>\n",
       "      <td>29.16</td>\n",
       "      <td>0.86</td>\n",
       "      <td>27.10</td>\n",
       "      <td>0.53</td>\n",
       "    </tr>\n",
       "    <tr>\n",
       "      <th>2016-01-01</th>\n",
       "      <td>25.93</td>\n",
       "      <td>1.41</td>\n",
       "      <td>28.21</td>\n",
       "      <td>2.58</td>\n",
       "      <td>29.65</td>\n",
       "      <td>1.35</td>\n",
       "      <td>29.17</td>\n",
       "      <td>2.60</td>\n",
       "    </tr>\n",
       "    <tr>\n",
       "      <th>2017-01-01</th>\n",
       "      <td>25.75</td>\n",
       "      <td>1.23</td>\n",
       "      <td>25.61</td>\n",
       "      <td>-0.02</td>\n",
       "      <td>28.18</td>\n",
       "      <td>-0.12</td>\n",
       "      <td>26.25</td>\n",
       "      <td>-0.32</td>\n",
       "    </tr>\n",
       "    <tr>\n",
       "      <th>2018-01-01</th>\n",
       "      <td>23.71</td>\n",
       "      <td>-0.81</td>\n",
       "      <td>24.48</td>\n",
       "      <td>-1.14</td>\n",
       "      <td>28.03</td>\n",
       "      <td>-0.27</td>\n",
       "      <td>25.82</td>\n",
       "      <td>-0.75</td>\n",
       "    </tr>\n",
       "    <tr>\n",
       "      <th>2019-01-01</th>\n",
       "      <td>25.10</td>\n",
       "      <td>0.57</td>\n",
       "      <td>26.17</td>\n",
       "      <td>0.55</td>\n",
       "      <td>29.00</td>\n",
       "      <td>0.65</td>\n",
       "      <td>27.08</td>\n",
       "      <td>0.52</td>\n",
       "    </tr>\n",
       "    <tr>\n",
       "      <th>2020-01-01</th>\n",
       "      <td>24.55</td>\n",
       "      <td>0.02</td>\n",
       "      <td>25.81</td>\n",
       "      <td>0.20</td>\n",
       "      <td>29.28</td>\n",
       "      <td>0.93</td>\n",
       "      <td>27.09</td>\n",
       "      <td>0.53</td>\n",
       "    </tr>\n",
       "    <tr>\n",
       "      <th>2021-01-01</th>\n",
       "      <td>23.89</td>\n",
       "      <td>-0.64</td>\n",
       "      <td>25.06</td>\n",
       "      <td>-0.55</td>\n",
       "      <td>27.10</td>\n",
       "      <td>-1.25</td>\n",
       "      <td>25.58</td>\n",
       "      <td>-0.99</td>\n",
       "    </tr>\n",
       "  </tbody>\n",
       "</table>\n",
       "</div>"
      ],
      "text/plain": [
       "            Nino12  Nino12anom  Nino3  Nino3anom  Nino4  Nino4anom  Nino34  \\\n",
       "datetime                                                                     \n",
       "1982-01-01   24.29       -0.17  25.87       0.24  28.30       0.00   26.72   \n",
       "1983-01-01   27.42        2.96  28.92       3.29  29.00       0.70   29.36   \n",
       "1984-01-01   24.18       -0.28  24.82      -0.81  27.64      -0.66   25.64   \n",
       "1985-01-01   23.59       -0.87  24.51      -1.12  27.71      -0.59   25.43   \n",
       "1986-01-01   24.61        0.15  24.73      -0.90  28.11      -0.19   25.79   \n",
       "1987-01-01   25.30        0.84  26.69       1.06  29.02       0.72   27.91   \n",
       "1988-01-01   24.64        0.18  26.12       0.49  29.13       0.83   27.32   \n",
       "1989-01-01   24.09       -0.37  24.15      -1.48  26.54      -1.76   24.53   \n",
       "1990-01-01   24.02       -0.44  25.34      -0.29  28.56       0.26   26.55   \n",
       "1991-01-01   23.86       -0.60  25.65       0.02  29.00       0.70   27.01   \n",
       "1992-01-01   24.83        0.37  27.00       1.37  29.06       0.76   28.41   \n",
       "1993-01-01   24.43       -0.03  25.56      -0.07  28.60       0.30   26.69   \n",
       "1994-01-01   24.32       -0.14  25.71       0.08  28.47       0.17   26.60   \n",
       "1995-01-01   25.33        0.87  26.34       0.71  29.20       0.90   27.55   \n",
       "1996-01-01   23.84       -0.62  24.96      -0.67  27.92      -0.38   25.74   \n",
       "1997-01-01   23.67       -0.79  24.70      -0.93  28.41       0.11   25.96   \n",
       "1998-01-01   28.22        3.76  28.94       3.31  29.01       0.71   29.10   \n",
       "1999-01-01   23.73       -0.73  24.41      -1.22  26.59      -1.71   24.90   \n",
       "2000-01-01   23.86       -0.60  23.88      -1.75  26.96      -1.34   24.65   \n",
       "2001-01-01   23.88       -0.58  24.99      -0.64  27.50      -0.80   25.74   \n",
       "2002-01-01   23.64       -0.82  25.09      -0.54  28.81       0.51   26.50   \n",
       "2003-01-01   24.38       -0.08  26.38       0.75  29.25       0.95   27.76   \n",
       "2004-01-01   24.60        0.14  25.92       0.29  28.83       0.53   26.74   \n",
       "2005-01-01   24.47        0.01  25.89       0.26  29.21       0.91   27.10   \n",
       "2006-01-01   24.33       -0.13  25.00      -0.63  27.68      -0.62   25.64   \n",
       "2007-01-01   24.99        0.53  26.50       0.87  28.93       0.63   27.26   \n",
       "2008-01-01   23.86       -0.60  24.13      -1.50  26.62      -1.68   24.71   \n",
       "2009-01-01   24.42       -0.10  25.03      -0.60  27.42      -0.88   25.54   \n",
       "2010-01-01   24.82        0.30  26.63       1.00  29.51       1.21   28.07   \n",
       "2011-01-01   24.08       -0.44  24.31      -1.32  26.72      -1.58   24.93   \n",
       "2012-01-01   23.88       -0.64  24.90      -0.73  27.09      -1.21   25.49   \n",
       "2013-01-01   24.00       -0.52  25.06      -0.57  28.28      -0.02   26.16   \n",
       "2014-01-01   24.79        0.27  25.26      -0.37  28.14      -0.17   26.06   \n",
       "2015-01-01   24.13       -0.39  25.99       0.36  29.16       0.86   27.10   \n",
       "2016-01-01   25.93        1.41  28.21       2.58  29.65       1.35   29.17   \n",
       "2017-01-01   25.75        1.23  25.61      -0.02  28.18      -0.12   26.25   \n",
       "2018-01-01   23.71       -0.81  24.48      -1.14  28.03      -0.27   25.82   \n",
       "2019-01-01   25.10        0.57  26.17       0.55  29.00       0.65   27.08   \n",
       "2020-01-01   24.55        0.02  25.81       0.20  29.28       0.93   27.09   \n",
       "2021-01-01   23.89       -0.64  25.06      -0.55  27.10      -1.25   25.58   \n",
       "\n",
       "            Nino34anom  \n",
       "datetime                \n",
       "1982-01-01        0.15  \n",
       "1983-01-01        2.79  \n",
       "1984-01-01       -0.93  \n",
       "1985-01-01       -1.14  \n",
       "1986-01-01       -0.78  \n",
       "1987-01-01        1.34  \n",
       "1988-01-01        0.75  \n",
       "1989-01-01       -2.04  \n",
       "1990-01-01       -0.02  \n",
       "1991-01-01        0.44  \n",
       "1992-01-01        1.84  \n",
       "1993-01-01        0.12  \n",
       "1994-01-01        0.03  \n",
       "1995-01-01        0.98  \n",
       "1996-01-01       -0.83  \n",
       "1997-01-01       -0.61  \n",
       "1998-01-01        2.53  \n",
       "1999-01-01       -1.67  \n",
       "2000-01-01       -1.92  \n",
       "2001-01-01       -0.83  \n",
       "2002-01-01       -0.07  \n",
       "2003-01-01        1.19  \n",
       "2004-01-01        0.17  \n",
       "2005-01-01        0.53  \n",
       "2006-01-01       -0.93  \n",
       "2007-01-01        0.69  \n",
       "2008-01-01       -1.86  \n",
       "2009-01-01       -1.03  \n",
       "2010-01-01        1.50  \n",
       "2011-01-01       -1.64  \n",
       "2012-01-01       -1.08  \n",
       "2013-01-01       -0.41  \n",
       "2014-01-01       -0.51  \n",
       "2015-01-01        0.53  \n",
       "2016-01-01        2.60  \n",
       "2017-01-01       -0.32  \n",
       "2018-01-01       -0.75  \n",
       "2019-01-01        0.52  \n",
       "2020-01-01        0.53  \n",
       "2021-01-01       -0.99  "
      ]
     },
     "execution_count": 37,
     "metadata": {},
     "output_type": "execute_result"
    }
   ],
   "source": [
    "# Uses the datetime column\n",
    "df[df.index.month == 1]"
   ]
  },
  {
   "cell_type": "markdown",
   "id": "2b16dc05-7c04-4099-9e06-73454e543455",
   "metadata": {},
   "source": [
    "You could even assign this month to a new column!"
   ]
  },
  {
   "cell_type": "code",
   "execution_count": 38,
   "id": "82aca6a2-0f49-4d35-b3c5-7d1c771bf4bd",
   "metadata": {},
   "outputs": [],
   "source": [
    "df['month'] = df.index.month"
   ]
  },
  {
   "cell_type": "markdown",
   "id": "ac9e0606-18ad-4ec2-a204-50337e422505",
   "metadata": {},
   "source": [
    "Now that it is its own column (series), we can use groupby to group by the month, then taking the average, to determine average monthly values over the dataset"
   ]
  },
  {
   "cell_type": "code",
   "execution_count": 39,
   "id": "de77165d-84f2-46d3-9c82-ef3fe1b05a99",
   "metadata": {},
   "outputs": [
    {
     "name": "stderr",
     "output_type": "stream",
     "text": [
      "<<<<<<< local\n"
     ]
    },
    {
     "data": {
      "image/png": "[encoded data removed]",
      "text/plain": [
       "<Figure size 432x288 with 1 Axes>"
      ]
     },
     "metadata": {
      "needs_background": "light"
     },
     "output_type": "display_data"
    },
    {
     "name": "stderr",
     "output_type": "stream",
     "text": [
      "=======\n"
     ]
    },
    {
     "data": {
      "image/png": "[encoded data removed]",
      "text/plain": [
       "<Figure size 432x288 with 1 Axes>"
      ]
     },
     "metadata": {
      "needs_background": "light"
     },
     "output_type": "display_data"
    },
    {
     "name": "stderr",
     "output_type": "stream",
     "text": [
      ">>>>>>> remote\n"
     ]
    }
   ],
   "source": [
    "df.groupby('month').mean().plot();"
   ]
  },
  {
   "cell_type": "markdown",
   "id": "68473eb4-b2e9-4df2-a9e1-adf507e6ec32",
   "metadata": {},
   "source": [
    "You can also use conditional indexing, such that you can search where rows meet a certain criteria. In this case, we are interested where the Nino34 anomaly is greater than 2"
   ]
  },
  {
   "cell_type": "code",
   "execution_count": 40,
   "id": "a7c164c2-b0db-418d-a389-202214c48652",
   "metadata": {},
   "outputs": [
    {
     "data": {
      "text/html": [
       "<div>\n",
       "<style scoped>\n",
       "    .dataframe tbody tr th:only-of-type {\n",
       "        vertical-align: middle;\n",
       "    }\n",
       "\n",
       "    .dataframe tbody tr th {\n",
       "        vertical-align: top;\n",
       "    }\n",
       "\n",
       "    .dataframe thead th {\n",
       "        text-align: right;\n",
       "    }\n",
       "</style>\n",
       "<table border=\"1\" class=\"dataframe\">\n",
       "  <thead>\n",
       "    <tr style=\"text-align: right;\">\n",
       "      <th></th>\n",
       "      <th>Nino12</th>\n",
       "      <th>Nino12anom</th>\n",
       "      <th>Nino3</th>\n",
       "      <th>Nino3anom</th>\n",
       "      <th>Nino4</th>\n",
       "      <th>Nino4anom</th>\n",
       "      <th>Nino34</th>\n",
       "      <th>Nino34anom</th>\n",
       "      <th>month</th>\n",
       "    </tr>\n",
       "    <tr>\n",
       "      <th>datetime</th>\n",
       "      <th></th>\n",
       "      <th></th>\n",
       "      <th></th>\n",
       "      <th></th>\n",
       "      <th></th>\n",
       "      <th></th>\n",
       "      <th></th>\n",
       "      <th></th>\n",
       "      <th></th>\n",
       "    </tr>\n",
       "  </thead>\n",
       "  <tbody>\n",
       "    <tr>\n",
       "      <th>1982-11-01</th>\n",
       "      <td>24.59</td>\n",
       "      <td>3.00</td>\n",
       "      <td>27.62</td>\n",
       "      <td>2.64</td>\n",
       "      <td>29.23</td>\n",
       "      <td>0.60</td>\n",
       "      <td>28.81</td>\n",
       "      <td>2.16</td>\n",
       "      <td>11</td>\n",
       "    </tr>\n",
       "    <tr>\n",
       "      <th>1982-12-01</th>\n",
       "      <td>26.13</td>\n",
       "      <td>3.34</td>\n",
       "      <td>28.39</td>\n",
       "      <td>3.25</td>\n",
       "      <td>29.15</td>\n",
       "      <td>0.66</td>\n",
       "      <td>29.21</td>\n",
       "      <td>2.64</td>\n",
       "      <td>12</td>\n",
       "    </tr>\n",
       "    <tr>\n",
       "      <th>1983-01-01</th>\n",
       "      <td>27.42</td>\n",
       "      <td>2.96</td>\n",
       "      <td>28.92</td>\n",
       "      <td>3.29</td>\n",
       "      <td>29.00</td>\n",
       "      <td>0.70</td>\n",
       "      <td>29.36</td>\n",
       "      <td>2.79</td>\n",
       "      <td>1</td>\n",
       "    </tr>\n",
       "    <tr>\n",
       "      <th>1983-02-01</th>\n",
       "      <td>28.09</td>\n",
       "      <td>2.02</td>\n",
       "      <td>28.92</td>\n",
       "      <td>2.55</td>\n",
       "      <td>28.79</td>\n",
       "      <td>0.69</td>\n",
       "      <td>29.13</td>\n",
       "      <td>2.41</td>\n",
       "      <td>2</td>\n",
       "    </tr>\n",
       "    <tr>\n",
       "      <th>1997-08-01</th>\n",
       "      <td>24.80</td>\n",
       "      <td>4.15</td>\n",
       "      <td>27.84</td>\n",
       "      <td>2.85</td>\n",
       "      <td>29.26</td>\n",
       "      <td>0.58</td>\n",
       "      <td>28.84</td>\n",
       "      <td>2.02</td>\n",
       "      <td>8</td>\n",
       "    </tr>\n",
       "    <tr>\n",
       "      <th>1997-09-01</th>\n",
       "      <td>24.40</td>\n",
       "      <td>4.04</td>\n",
       "      <td>27.84</td>\n",
       "      <td>2.99</td>\n",
       "      <td>29.32</td>\n",
       "      <td>0.63</td>\n",
       "      <td>28.93</td>\n",
       "      <td>2.21</td>\n",
       "      <td>9</td>\n",
       "    </tr>\n",
       "    <tr>\n",
       "      <th>1997-10-01</th>\n",
       "      <td>24.58</td>\n",
       "      <td>3.76</td>\n",
       "      <td>28.17</td>\n",
       "      <td>3.25</td>\n",
       "      <td>29.32</td>\n",
       "      <td>0.66</td>\n",
       "      <td>29.23</td>\n",
       "      <td>2.54</td>\n",
       "      <td>10</td>\n",
       "    </tr>\n",
       "    <tr>\n",
       "      <th>1997-11-01</th>\n",
       "      <td>25.63</td>\n",
       "      <td>4.04</td>\n",
       "      <td>28.55</td>\n",
       "      <td>3.57</td>\n",
       "      <td>29.49</td>\n",
       "      <td>0.86</td>\n",
       "      <td>29.32</td>\n",
       "      <td>2.67</td>\n",
       "      <td>11</td>\n",
       "    </tr>\n",
       "    <tr>\n",
       "      <th>1997-12-01</th>\n",
       "      <td>26.92</td>\n",
       "      <td>4.13</td>\n",
       "      <td>28.76</td>\n",
       "      <td>3.62</td>\n",
       "      <td>29.32</td>\n",
       "      <td>0.83</td>\n",
       "      <td>29.26</td>\n",
       "      <td>2.69</td>\n",
       "      <td>12</td>\n",
       "    </tr>\n",
       "    <tr>\n",
       "      <th>1998-01-01</th>\n",
       "      <td>28.22</td>\n",
       "      <td>3.76</td>\n",
       "      <td>28.94</td>\n",
       "      <td>3.31</td>\n",
       "      <td>29.01</td>\n",
       "      <td>0.71</td>\n",
       "      <td>29.10</td>\n",
       "      <td>2.53</td>\n",
       "      <td>1</td>\n",
       "    </tr>\n",
       "    <tr>\n",
       "      <th>1998-02-01</th>\n",
       "      <td>28.98</td>\n",
       "      <td>2.91</td>\n",
       "      <td>28.93</td>\n",
       "      <td>2.56</td>\n",
       "      <td>28.87</td>\n",
       "      <td>0.77</td>\n",
       "      <td>28.86</td>\n",
       "      <td>2.14</td>\n",
       "      <td>2</td>\n",
       "    </tr>\n",
       "    <tr>\n",
       "      <th>2015-08-01</th>\n",
       "      <td>22.88</td>\n",
       "      <td>2.24</td>\n",
       "      <td>27.33</td>\n",
       "      <td>2.34</td>\n",
       "      <td>29.66</td>\n",
       "      <td>0.98</td>\n",
       "      <td>28.89</td>\n",
       "      <td>2.07</td>\n",
       "      <td>8</td>\n",
       "    </tr>\n",
       "    <tr>\n",
       "      <th>2015-09-01</th>\n",
       "      <td>22.91</td>\n",
       "      <td>2.57</td>\n",
       "      <td>27.48</td>\n",
       "      <td>2.63</td>\n",
       "      <td>29.73</td>\n",
       "      <td>1.04</td>\n",
       "      <td>29.00</td>\n",
       "      <td>2.28</td>\n",
       "      <td>9</td>\n",
       "    </tr>\n",
       "    <tr>\n",
       "      <th>2015-10-01</th>\n",
       "      <td>23.31</td>\n",
       "      <td>2.52</td>\n",
       "      <td>27.58</td>\n",
       "      <td>2.66</td>\n",
       "      <td>29.79</td>\n",
       "      <td>1.12</td>\n",
       "      <td>29.15</td>\n",
       "      <td>2.46</td>\n",
       "      <td>10</td>\n",
       "    </tr>\n",
       "    <tr>\n",
       "      <th>2015-11-01</th>\n",
       "      <td>23.83</td>\n",
       "      <td>2.24</td>\n",
       "      <td>27.91</td>\n",
       "      <td>2.93</td>\n",
       "      <td>30.30</td>\n",
       "      <td>1.67</td>\n",
       "      <td>29.60</td>\n",
       "      <td>2.95</td>\n",
       "      <td>11</td>\n",
       "    </tr>\n",
       "    <tr>\n",
       "      <th>2015-12-01</th>\n",
       "      <td>25.01</td>\n",
       "      <td>2.19</td>\n",
       "      <td>27.99</td>\n",
       "      <td>2.85</td>\n",
       "      <td>30.11</td>\n",
       "      <td>1.63</td>\n",
       "      <td>29.39</td>\n",
       "      <td>2.82</td>\n",
       "      <td>12</td>\n",
       "    </tr>\n",
       "    <tr>\n",
       "      <th>2016-01-01</th>\n",
       "      <td>25.93</td>\n",
       "      <td>1.41</td>\n",
       "      <td>28.21</td>\n",
       "      <td>2.58</td>\n",
       "      <td>29.65</td>\n",
       "      <td>1.35</td>\n",
       "      <td>29.17</td>\n",
       "      <td>2.60</td>\n",
       "      <td>1</td>\n",
       "    </tr>\n",
       "    <tr>\n",
       "      <th>2016-02-01</th>\n",
       "      <td>26.81</td>\n",
       "      <td>0.67</td>\n",
       "      <td>28.36</td>\n",
       "      <td>1.99</td>\n",
       "      <td>29.55</td>\n",
       "      <td>1.45</td>\n",
       "      <td>29.12</td>\n",
       "      <td>2.40</td>\n",
       "      <td>2</td>\n",
       "    </tr>\n",
       "  </tbody>\n",
       "</table>\n",
       "</div>"
      ],
      "text/plain": [
       "            Nino12  Nino12anom  Nino3  Nino3anom  Nino4  Nino4anom  Nino34  \\\n",
       "datetime                                                                     \n",
       "1982-11-01   24.59        3.00  27.62       2.64  29.23       0.60   28.81   \n",
       "1982-12-01   26.13        3.34  28.39       3.25  29.15       0.66   29.21   \n",
       "1983-01-01   27.42        2.96  28.92       3.29  29.00       0.70   29.36   \n",
       "1983-02-01   28.09        2.02  28.92       2.55  28.79       0.69   29.13   \n",
       "1997-08-01   24.80        4.15  27.84       2.85  29.26       0.58   28.84   \n",
       "1997-09-01   24.40        4.04  27.84       2.99  29.32       0.63   28.93   \n",
       "1997-10-01   24.58        3.76  28.17       3.25  29.32       0.66   29.23   \n",
       "1997-11-01   25.63        4.04  28.55       3.57  29.49       0.86   29.32   \n",
       "1997-12-01   26.92        4.13  28.76       3.62  29.32       0.83   29.26   \n",
       "1998-01-01   28.22        3.76  28.94       3.31  29.01       0.71   29.10   \n",
       "1998-02-01   28.98        2.91  28.93       2.56  28.87       0.77   28.86   \n",
       "2015-08-01   22.88        2.24  27.33       2.34  29.66       0.98   28.89   \n",
       "2015-09-01   22.91        2.57  27.48       2.63  29.73       1.04   29.00   \n",
       "2015-10-01   23.31        2.52  27.58       2.66  29.79       1.12   29.15   \n",
       "2015-11-01   23.83        2.24  27.91       2.93  30.30       1.67   29.60   \n",
       "2015-12-01   25.01        2.19  27.99       2.85  30.11       1.63   29.39   \n",
       "2016-01-01   25.93        1.41  28.21       2.58  29.65       1.35   29.17   \n",
       "2016-02-01   26.81        0.67  28.36       1.99  29.55       1.45   29.12   \n",
       "\n",
       "            Nino34anom  month  \n",
       "datetime                       \n",
       "1982-11-01        2.16     11  \n",
       "1982-12-01        2.64     12  \n",
       "1983-01-01        2.79      1  \n",
       "1983-02-01        2.41      2  \n",
       "1997-08-01        2.02      8  \n",
       "1997-09-01        2.21      9  \n",
       "1997-10-01        2.54     10  \n",
       "1997-11-01        2.67     11  \n",
       "1997-12-01        2.69     12  \n",
       "1998-01-01        2.53      1  \n",
       "1998-02-01        2.14      2  \n",
       "2015-08-01        2.07      8  \n",
       "2015-09-01        2.28      9  \n",
       "2015-10-01        2.46     10  \n",
       "2015-11-01        2.95     11  \n",
       "2015-12-01        2.82     12  \n",
       "2016-01-01        2.60      1  \n",
       "2016-02-01        2.40      2  "
      ]
     },
     "execution_count": 40,
     "metadata": {},
     "output_type": "execute_result"
    }
   ],
   "source": [
    "df[df.Nino34anom > 2]"
   ]
  },
  {
   "cell_type": "code",
   "execution_count": 42,
   "id": "2206cacd-f806-4e4d-869c-218ef93ceb28",
   "metadata": {},
   "outputs": [
    {
     "data": {
      "image/png": "[encoded data removed]",
      "text/plain": [
       "<Figure size 432x288 with 1 Axes>"
      ]
     },
     "metadata": {
      "needs_background": "light"
     },
     "output_type": "display_data"
    }
   ],
   "source": [
    "<<<<<<< LOCAL CELL DELETED >>>>>>>\n",
    "df[nino_temp_cols].plot();"
   ]
  },
  {
   "cell_type": "code",
   "execution_count": 43,
   "id": "16bf00e9-a057-4394-84f5-a0372910bc28",
   "metadata": {},
   "outputs": [
    {
     "data": {
      "image/png": "[encoded data removed]",
      "text/plain": [
       "<Figure size 432x288 with 1 Axes>"
      ]
     },
     "metadata": {
      "needs_background": "light"
     },
     "output_type": "display_data"
    }
   ],
   "source": [
    "<<<<<<< LOCAL CELL DELETED >>>>>>>\n",
    "df[nino_anom_cols].plot();"
   ]
  },
  {
   "cell_type": "markdown",
   "id": "11b451be-a9b1-4334-8a41-82e91ddd9f8a",
   "metadata": {},
   "source": [
    "### Resampling"
   ]
  },
  {
   "cell_type": "code",
   "execution_count": null,
   "id": "9d76ba2c-87dd-42bf-acf6-6c5002dc31fe",
   "metadata": {},
   "outputs": [
    {
     "data": {
      "image/png": "[encoded data removed]",
      "text/plain": [
       "<Figure size 432x288 with 1 Axes>"
      ]
     },
     "metadata": {
      "needs_background": "light"
     },
     "output_type": "display_data"
    },
    {
     "data": {
      "image/png": "[encoded data removed]",
      "text/plain": [
       "<Figure size 432x288 with 1 Axes>"
      ]
     },
     "metadata": {
      "needs_background": "light"
     },
     "output_type": "display_data"
    }
   ],
   "source": [
    "df.Nino34.plot();"
   ]
  },
  {
   "cell_type": "code",
   "execution_count": null,
   "id": "5e49332c-0942-46c5-a51d-d41b864cdb91",
   "metadata": {},
   "outputs": [
    {
     "data": {
      "image/png": "[encoded data removed]",
      "text/plain": [
       "<Figure size 432x288 with 1 Axes>"
      ]
     },
     "metadata": {
      "needs_background": "light"
     },
     "output_type": "display_data"
    },
    {
     "data": {
      "image/png": "[encoded data removed]",
      "text/plain": [
       "<Figure size 432x288 with 1 Axes>"
      ]
     },
     "metadata": {
      "needs_background": "light"
     },
     "output_type": "display_data"
    }
   ],
   "source": [
    "df.Nino34.resample('1Y').mean().plot();"
   ]
  },
  {
   "cell_type": "markdown",
   "id": "a8e797a9-e76c-4f6f-9ff6-7e388e9664d9",
   "metadata": {},
   "source": [
    "### Applying operations to a dataframe\n",
    "\n",
    "Often times, people are interested in applying calculations to data within pandas dataframes. Here, we setup a function to convert from degrees Celsius to Kelvin"
   ]
  },
  {
   "cell_type": "code",
   "execution_count": null,
   "id": "95daccec-17d3-48c3-8472-ed21b93f9d4d",
   "metadata": {},
   "outputs": [],
   "source": [
    "def convert_degc_to_kelvin(temperature_degc):\n",
    "    \"\"\"\n",
    "    Converts from degrees celsius to Kelvin\n",
    "    \"\"\"\n",
    "    \n",
    "    return temperature_degc + 273.15"
   ]
  },
  {
   "cell_type": "markdown",
   "id": "dc8dc438-cad9-4f8b-a9c1-c000ede7ba93",
   "metadata": {},
   "source": [
    "Now, this function works a single value"
   ]
  },
  {
   "cell_type": "code",
   "execution_count": null,
   "id": "7a1827c1-5df9-4a77-8be5-011cbe324d78",
   "metadata": {},
   "outputs": [
    {
     "data": {
      "text/plain": [
       "273.15"
      ]
     },
     "execution_count": null,
     "metadata": {},
     "output_type": "execute_result"
    }
   ],
   "source": [
    "# Convert a single value\n",
    "convert_degc_to_kelvin(0)"
   ]
  },
  {
   "cell_type": "markdown",
   "id": "5f2881dd-52ec-449f-b621-e61c01ea275d",
   "metadata": {},
   "source": [
    "But what if we want to apply this to our dataframe? We can subset for Nino34, which is in degrees Celsius"
   ]
  },
  {
   "cell_type": "code",
   "execution_count": 48,
   "id": "af3bbd73-0d3a-4ff1-a3bf-7d7eccf3a292",
   "metadata": {},
   "outputs": [
    {
     "data": {
      "text/plain": [
       "datetime\n",
       "1982-01-01    26.72\n",
       "1982-02-01    26.70\n",
       "1982-03-01    27.20\n",
       "1982-04-01    28.02\n",
       "1982-05-01    28.54\n",
       "              ...  \n",
       "2020-12-01    25.53\n",
       "2021-01-01    25.58\n",
       "2021-02-01    25.81\n",
       "2021-03-01    26.75\n",
       "2021-04-01    27.40\n",
       "Name: Nino34, Length: 472, dtype: float64"
      ]
     },
     "execution_count": 48,
     "metadata": {},
     "output_type": "execute_result"
    }
   ],
   "source": [
    "nino34_series"
   ]
  },
  {
   "cell_type": "markdown",
   "id": "b0a6f963-2140-4c42-a9ee-4cd25dd911da",
   "metadata": {},
   "source": [
    "Notice how the object type is a pandas series"
   ]
  },
  {
   "cell_type": "code",
   "execution_count": null,
   "id": "4b73e288-7f0d-4f0b-a5a0-a8118121a235",
   "metadata": {},
   "outputs": [
    {
     "data": {
      "text/plain": [
       "pandas.core.series.Series"
      ]
     },
     "execution_count": null,
     "metadata": {},
     "output_type": "execute_result"
    }
   ],
   "source": [
    "type(df.Nino12[0:10])"
   ]
  },
  {
   "cell_type": "markdown",
   "id": "c4ce5186-3b76-4c97-9308-dc4fa6ac92a9",
   "metadata": {},
   "source": [
    "If you call `.values`, the object type is now a numpy array. Pandas series values include numpy arrays, and calling `.values` returns the series as a numpy array!"
   ]
  },
  {
   "cell_type": "code",
   "execution_count": null,
   "id": "47b55cc5-829d-40be-8181-ad98f5e5da6b",
   "metadata": {},
   "outputs": [
    {
     "data": {
      "text/plain": [
       "numpy.ndarray"
      ]
     },
     "execution_count": null,
     "metadata": {},
     "output_type": "execute_result"
    }
   ],
   "source": [
    "type(df.Nino12.values[0:10])"
   ]
  },
  {
   "cell_type": "markdown",
   "id": "312a7ff7-428e-4666-ba28-ac748807d91e",
   "metadata": {},
   "source": [
    "Let's apply this calculation to our pandas series, which returns a pandas series"
   ]
  },
  {
   "cell_type": "code",
   "execution_count": null,
   "id": "80674e2f-3611-4f3c-9174-fd516273065c",
   "metadata": {},
   "outputs": [
    {
     "data": {
      "text/plain": [
       "datetime\n",
       "1982-01-01    299.87\n",
       "1982-02-01    299.85\n",
       "1982-03-01    300.35\n",
       "1982-04-01    301.17\n",
       "1982-05-01    301.69\n",
       "               ...  \n",
       "2020-12-01    298.68\n",
       "2021-01-01    298.73\n",
       "2021-02-01    298.96\n",
       "2021-03-01    299.90\n",
       "2021-04-01    300.55\n",
       "Name: Nino34, Length: 472, dtype: float64"
      ]
     },
     "execution_count": null,
     "metadata": {},
     "output_type": "execute_result"
    }
   ],
   "source": [
    "convert_degc_to_kelvin(nino34_series)"
   ]
  },
  {
   "cell_type": "markdown",
   "id": "838099bf-ce32-4318-b65b-30fc5ee4d8c8",
   "metadata": {},
   "source": [
    "If we include `.values`, it returns a `numpy array`"
   ]
  },
  {
   "cell_type": "code",
   "execution_count": null,
   "id": "46c58581-f620-44b5-b173-5213ce03b06a",
   "metadata": {},
   "outputs": [
    {
     "data": {
      "text/plain": [
       "array([299.87, 299.85, 300.35, 301.17, 301.69, 301.9 , 301.25, 301.08,\n",
       "       301.26, 301.79, 301.96, 302.36, 302.51, 302.28, 302.18, 302.06,\n",
       "       302.04, 301.39, 300.22, 299.68, 299.59, 299.02, 298.73, 298.74,\n",
       "       298.79, 299.54, 300.01, 300.54, 300.54, 300.01, 299.89, 299.49,\n",
       "       299.58, 299.08, 298.56, 298.15, 298.58, 298.82, 299.38, 299.95,\n",
       "       300.26, 300.01, 299.84, 299.65, 299.4 , 299.34, 299.34, 299.26,\n",
       "       298.94, 299.09, 299.8 , 300.59, 300.65, 300.84, 300.52, 300.3 ,\n",
       "       300.48, 300.72, 300.88, 300.85, 301.06, 301.17, 301.62, 301.95,\n",
       "       301.9 , 302.18, 301.95, 301.73, 301.54, 301.22, 301.14, 300.75,\n",
       "       300.47, 300.37, 300.46, 300.47, 299.63, 299.26, 298.72, 298.39,\n",
       "       298.58, 297.77, 297.42, 297.48, 297.68, 298.48, 299.05, 299.84,\n",
       "       300.24, 300.13, 299.89, 299.48, 299.4 , 299.41, 299.39, 299.53,\n",
       "       299.7 , 300.1 , 300.61, 301.17, 301.21, 300.73, 300.4 , 300.2 ,\n",
       "       299.9 , 300.13, 299.87, 300.06, 300.16, 300.08, 300.4 , 301.13,\n",
       "       301.5 , 301.51, 301.07, 300.59, 300.22, 300.78, 301.01, 301.52,\n",
       "       301.56, 301.78, 301.98, 302.29, 302.14, 301.17, 300.68, 299.79,\n",
       "       299.63, 299.49, 299.66, 299.88, 299.84, 300.12, 300.81, 301.74,\n",
       "       301.97, 301.43, 300.7 , 299.99, 300.07, 300.08, 300.06, 299.91,\n",
       "       299.75, 299.74, 300.42, 301.05, 301.19, 301.14, 300.5 , 300.5 ,\n",
       "       300.15, 300.64, 301.02, 301.02, 300.7 , 300.6 , 300.78, 301.08,\n",
       "       300.88, 300.74, 300.16, 299.48, 299.11, 298.82, 298.81, 298.72,\n",
       "       298.89, 299.  , 299.77, 300.51, 300.52, 300.47, 300.24, 299.71,\n",
       "       299.5 , 299.39, 299.34, 299.17, 299.11, 299.51, 300.18, 301.18,\n",
       "       301.75, 302.09, 302.07, 301.99, 302.08, 302.38, 302.47, 302.41,\n",
       "       302.25, 302.01, 301.82, 301.71, 301.62, 299.87, 299.09, 298.64,\n",
       "       298.76, 298.49, 298.33, 297.94, 298.05, 298.56, 299.4 , 299.99,\n",
       "       300.12, 299.75, 299.5 , 298.74, 298.86, 298.79, 298.27, 298.05,\n",
       "       297.8 , 298.34, 299.23, 300.16, 300.27, 300.18, 299.87, 299.6 ,\n",
       "       299.36, 299.11, 298.93, 298.74, 298.89, 299.26, 299.99, 300.67,\n",
       "       300.75, 300.83, 300.47, 300.02, 299.7 , 299.74, 299.6 , 299.32,\n",
       "       299.65, 300.1 , 300.47, 301.09, 301.3 , 301.58, 301.13, 300.94,\n",
       "       300.98, 301.2 , 301.42, 301.24, 300.91, 300.64, 300.96, 300.96,\n",
       "       300.52, 300.63, 300.58, 300.  , 300.11, 300.34, 300.2 , 300.04,\n",
       "       299.89, 300.01, 300.25, 300.99, 301.21, 300.91, 300.84, 300.69,\n",
       "       300.62, 300.53, 300.46, 300.46, 300.25, 300.11, 300.7 , 301.22,\n",
       "       301.35, 301.2 , 300.62, 300.03, 299.78, 299.9 , 299.49, 299.04,\n",
       "       298.79, 299.23, 299.72, 300.74, 301.06, 301.  , 300.5 , 300.37,\n",
       "       300.49, 300.62, 300.88, 300.91, 300.41, 299.96, 300.33, 300.93,\n",
       "       300.72, 300.7 , 299.94, 299.35, 298.92, 298.37, 298.21, 298.12,\n",
       "       297.86, 297.98, 299.22, 299.98, 300.33, 300.32, 300.34, 300.  ,\n",
       "       299.59, 299.48, 299.45, 298.89, 298.69, 299.19, 299.82, 300.65,\n",
       "       301.18, 301.26, 301.09, 300.68, 300.62, 300.78, 301.34, 301.45,\n",
       "       301.22, 301.09, 301.44, 301.51, 300.83, 300.15, 299.24, 298.65,\n",
       "       298.22, 298.16, 298.22, 298.1 , 298.08, 298.61, 299.38, 300.17,\n",
       "       300.57, 300.61, 300.11, 299.34, 299.13, 298.87, 298.75, 298.68,\n",
       "       298.64, 299.18, 299.78, 300.53, 300.95, 301.1 , 300.9 , 300.7 ,\n",
       "       300.39, 300.13, 300.16, 299.61, 299.31, 299.47, 300.15, 300.83,\n",
       "       300.72, 300.58, 300.06, 299.69, 299.8 , 299.51, 299.8 , 299.68,\n",
       "       299.21, 299.33, 300.14, 301.16, 301.46, 301.26, 300.55, 300.17,\n",
       "       300.32, 300.32, 300.65, 300.5 , 300.25, 300.44, 300.94, 301.71,\n",
       "       302.03, 302.11, 301.97, 302.04, 302.15, 302.3 , 302.75, 302.54,\n",
       "       302.32, 302.27, 302.05, 302.02, 301.3 , 300.68, 299.88, 299.43,\n",
       "       299.26, 299.11, 299.25, 299.31, 299.4 , 300.02, 300.49, 301.25,\n",
       "       301.45, 301.34, 300.76, 299.82, 299.44, 299.38, 298.94, 298.95,\n",
       "       298.97, 298.98, 299.63, 300.57, 300.87, 301.  , 300.67, 300.26,\n",
       "       300.25, 300.7 , 300.79, 300.68, 300.23, 300.56, 301.37, 301.75,\n",
       "       301.72, 301.39, 300.78, 300.12, 299.85, 300.46, 300.41, 300.22,\n",
       "       300.24, 300.29, 300.97, 301.47, 300.74, 300.45, 300.04, 299.33,\n",
       "       298.92, 298.45, 298.49, 298.68, 298.73, 298.96, 299.9 , 300.55])"
      ]
     },
     "execution_count": null,
     "metadata": {},
     "output_type": "execute_result"
    }
   ],
   "source": [
    "convert_degc_to_kelvin(nino34_series.values)"
   ]
  },
  {
   "cell_type": "markdown",
   "id": "57f8bfa9-f772-480c-a85a-692b48d4253f",
   "metadata": {},
   "source": [
    "We can now assign our `pandas series` with the converted temperatures to a new column in our dataframe!"
   ]
  },
  {
   "cell_type": "code",
   "execution_count": null,
   "id": "7ac669fe-af31-4fec-93f8-847054902869",
   "metadata": {},
   "outputs": [],
   "source": [
    "df['Nino34_degK'] = convert_degc_to_kelvin(nino34_series)"
   ]
  },
  {
   "cell_type": "code",
   "execution_count": null,
   "id": "27f20a23-ec1b-412c-949f-538612b1b59d",
   "metadata": {},
   "outputs": [
    {
     "data": {
      "text/plain": [
       "datetime\n",
       "1982-01-01    299.87\n",
       "1982-02-01    299.85\n",
       "1982-03-01    300.35\n",
       "1982-04-01    301.17\n",
       "1982-05-01    301.69\n",
       "               ...  \n",
       "2020-12-01    298.68\n",
       "2021-01-01    298.73\n",
       "2021-02-01    298.96\n",
       "2021-03-01    299.90\n",
       "2021-04-01    300.55\n",
       "Name: Nino34_degK, Length: 472, dtype: float64"
      ]
     },
     "execution_count": null,
     "metadata": {},
     "output_type": "execute_result"
    }
   ],
   "source": [
    "df.Nino34_degK"
   ]
  },
  {
   "cell_type": "markdown",
   "id": "838671a7-4854-4c4d-9194-05a340eb07b9",
   "metadata": {},
   "source": [
    "Notice how the name of our variable now matches the calculation\n",
    "\n",
    "Now that our analysis is done, we can save our data to a `csv` for later - or share with others!"
   ]
  },
  {
   "cell_type": "code",
   "execution_count": null,
   "id": "8355c568-fb05-4890-88ba-8561693c781f",
   "metadata": {},
   "outputs": [],
   "source": [
    "df.to_csv('nino_analyzed_output.csv')"
   ]
  },
  {
   "cell_type": "code",
   "execution_count": null,
   "id": "92986ecc-5862-4c0a-a008-f625463aae31",
   "metadata": {},
   "outputs": [
    {
     "data": {
      "text/html": [
       "<div>\n",
       "<style scoped>\n",
       "    .dataframe tbody tr th:only-of-type {\n",
       "        vertical-align: middle;\n",
       "    }\n",
       "\n",
       "    .dataframe tbody tr th {\n",
       "        vertical-align: top;\n",
       "    }\n",
       "\n",
       "    .dataframe thead th {\n",
       "        text-align: right;\n",
       "    }\n",
       "</style>\n",
       "<table border=\"1\" class=\"dataframe\">\n",
       "  <thead>\n",
       "    <tr style=\"text-align: right;\">\n",
       "      <th></th>\n",
       "      <th>Nino12</th>\n",
       "      <th>Nino12anom</th>\n",
       "      <th>Nino3</th>\n",
       "      <th>Nino3anom</th>\n",
       "      <th>Nino4</th>\n",
       "      <th>Nino4anom</th>\n",
       "      <th>Nino34</th>\n",
       "      <th>Nino34anom</th>\n",
       "      <th>month</th>\n",
       "      <th>Nino34_degK</th>\n",
       "    </tr>\n",
       "    <tr>\n",
       "      <th>datetime</th>\n",
       "      <th></th>\n",
       "      <th></th>\n",
       "      <th></th>\n",
       "      <th></th>\n",
       "      <th></th>\n",
       "      <th></th>\n",
       "      <th></th>\n",
       "      <th></th>\n",
       "      <th></th>\n",
       "      <th></th>\n",
       "    </tr>\n",
       "  </thead>\n",
       "  <tbody>\n",
       "    <tr>\n",
       "      <th>1982-01-01</th>\n",
       "      <td>24.29</td>\n",
       "      <td>-0.17</td>\n",
       "      <td>25.87</td>\n",
       "      <td>0.24</td>\n",
       "      <td>28.30</td>\n",
       "      <td>0.00</td>\n",
       "      <td>26.72</td>\n",
       "      <td>0.15</td>\n",
       "      <td>1</td>\n",
       "      <td>299.87</td>\n",
       "    </tr>\n",
       "    <tr>\n",
       "      <th>1982-02-01</th>\n",
       "      <td>25.49</td>\n",
       "      <td>-0.58</td>\n",
       "      <td>26.38</td>\n",
       "      <td>0.01</td>\n",
       "      <td>28.21</td>\n",
       "      <td>0.11</td>\n",
       "      <td>26.70</td>\n",
       "      <td>-0.02</td>\n",
       "      <td>2</td>\n",
       "      <td>299.85</td>\n",
       "    </tr>\n",
       "    <tr>\n",
       "      <th>1982-03-01</th>\n",
       "      <td>25.21</td>\n",
       "      <td>-1.31</td>\n",
       "      <td>26.98</td>\n",
       "      <td>-0.16</td>\n",
       "      <td>28.41</td>\n",
       "      <td>0.22</td>\n",
       "      <td>27.20</td>\n",
       "      <td>-0.02</td>\n",
       "      <td>3</td>\n",
       "      <td>300.35</td>\n",
       "    </tr>\n",
       "    <tr>\n",
       "      <th>1982-04-01</th>\n",
       "      <td>24.50</td>\n",
       "      <td>-0.97</td>\n",
       "      <td>27.68</td>\n",
       "      <td>0.18</td>\n",
       "      <td>28.92</td>\n",
       "      <td>0.42</td>\n",
       "      <td>28.02</td>\n",
       "      <td>0.24</td>\n",
       "      <td>4</td>\n",
       "      <td>301.17</td>\n",
       "    </tr>\n",
       "    <tr>\n",
       "      <th>1982-05-01</th>\n",
       "      <td>23.97</td>\n",
       "      <td>-0.23</td>\n",
       "      <td>27.79</td>\n",
       "      <td>0.71</td>\n",
       "      <td>29.49</td>\n",
       "      <td>0.70</td>\n",
       "      <td>28.54</td>\n",
       "      <td>0.69</td>\n",
       "      <td>5</td>\n",
       "      <td>301.69</td>\n",
       "    </tr>\n",
       "    <tr>\n",
       "      <th>...</th>\n",
       "      <td>...</td>\n",
       "      <td>...</td>\n",
       "      <td>...</td>\n",
       "      <td>...</td>\n",
       "      <td>...</td>\n",
       "      <td>...</td>\n",
       "      <td>...</td>\n",
       "      <td>...</td>\n",
       "      <td>...</td>\n",
       "      <td>...</td>\n",
       "    </tr>\n",
       "    <tr>\n",
       "      <th>2020-12-01</th>\n",
       "      <td>22.16</td>\n",
       "      <td>-0.60</td>\n",
       "      <td>24.38</td>\n",
       "      <td>-0.83</td>\n",
       "      <td>27.65</td>\n",
       "      <td>-0.95</td>\n",
       "      <td>25.53</td>\n",
       "      <td>-1.12</td>\n",
       "      <td>12</td>\n",
       "      <td>298.68</td>\n",
       "    </tr>\n",
       "    <tr>\n",
       "      <th>2021-01-01</th>\n",
       "      <td>23.89</td>\n",
       "      <td>-0.64</td>\n",
       "      <td>25.06</td>\n",
       "      <td>-0.55</td>\n",
       "      <td>27.10</td>\n",
       "      <td>-1.25</td>\n",
       "      <td>25.58</td>\n",
       "      <td>-0.99</td>\n",
       "      <td>1</td>\n",
       "      <td>298.73</td>\n",
       "    </tr>\n",
       "    <tr>\n",
       "      <th>2021-02-01</th>\n",
       "      <td>25.55</td>\n",
       "      <td>-0.66</td>\n",
       "      <td>25.80</td>\n",
       "      <td>-0.57</td>\n",
       "      <td>27.20</td>\n",
       "      <td>-1.00</td>\n",
       "      <td>25.81</td>\n",
       "      <td>-0.92</td>\n",
       "      <td>2</td>\n",
       "      <td>298.96</td>\n",
       "    </tr>\n",
       "    <tr>\n",
       "      <th>2021-03-01</th>\n",
       "      <td>26.48</td>\n",
       "      <td>-0.26</td>\n",
       "      <td>26.80</td>\n",
       "      <td>-0.39</td>\n",
       "      <td>27.79</td>\n",
       "      <td>-0.55</td>\n",
       "      <td>26.75</td>\n",
       "      <td>-0.51</td>\n",
       "      <td>3</td>\n",
       "      <td>299.90</td>\n",
       "    </tr>\n",
       "    <tr>\n",
       "      <th>2021-04-01</th>\n",
       "      <td>24.89</td>\n",
       "      <td>-0.80</td>\n",
       "      <td>26.96</td>\n",
       "      <td>-0.65</td>\n",
       "      <td>28.47</td>\n",
       "      <td>-0.21</td>\n",
       "      <td>27.40</td>\n",
       "      <td>-0.49</td>\n",
       "      <td>4</td>\n",
       "      <td>300.55</td>\n",
       "    </tr>\n",
       "  </tbody>\n",
       "</table>\n",
       "<p>472 rows × 10 columns</p>\n",
       "</div>"
      ],
      "text/plain": [
       "            Nino12  Nino12anom  Nino3  Nino3anom  Nino4  Nino4anom  Nino34  \\\n",
       "datetime                                                                     \n",
       "1982-01-01   24.29       -0.17  25.87       0.24  28.30       0.00   26.72   \n",
       "1982-02-01   25.49       -0.58  26.38       0.01  28.21       0.11   26.70   \n",
       "1982-03-01   25.21       -1.31  26.98      -0.16  28.41       0.22   27.20   \n",
       "1982-04-01   24.50       -0.97  27.68       0.18  28.92       0.42   28.02   \n",
       "1982-05-01   23.97       -0.23  27.79       0.71  29.49       0.70   28.54   \n",
       "...            ...         ...    ...        ...    ...        ...     ...   \n",
       "2020-12-01   22.16       -0.60  24.38      -0.83  27.65      -0.95   25.53   \n",
       "2021-01-01   23.89       -0.64  25.06      -0.55  27.10      -1.25   25.58   \n",
       "2021-02-01   25.55       -0.66  25.80      -0.57  27.20      -1.00   25.81   \n",
       "2021-03-01   26.48       -0.26  26.80      -0.39  27.79      -0.55   26.75   \n",
       "2021-04-01   24.89       -0.80  26.96      -0.65  28.47      -0.21   27.40   \n",
       "\n",
       "            Nino34anom  month  Nino34_degK  \n",
       "datetime                                    \n",
       "1982-01-01        0.15      1       299.87  \n",
       "1982-02-01       -0.02      2       299.85  \n",
       "1982-03-01       -0.02      3       300.35  \n",
       "1982-04-01        0.24      4       301.17  \n",
       "1982-05-01        0.69      5       301.69  \n",
       "...                ...    ...          ...  \n",
       "2020-12-01       -1.12     12       298.68  \n",
       "2021-01-01       -0.99      1       298.73  \n",
       "2021-02-01       -0.92      2       298.96  \n",
       "2021-03-01       -0.51      3       299.90  \n",
       "2021-04-01       -0.49      4       300.55  \n",
       "\n",
       "[472 rows x 10 columns]"
      ]
     },
     "execution_count": null,
     "metadata": {},
     "output_type": "execute_result"
    }
   ],
   "source": [
    "pd.read_csv('nino_analyzed_output.csv', index_col=0, parse_dates=True)"
   ]
  }
 ],
 "metadata": {
  "kernelspec": {
   "display_name": "Python 3",
   "language": "python",
   "name": "python3"
  },
  "language_info": {
   "codemirror_mode": {
    "name": "ipython",
    "version": 3
   },
   "file_extension": ".py",
   "mimetype": "text/x-python",
   "name": "python",
   "nbconvert_exporter": "python",
   "pygments_lexer": "ipython3",
   "version": "3.9.4"
  }
 },
 "nbformat": 4,
 "nbformat_minor": 5
}
